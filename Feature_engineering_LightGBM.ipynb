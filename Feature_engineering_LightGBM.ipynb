{
 "cells": [
  {
   "cell_type": "code",
   "execution_count": 3,
   "metadata": {
    "execution": {
     "iopub.execute_input": "2020-05-29T17:40:44.192772Z",
     "iopub.status.busy": "2020-05-29T17:40:44.192162Z",
     "iopub.status.idle": "2020-05-29T17:40:44.852345Z",
     "shell.execute_reply": "2020-05-29T17:40:44.852001Z",
     "shell.execute_reply.started": "2020-05-29T17:40:44.192692Z"
    }
   },
   "outputs": [],
   "source": [
    "import pandas as pd\n",
    "from modeling import feature_engineering, get_best_params,closest, agg_function,agg_diff_fun, save_object, load_object, model_predict, save_csv\n",
    "import numpy as np\n",
    "import reverse_geocoder as revgc\n",
    "import xgboost as xgb\n",
    "from xgboost import XGBClassifier\n",
    "from sklearn.model_selection import StratifiedKFold, KFold\n",
    "from lightgbm import LGBMClassifier\n",
    "\n"
   ]
  },
  {
   "cell_type": "code",
   "execution_count": 2,
   "metadata": {
    "execution": {
     "iopub.execute_input": "2020-05-22T21:32:45.490107Z",
     "iopub.status.busy": "2020-05-22T21:32:45.489901Z",
     "iopub.status.idle": "2020-05-22T21:33:27.276843Z",
     "shell.execute_reply": "2020-05-22T21:33:27.276170Z",
     "shell.execute_reply.started": "2020-05-22T21:32:45.490088Z"
    }
   },
   "outputs": [
    {
     "name": "stdout",
     "output_type": "stream",
     "text": [
      "Loading formatted geocoded file...\n"
     ]
    }
   ],
   "source": [
    "df_train= pd.read_json('train.json')\n",
    "df_test= pd.read_json('test.json')\n",
    "metro= pd.read_csv('MetroStanice.csv')\n",
    "df_train[\"training\"]=1\n",
    "df_test[\"training\"]=0\n",
    "\n",
    "df= pd.concat([df_train,df_test],sort=True).reset_index(drop=True)\n",
    "\n",
    "mapping_features= pd.read_csv('feature_deduplication.csv')\n",
    "mydict= dict(zip(mapping_features.original_feature, mapping_features.unique_feature))\n",
    "#features and photos\n",
    "df[\"len_features\"] = df[\"features\"].apply(len)\n",
    "df[\"len_photos\"] = df[\"photos\"].apply(len)\n",
    "df['features']= df['features'].apply(lambda x: [item.lower() for item in x]) \n",
    "df['features_txt']= df['features'].apply(lambda x: ' '.join(x))\n",
    "df['features']=df['features'].apply(lambda x: [mydict[item] if item in mydict else item for item in x ])\n",
    "#pocet features\n",
    "#\n",
    "\n",
    "#timefromepoch\n",
    "import datetime\n",
    "#df['tstamp'] =df['created'].apply(lambda x:  datetime.datetime.strptime(x, '%Y-%m-%d %H:%M:%S').timestamp())\n",
    "#Datumove\n",
    "#df[\"date\"]=  df['created'].str[:7]\n",
    "df['created']=pd.to_datetime(df[\"created\"])\n",
    "#df['day'] = df['created'].dt.day\n",
    "#df['days']=(df[\"created\"]-min(df[\"created\"])).apply(lambda x: x.days)\n",
    "df['dayofweek'] = df['created'].dt.dayofweek\n",
    "#cylicke\n",
    "df['hr'] = df['created'].dt.hour\n",
    "df['mnth'] = df['created'].dt.month\n",
    "df['nwords_description']= df['description'].apply(lambda x: x.count(' ')+1)\n",
    "df['price_digits']=df['price'].apply(lambda x: len(str(x)))\n",
    "df['price'] = np.log(df['price'])\n",
    "\n",
    "# GEO\n",
    "coordinates= df[[\"latitude\",\"longitude\"]].values\n",
    "coordinates_tuple=tuple((x[0],x[1]) for x in coordinates)\n",
    "adresy=revgc.search(coordinates_tuple)\n",
    "df=pd.concat([df,pd.DataFrame(adresy)],axis=1)\n",
    "\n",
    "\n",
    "#label encoding\n",
    "event_dictionary ={'low' : 1, 'medium' : 2, 'high' : 3} \n",
    "df['interest_integer'] =df['interest_level'].map(event_dictionary) \n",
    "\n",
    "#interakcie zakladna intuicia\n",
    "df['bed+bath']=df['bedrooms']+df['bathrooms']\n",
    "df['price/bed']=df['price']/(df['bedrooms']+1e-16)\n",
    "df['price/bed+bath']=df['price']/(df['bed+bath']+1e-16)\n",
    "\n",
    "training='training'\n",
    "label='interest_integer'\n",
    "\n",
    "metro=metro.loc[:,['lat','lon']]\n",
    "metro=metro.to_dict('records')\n",
    "dfmetro=df.loc[:,['latitude','longitude']]\n",
    "dfmetro=dfmetro.to_dict('records')\n",
    "x=[]\n",
    "for i in dfmetro:\n",
    "    x.append(closest(metro, i))\n",
    "df['metro']=x\n",
    "\n",
    "\n",
    "#drop columns\n",
    "df=df.drop(columns=['photos','created','listing_id','lat','lon','latitude','longitude'])"
   ]
  },
  {
   "cell_type": "code",
   "execution_count": 3,
   "metadata": {
    "execution": {
     "iopub.execute_input": "2020-05-22T21:33:27.277998Z",
     "iopub.status.busy": "2020-05-22T21:33:27.277739Z",
     "iopub.status.idle": "2020-05-23T00:13:04.991745Z",
     "shell.execute_reply": "2020-05-23T00:13:04.991197Z",
     "shell.execute_reply.started": "2020-05-22T21:33:27.277971Z"
    }
   },
   "outputs": [
    {
     "name": "stdout",
     "output_type": "stream",
     "text": [
      "2020-05-22 23:33:27.281292\n"
     ]
    },
    {
     "name": "stderr",
     "output_type": "stream",
     "text": [
      "100%|██████████| 14/14 [02:08<00:00,  9.17s/it]\n",
      "100%|██████████| 13/13 [01:59<00:00,  9.15s/it]\n",
      "100%|██████████| 12/12 [01:48<00:00,  9.02s/it]\n"
     ]
    },
    {
     "name": "stdout",
     "output_type": "stream",
     "text": [
      "after numeric feature selection:  ['bathrooms', 'bedrooms', 'price', 'len_features', 'len_photos', 'hr', 'mnth', 'nwords_description', 'bed+bath', 'price/bed', 'price/bed+bath', 'metro'] 0.631485377550728\n"
     ]
    },
    {
     "name": "stderr",
     "output_type": "stream",
     "text": [
      "100%|██████████| 50/50 [10:06<00:00, 12.13s/it]\n",
      "  0%|          | 0/7 [00:00<?, ?it/s]"
     ]
    },
    {
     "name": "stdout",
     "output_type": "stream",
     "text": [
      "after TOP N features:  ['bathrooms', 'bedrooms', 'price', 'len_features', 'len_photos', 'hr', 'mnth', 'nwords_description', 'bed+bath', 'price/bed', 'price/bed+bath', 'metro', 'laundry', 'elevator', 'hardwood', 'cats allowed', 'dogs allowed', 'concierge', 'no fee', 'fitness center', 'pre war', 'roof', 'swimming pool', 'exclusive', 'common outdoor space', 'simplex', 'fireplace', 'low-rise', 'reduced fee', 'furnished', 'publicoutdoor', 'renovated', 'pool', 'on-site garage', 'light', 'pets'] 0.611096158585503\n"
     ]
    },
    {
     "name": "stderr",
     "output_type": "stream",
     "text": [
      "100%|██████████| 7/7 [1:22:40<00:00, 708.58s/it]\n",
      "  0%|          | 0/4 [00:00<?, ?it/s]"
     ]
    },
    {
     "name": "stdout",
     "output_type": "stream",
     "text": [
      "after numeric features aggregated by categorical features ['bathrooms', 'bedrooms', 'price', 'len_features', 'len_photos', 'hr', 'mnth', 'nwords_description', 'bed+bath', 'price/bed', 'price/bed+bath', 'metro', 'laundry', 'elevator', 'hardwood', 'cats allowed', 'dogs allowed', 'concierge', 'no fee', 'fitness center', 'pre war', 'roof', 'swimming pool', 'exclusive', 'common outdoor space', 'simplex', 'fireplace', 'low-rise', 'reduced fee', 'furnished', 'publicoutdoor', 'renovated', 'pool', 'on-site garage', 'light', 'pets', 'mean_bathrooms_by_building_id', 'median_bathrooms_by_building_id', 'sum_bathrooms_by_building_id', 'std_bathrooms_by_building_id', 'bathrooms-mean_bathrooms_by_building_id', 'bathrooms-median_bathrooms_by_building_id', 'mean_bedrooms_by_building_id', 'median_bedrooms_by_building_id', 'sum_bedrooms_by_building_id', 'std_bedrooms_by_building_id', 'bedrooms-mean_bedrooms_by_building_id', 'bedrooms-median_bedrooms_by_building_id', 'mean_price_by_building_id', 'median_price_by_building_id', 'sum_price_by_building_id', 'std_price_by_building_id', 'price-mean_price_by_building_id', 'price-median_price_by_building_id', 'mean_len_features_by_building_id', 'median_len_features_by_building_id', 'sum_len_features_by_building_id', 'std_len_features_by_building_id', 'len_features-mean_len_features_by_building_id', 'len_features-median_len_features_by_building_id', 'mean_len_photos_by_building_id', 'median_len_photos_by_building_id', 'sum_len_photos_by_building_id', 'std_len_photos_by_building_id', 'len_photos-mean_len_photos_by_building_id', 'len_photos-median_len_photos_by_building_id', 'mean_hr_by_building_id', 'median_hr_by_building_id', 'sum_hr_by_building_id', 'std_hr_by_building_id', 'hr-mean_hr_by_building_id', 'hr-median_hr_by_building_id', 'mean_mnth_by_building_id', 'median_mnth_by_building_id', 'sum_mnth_by_building_id', 'std_mnth_by_building_id', 'mnth-mean_mnth_by_building_id', 'mnth-median_mnth_by_building_id', 'mean_price_digits_by_building_id', 'median_price_digits_by_building_id', 'sum_price_digits_by_building_id', 'std_price_digits_by_building_id', 'price_digits-mean_price_digits_by_building_id', 'price_digits-median_price_digits_by_building_id', 'mean_price/bed_by_building_id', 'median_price/bed_by_building_id', 'sum_price/bed_by_building_id', 'std_price/bed_by_building_id', 'price/bed-mean_price/bed_by_building_id', 'price/bed-median_price/bed_by_building_id', 'mean_price/bed+bath_by_building_id', 'median_price/bed+bath_by_building_id', 'sum_price/bed+bath_by_building_id', 'std_price/bed+bath_by_building_id', 'price/bed+bath-mean_price/bed+bath_by_building_id', 'price/bed+bath-median_price/bed+bath_by_building_id', 'mean_bathrooms_by_display_address', 'median_bathrooms_by_display_address', 'sum_bathrooms_by_display_address', 'std_bathrooms_by_display_address', 'bathrooms-mean_bathrooms_by_display_address', 'bathrooms-median_bathrooms_by_display_address', 'mean_bedrooms_by_display_address', 'median_bedrooms_by_display_address', 'sum_bedrooms_by_display_address', 'std_bedrooms_by_display_address', 'bedrooms-mean_bedrooms_by_display_address', 'bedrooms-median_bedrooms_by_display_address', 'mean_price_by_display_address', 'median_price_by_display_address', 'sum_price_by_display_address', 'std_price_by_display_address', 'price-mean_price_by_display_address', 'price-median_price_by_display_address', 'mean_len_features_by_display_address', 'median_len_features_by_display_address', 'sum_len_features_by_display_address', 'std_len_features_by_display_address', 'len_features-mean_len_features_by_display_address', 'len_features-median_len_features_by_display_address', 'mean_hr_by_display_address', 'median_hr_by_display_address', 'sum_hr_by_display_address', 'std_hr_by_display_address', 'hr-mean_hr_by_display_address', 'hr-median_hr_by_display_address', 'mean_nwords_description_by_display_address', 'median_nwords_description_by_display_address', 'sum_nwords_description_by_display_address', 'std_nwords_description_by_display_address', 'nwords_description-mean_nwords_description_by_display_address', 'nwords_description-median_nwords_description_by_display_address', 'mean_bed+bath_by_display_address', 'median_bed+bath_by_display_address', 'sum_bed+bath_by_display_address', 'std_bed+bath_by_display_address', 'bed+bath-mean_bed+bath_by_display_address', 'bed+bath-median_bed+bath_by_display_address', 'mean_bathrooms_by_manager_id', 'median_bathrooms_by_manager_id', 'sum_bathrooms_by_manager_id', 'std_bathrooms_by_manager_id', 'bathrooms-mean_bathrooms_by_manager_id', 'bathrooms-median_bathrooms_by_manager_id', 'mean_bedrooms_by_manager_id', 'median_bedrooms_by_manager_id', 'sum_bedrooms_by_manager_id', 'std_bedrooms_by_manager_id', 'bedrooms-mean_bedrooms_by_manager_id', 'bedrooms-median_bedrooms_by_manager_id', 'mean_price_by_manager_id', 'median_price_by_manager_id', 'sum_price_by_manager_id', 'std_price_by_manager_id', 'price-mean_price_by_manager_id', 'price-median_price_by_manager_id', 'mean_len_features_by_manager_id', 'median_len_features_by_manager_id', 'sum_len_features_by_manager_id', 'std_len_features_by_manager_id', 'len_features-mean_len_features_by_manager_id', 'len_features-median_len_features_by_manager_id', 'mean_len_photos_by_manager_id', 'median_len_photos_by_manager_id', 'sum_len_photos_by_manager_id', 'std_len_photos_by_manager_id', 'len_photos-mean_len_photos_by_manager_id', 'len_photos-median_len_photos_by_manager_id', 'mean_dayofweek_by_manager_id', 'median_dayofweek_by_manager_id', 'sum_dayofweek_by_manager_id', 'std_dayofweek_by_manager_id', 'dayofweek-mean_dayofweek_by_manager_id', 'dayofweek-median_dayofweek_by_manager_id', 'mean_hr_by_manager_id', 'median_hr_by_manager_id', 'sum_hr_by_manager_id', 'std_hr_by_manager_id', 'hr-mean_hr_by_manager_id', 'hr-median_hr_by_manager_id', 'mean_mnth_by_manager_id', 'median_mnth_by_manager_id', 'sum_mnth_by_manager_id', 'std_mnth_by_manager_id', 'mnth-mean_mnth_by_manager_id', 'mnth-median_mnth_by_manager_id', 'mean_nwords_description_by_manager_id', 'median_nwords_description_by_manager_id', 'sum_nwords_description_by_manager_id', 'std_nwords_description_by_manager_id', 'nwords_description-mean_nwords_description_by_manager_id', 'nwords_description-median_nwords_description_by_manager_id', 'mean_price/bed+bath_by_manager_id', 'median_price/bed+bath_by_manager_id', 'sum_price/bed+bath_by_manager_id', 'std_price/bed+bath_by_manager_id', 'price/bed+bath-mean_price/bed+bath_by_manager_id', 'price/bed+bath-median_price/bed+bath_by_manager_id', 'mean_metro_by_manager_id', 'median_metro_by_manager_id', 'sum_metro_by_manager_id', 'std_metro_by_manager_id', 'metro-mean_metro_by_manager_id', 'metro-median_metro_by_manager_id', 'mean_bathrooms_by_street_address', 'median_bathrooms_by_street_address', 'sum_bathrooms_by_street_address', 'std_bathrooms_by_street_address', 'bathrooms-mean_bathrooms_by_street_address', 'bathrooms-median_bathrooms_by_street_address', 'mean_hr_by_street_address', 'median_hr_by_street_address', 'sum_hr_by_street_address', 'std_hr_by_street_address', 'hr-mean_hr_by_street_address', 'hr-median_hr_by_street_address', 'mean_bathrooms_by_name', 'median_bathrooms_by_name', 'sum_bathrooms_by_name', 'std_bathrooms_by_name', 'bathrooms-mean_bathrooms_by_name', 'bathrooms-median_bathrooms_by_name', 'mean_bedrooms_by_name', 'median_bedrooms_by_name', 'sum_bedrooms_by_name', 'std_bedrooms_by_name', 'bedrooms-mean_bedrooms_by_name', 'bedrooms-median_bedrooms_by_name', 'mean_price_by_name', 'median_price_by_name', 'sum_price_by_name', 'std_price_by_name', 'price-mean_price_by_name', 'price-median_price_by_name', 'mean_len_features_by_name', 'median_len_features_by_name', 'sum_len_features_by_name', 'std_len_features_by_name', 'len_features-mean_len_features_by_name', 'len_features-median_len_features_by_name', 'mean_dayofweek_by_name', 'median_dayofweek_by_name', 'sum_dayofweek_by_name', 'std_dayofweek_by_name', 'dayofweek-mean_dayofweek_by_name', 'dayofweek-median_dayofweek_by_name', 'mean_mnth_by_name', 'median_mnth_by_name', 'sum_mnth_by_name', 'std_mnth_by_name', 'mnth-mean_mnth_by_name', 'mnth-median_mnth_by_name', 'mean_bed+bath_by_name', 'median_bed+bath_by_name', 'sum_bed+bath_by_name', 'std_bed+bath_by_name', 'bed+bath-mean_bed+bath_by_name', 'bed+bath-median_bed+bath_by_name'] 0.5530013666155204\n"
     ]
    },
    {
     "name": "stderr",
     "output_type": "stream",
     "text": [
      "\n",
      "  0%|          | 0/6 [00:33<?, ?it/s]\u001b[A\n",
      " 25%|██▌       | 1/4 [00:43<02:10, 43.41s/it]\n",
      "  0%|          | 0/6 [00:33<?, ?it/s]\u001b[A\n",
      " 50%|█████     | 2/4 [01:27<01:27, 43.58s/it]\n",
      "  0%|          | 0/6 [00:33<?, ?it/s]\u001b[A\n",
      " 75%|███████▌  | 3/4 [02:10<00:43, 43.51s/it]\n",
      "  0%|          | 0/6 [00:33<?, ?it/s]\u001b[A\n",
      "100%|██████████| 4/4 [02:54<00:00, 43.53s/it]\n"
     ]
    },
    {
     "name": "stdout",
     "output_type": "stream",
     "text": [
      "numeric features interactions ['bathrooms', 'bedrooms', 'price', 'len_features', 'len_photos', 'hr', 'mnth', 'nwords_description', 'bed+bath', 'price/bed', 'price/bed+bath', 'metro', 'laundry', 'elevator', 'hardwood', 'cats allowed', 'dogs allowed', 'concierge', 'no fee', 'fitness center', 'pre war', 'roof', 'swimming pool', 'exclusive', 'common outdoor space', 'simplex', 'fireplace', 'low-rise', 'reduced fee', 'furnished', 'publicoutdoor', 'renovated', 'pool', 'on-site garage', 'light', 'pets', 'mean_bathrooms_by_building_id', 'median_bathrooms_by_building_id', 'sum_bathrooms_by_building_id', 'std_bathrooms_by_building_id', 'bathrooms-mean_bathrooms_by_building_id', 'bathrooms-median_bathrooms_by_building_id', 'mean_bedrooms_by_building_id', 'median_bedrooms_by_building_id', 'sum_bedrooms_by_building_id', 'std_bedrooms_by_building_id', 'bedrooms-mean_bedrooms_by_building_id', 'bedrooms-median_bedrooms_by_building_id', 'mean_price_by_building_id', 'median_price_by_building_id', 'sum_price_by_building_id', 'std_price_by_building_id', 'price-mean_price_by_building_id', 'price-median_price_by_building_id', 'mean_len_features_by_building_id', 'median_len_features_by_building_id', 'sum_len_features_by_building_id', 'std_len_features_by_building_id', 'len_features-mean_len_features_by_building_id', 'len_features-median_len_features_by_building_id', 'mean_len_photos_by_building_id', 'median_len_photos_by_building_id', 'sum_len_photos_by_building_id', 'std_len_photos_by_building_id', 'len_photos-mean_len_photos_by_building_id', 'len_photos-median_len_photos_by_building_id', 'mean_hr_by_building_id', 'median_hr_by_building_id', 'sum_hr_by_building_id', 'std_hr_by_building_id', 'hr-mean_hr_by_building_id', 'hr-median_hr_by_building_id', 'mean_mnth_by_building_id', 'median_mnth_by_building_id', 'sum_mnth_by_building_id', 'std_mnth_by_building_id', 'mnth-mean_mnth_by_building_id', 'mnth-median_mnth_by_building_id', 'mean_price_digits_by_building_id', 'median_price_digits_by_building_id', 'sum_price_digits_by_building_id', 'std_price_digits_by_building_id', 'price_digits-mean_price_digits_by_building_id', 'price_digits-median_price_digits_by_building_id', 'mean_price/bed_by_building_id', 'median_price/bed_by_building_id', 'sum_price/bed_by_building_id', 'std_price/bed_by_building_id', 'price/bed-mean_price/bed_by_building_id', 'price/bed-median_price/bed_by_building_id', 'mean_price/bed+bath_by_building_id', 'median_price/bed+bath_by_building_id', 'sum_price/bed+bath_by_building_id', 'std_price/bed+bath_by_building_id', 'price/bed+bath-mean_price/bed+bath_by_building_id', 'price/bed+bath-median_price/bed+bath_by_building_id', 'mean_bathrooms_by_display_address', 'median_bathrooms_by_display_address', 'sum_bathrooms_by_display_address', 'std_bathrooms_by_display_address', 'bathrooms-mean_bathrooms_by_display_address', 'bathrooms-median_bathrooms_by_display_address', 'mean_bedrooms_by_display_address', 'median_bedrooms_by_display_address', 'sum_bedrooms_by_display_address', 'std_bedrooms_by_display_address', 'bedrooms-mean_bedrooms_by_display_address', 'bedrooms-median_bedrooms_by_display_address', 'mean_price_by_display_address', 'median_price_by_display_address', 'sum_price_by_display_address', 'std_price_by_display_address', 'price-mean_price_by_display_address', 'price-median_price_by_display_address', 'mean_len_features_by_display_address', 'median_len_features_by_display_address', 'sum_len_features_by_display_address', 'std_len_features_by_display_address', 'len_features-mean_len_features_by_display_address', 'len_features-median_len_features_by_display_address', 'mean_hr_by_display_address', 'median_hr_by_display_address', 'sum_hr_by_display_address', 'std_hr_by_display_address', 'hr-mean_hr_by_display_address', 'hr-median_hr_by_display_address', 'mean_nwords_description_by_display_address', 'median_nwords_description_by_display_address', 'sum_nwords_description_by_display_address', 'std_nwords_description_by_display_address', 'nwords_description-mean_nwords_description_by_display_address', 'nwords_description-median_nwords_description_by_display_address', 'mean_bed+bath_by_display_address', 'median_bed+bath_by_display_address', 'sum_bed+bath_by_display_address', 'std_bed+bath_by_display_address', 'bed+bath-mean_bed+bath_by_display_address', 'bed+bath-median_bed+bath_by_display_address', 'mean_bathrooms_by_manager_id', 'median_bathrooms_by_manager_id', 'sum_bathrooms_by_manager_id', 'std_bathrooms_by_manager_id', 'bathrooms-mean_bathrooms_by_manager_id', 'bathrooms-median_bathrooms_by_manager_id', 'mean_bedrooms_by_manager_id', 'median_bedrooms_by_manager_id', 'sum_bedrooms_by_manager_id', 'std_bedrooms_by_manager_id', 'bedrooms-mean_bedrooms_by_manager_id', 'bedrooms-median_bedrooms_by_manager_id', 'mean_price_by_manager_id', 'median_price_by_manager_id', 'sum_price_by_manager_id', 'std_price_by_manager_id', 'price-mean_price_by_manager_id', 'price-median_price_by_manager_id', 'mean_len_features_by_manager_id', 'median_len_features_by_manager_id', 'sum_len_features_by_manager_id', 'std_len_features_by_manager_id', 'len_features-mean_len_features_by_manager_id', 'len_features-median_len_features_by_manager_id', 'mean_len_photos_by_manager_id', 'median_len_photos_by_manager_id', 'sum_len_photos_by_manager_id', 'std_len_photos_by_manager_id', 'len_photos-mean_len_photos_by_manager_id', 'len_photos-median_len_photos_by_manager_id', 'mean_dayofweek_by_manager_id', 'median_dayofweek_by_manager_id', 'sum_dayofweek_by_manager_id', 'std_dayofweek_by_manager_id', 'dayofweek-mean_dayofweek_by_manager_id', 'dayofweek-median_dayofweek_by_manager_id', 'mean_hr_by_manager_id', 'median_hr_by_manager_id', 'sum_hr_by_manager_id', 'std_hr_by_manager_id', 'hr-mean_hr_by_manager_id', 'hr-median_hr_by_manager_id', 'mean_mnth_by_manager_id', 'median_mnth_by_manager_id', 'sum_mnth_by_manager_id', 'std_mnth_by_manager_id', 'mnth-mean_mnth_by_manager_id', 'mnth-median_mnth_by_manager_id', 'mean_nwords_description_by_manager_id', 'median_nwords_description_by_manager_id', 'sum_nwords_description_by_manager_id', 'std_nwords_description_by_manager_id', 'nwords_description-mean_nwords_description_by_manager_id', 'nwords_description-median_nwords_description_by_manager_id', 'mean_price/bed+bath_by_manager_id', 'median_price/bed+bath_by_manager_id', 'sum_price/bed+bath_by_manager_id', 'std_price/bed+bath_by_manager_id', 'price/bed+bath-mean_price/bed+bath_by_manager_id', 'price/bed+bath-median_price/bed+bath_by_manager_id', 'mean_metro_by_manager_id', 'median_metro_by_manager_id', 'sum_metro_by_manager_id', 'std_metro_by_manager_id', 'metro-mean_metro_by_manager_id', 'metro-median_metro_by_manager_id', 'mean_bathrooms_by_street_address', 'median_bathrooms_by_street_address', 'sum_bathrooms_by_street_address', 'std_bathrooms_by_street_address', 'bathrooms-mean_bathrooms_by_street_address', 'bathrooms-median_bathrooms_by_street_address', 'mean_hr_by_street_address', 'median_hr_by_street_address', 'sum_hr_by_street_address', 'std_hr_by_street_address', 'hr-mean_hr_by_street_address', 'hr-median_hr_by_street_address', 'mean_bathrooms_by_name', 'median_bathrooms_by_name', 'sum_bathrooms_by_name', 'std_bathrooms_by_name', 'bathrooms-mean_bathrooms_by_name', 'bathrooms-median_bathrooms_by_name', 'mean_bedrooms_by_name', 'median_bedrooms_by_name', 'sum_bedrooms_by_name', 'std_bedrooms_by_name', 'bedrooms-mean_bedrooms_by_name', 'bedrooms-median_bedrooms_by_name', 'mean_price_by_name', 'median_price_by_name', 'sum_price_by_name', 'std_price_by_name', 'price-mean_price_by_name', 'price-median_price_by_name', 'mean_len_features_by_name', 'median_len_features_by_name', 'sum_len_features_by_name', 'std_len_features_by_name', 'len_features-mean_len_features_by_name', 'len_features-median_len_features_by_name', 'mean_dayofweek_by_name', 'median_dayofweek_by_name', 'sum_dayofweek_by_name', 'std_dayofweek_by_name', 'dayofweek-mean_dayofweek_by_name', 'dayofweek-median_dayofweek_by_name', 'mean_mnth_by_name', 'median_mnth_by_name', 'sum_mnth_by_name', 'std_mnth_by_name', 'mnth-mean_mnth_by_name', 'mnth-median_mnth_by_name', 'mean_bed+bath_by_name', 'median_bed+bath_by_name', 'sum_bed+bath_by_name', 'std_bed+bath_by_name', 'bed+bath-mean_bed+bath_by_name', 'bed+bath-median_bed+bath_by_name'] 0.5530013666155204\n"
     ]
    },
    {
     "name": "stderr",
     "output_type": "stream",
     "text": [
      "  0%|          | 0/7 [00:00<?, ?it/s]"
     ]
    },
    {
     "name": "stdout",
     "output_type": "stream",
     "text": [
      "building_id CB_target_encoding 0.5524697663212406\n"
     ]
    },
    {
     "name": "stderr",
     "output_type": "stream",
     "text": [
      " 14%|█▍        | 1/7 [02:17<13:44, 137.37s/it]"
     ]
    },
    {
     "name": "stdout",
     "output_type": "stream",
     "text": [
      "manager_id count_encoder 0.5517524656877772\n",
      "manager_id CB_target_encoding 0.5441237341622833\n"
     ]
    },
    {
     "name": "stderr",
     "output_type": "stream",
     "text": [
      " 43%|████▎     | 3/7 [04:49<07:56, 119.03s/it]"
     ]
    },
    {
     "name": "stdout",
     "output_type": "stream",
     "text": [
      "name label_encoder 0.5439166142465558\n",
      "name CB_target_encoding 0.5438501871272974\n"
     ]
    },
    {
     "name": "stderr",
     "output_type": "stream",
     "text": [
      " 71%|███████▏  | 5/7 [07:31<03:35, 107.58s/it]"
     ]
    },
    {
     "name": "stdout",
     "output_type": "stream",
     "text": [
      "admin1 count_encoder 0.5436138753484719\n"
     ]
    },
    {
     "name": "stderr",
     "output_type": "stream",
     "text": [
      " 86%|████████▌ | 6/7 [10:58<02:17, 137.48s/it]"
     ]
    },
    {
     "name": "stdout",
     "output_type": "stream",
     "text": [
      "admin2 count_encoder 0.5432826058234344\n"
     ]
    },
    {
     "name": "stderr",
     "output_type": "stream",
     "text": [
      "100%|██████████| 7/7 [13:51<00:00, 118.86s/it]\n",
      "  0%|          | 0/3 [00:00<?, ?it/s]/home/martas/anaconda3/envs/mirko/lib/python3.7/site-packages/sklearn/feature_extraction/text.py:385: UserWarning: Your stop_words may be inconsistent with your preprocessing. Tokenizing the stop words generated tokens ['abov', 'afterward', 'alon', 'alreadi', 'alway', 'ani', 'anoth', 'anyon', 'anyth', 'anywher', 'becam', 'becaus', 'becom', 'befor', 'besid', 'cri', 'describ', 'dure', 'els', 'elsewher', 'empti', 'everi', 'everyon', 'everyth', 'everywher', 'fifti', 'formerli', 'forti', 'ha', 'henc', 'hereaft', 'herebi', 'hi', 'howev', 'hundr', 'inde', 'latterli', 'mani', 'meanwhil', 'moreov', 'mostli', 'nobodi', 'noon', 'noth', 'nowher', 'onc', 'onli', 'otherwis', 'ourselv', 'perhap', 'pleas', 'seriou', 'sever', 'sinc', 'sincer', 'sixti', 'someon', 'someth', 'sometim', 'somewher', 'themselv', 'thenc', 'thereaft', 'therebi', 'therefor', 'thi', 'thu', 'togeth', 'twelv', 'twenti', 'veri', 'wa', 'whatev', 'whenc', 'whenev', 'wherea', 'whereaft', 'wherebi', 'wherev', 'whi', 'yourselv'] not in stop_words.\n",
      "  'stop_words.' % sorted(inconsistent))\n"
     ]
    },
    {
     "name": "stdout",
     "output_type": "stream",
     "text": [
      "after non-numeric features encoding:  ['bathrooms', 'bedrooms', 'price', 'len_features', 'len_photos', 'hr', 'mnth', 'nwords_description', 'bed+bath', 'price/bed', 'price/bed+bath', 'metro', 'laundry', 'elevator', 'hardwood', 'cats allowed', 'dogs allowed', 'concierge', 'no fee', 'fitness center', 'pre war', 'roof', 'swimming pool', 'exclusive', 'common outdoor space', 'simplex', 'fireplace', 'low-rise', 'reduced fee', 'furnished', 'publicoutdoor', 'renovated', 'pool', 'on-site garage', 'light', 'pets', 'mean_bathrooms_by_building_id', 'median_bathrooms_by_building_id', 'sum_bathrooms_by_building_id', 'std_bathrooms_by_building_id', 'bathrooms-mean_bathrooms_by_building_id', 'bathrooms-median_bathrooms_by_building_id', 'mean_bedrooms_by_building_id', 'median_bedrooms_by_building_id', 'sum_bedrooms_by_building_id', 'std_bedrooms_by_building_id', 'bedrooms-mean_bedrooms_by_building_id', 'bedrooms-median_bedrooms_by_building_id', 'mean_price_by_building_id', 'median_price_by_building_id', 'sum_price_by_building_id', 'std_price_by_building_id', 'price-mean_price_by_building_id', 'price-median_price_by_building_id', 'mean_len_features_by_building_id', 'median_len_features_by_building_id', 'sum_len_features_by_building_id', 'std_len_features_by_building_id', 'len_features-mean_len_features_by_building_id', 'len_features-median_len_features_by_building_id', 'mean_len_photos_by_building_id', 'median_len_photos_by_building_id', 'sum_len_photos_by_building_id', 'std_len_photos_by_building_id', 'len_photos-mean_len_photos_by_building_id', 'len_photos-median_len_photos_by_building_id', 'mean_hr_by_building_id', 'median_hr_by_building_id', 'sum_hr_by_building_id', 'std_hr_by_building_id', 'hr-mean_hr_by_building_id', 'hr-median_hr_by_building_id', 'mean_mnth_by_building_id', 'median_mnth_by_building_id', 'sum_mnth_by_building_id', 'std_mnth_by_building_id', 'mnth-mean_mnth_by_building_id', 'mnth-median_mnth_by_building_id', 'mean_price_digits_by_building_id', 'median_price_digits_by_building_id', 'sum_price_digits_by_building_id', 'std_price_digits_by_building_id', 'price_digits-mean_price_digits_by_building_id', 'price_digits-median_price_digits_by_building_id', 'mean_price/bed_by_building_id', 'median_price/bed_by_building_id', 'sum_price/bed_by_building_id', 'std_price/bed_by_building_id', 'price/bed-mean_price/bed_by_building_id', 'price/bed-median_price/bed_by_building_id', 'mean_price/bed+bath_by_building_id', 'median_price/bed+bath_by_building_id', 'sum_price/bed+bath_by_building_id', 'std_price/bed+bath_by_building_id', 'price/bed+bath-mean_price/bed+bath_by_building_id', 'price/bed+bath-median_price/bed+bath_by_building_id', 'mean_bathrooms_by_display_address', 'median_bathrooms_by_display_address', 'sum_bathrooms_by_display_address', 'std_bathrooms_by_display_address', 'bathrooms-mean_bathrooms_by_display_address', 'bathrooms-median_bathrooms_by_display_address', 'mean_bedrooms_by_display_address', 'median_bedrooms_by_display_address', 'sum_bedrooms_by_display_address', 'std_bedrooms_by_display_address', 'bedrooms-mean_bedrooms_by_display_address', 'bedrooms-median_bedrooms_by_display_address', 'mean_price_by_display_address', 'median_price_by_display_address', 'sum_price_by_display_address', 'std_price_by_display_address', 'price-mean_price_by_display_address', 'price-median_price_by_display_address', 'mean_len_features_by_display_address', 'median_len_features_by_display_address', 'sum_len_features_by_display_address', 'std_len_features_by_display_address', 'len_features-mean_len_features_by_display_address', 'len_features-median_len_features_by_display_address', 'mean_hr_by_display_address', 'median_hr_by_display_address', 'sum_hr_by_display_address', 'std_hr_by_display_address', 'hr-mean_hr_by_display_address', 'hr-median_hr_by_display_address', 'mean_nwords_description_by_display_address', 'median_nwords_description_by_display_address', 'sum_nwords_description_by_display_address', 'std_nwords_description_by_display_address', 'nwords_description-mean_nwords_description_by_display_address', 'nwords_description-median_nwords_description_by_display_address', 'mean_bed+bath_by_display_address', 'median_bed+bath_by_display_address', 'sum_bed+bath_by_display_address', 'std_bed+bath_by_display_address', 'bed+bath-mean_bed+bath_by_display_address', 'bed+bath-median_bed+bath_by_display_address', 'mean_bathrooms_by_manager_id', 'median_bathrooms_by_manager_id', 'sum_bathrooms_by_manager_id', 'std_bathrooms_by_manager_id', 'bathrooms-mean_bathrooms_by_manager_id', 'bathrooms-median_bathrooms_by_manager_id', 'mean_bedrooms_by_manager_id', 'median_bedrooms_by_manager_id', 'sum_bedrooms_by_manager_id', 'std_bedrooms_by_manager_id', 'bedrooms-mean_bedrooms_by_manager_id', 'bedrooms-median_bedrooms_by_manager_id', 'mean_price_by_manager_id', 'median_price_by_manager_id', 'sum_price_by_manager_id', 'std_price_by_manager_id', 'price-mean_price_by_manager_id', 'price-median_price_by_manager_id', 'mean_len_features_by_manager_id', 'median_len_features_by_manager_id', 'sum_len_features_by_manager_id', 'std_len_features_by_manager_id', 'len_features-mean_len_features_by_manager_id', 'len_features-median_len_features_by_manager_id', 'mean_len_photos_by_manager_id', 'median_len_photos_by_manager_id', 'sum_len_photos_by_manager_id', 'std_len_photos_by_manager_id', 'len_photos-mean_len_photos_by_manager_id', 'len_photos-median_len_photos_by_manager_id', 'mean_dayofweek_by_manager_id', 'median_dayofweek_by_manager_id', 'sum_dayofweek_by_manager_id', 'std_dayofweek_by_manager_id', 'dayofweek-mean_dayofweek_by_manager_id', 'dayofweek-median_dayofweek_by_manager_id', 'mean_hr_by_manager_id', 'median_hr_by_manager_id', 'sum_hr_by_manager_id', 'std_hr_by_manager_id', 'hr-mean_hr_by_manager_id', 'hr-median_hr_by_manager_id', 'mean_mnth_by_manager_id', 'median_mnth_by_manager_id', 'sum_mnth_by_manager_id', 'std_mnth_by_manager_id', 'mnth-mean_mnth_by_manager_id', 'mnth-median_mnth_by_manager_id', 'mean_nwords_description_by_manager_id', 'median_nwords_description_by_manager_id', 'sum_nwords_description_by_manager_id', 'std_nwords_description_by_manager_id', 'nwords_description-mean_nwords_description_by_manager_id', 'nwords_description-median_nwords_description_by_manager_id', 'mean_price/bed+bath_by_manager_id', 'median_price/bed+bath_by_manager_id', 'sum_price/bed+bath_by_manager_id', 'std_price/bed+bath_by_manager_id', 'price/bed+bath-mean_price/bed+bath_by_manager_id', 'price/bed+bath-median_price/bed+bath_by_manager_id', 'mean_metro_by_manager_id', 'median_metro_by_manager_id', 'sum_metro_by_manager_id', 'std_metro_by_manager_id', 'metro-mean_metro_by_manager_id', 'metro-median_metro_by_manager_id', 'mean_bathrooms_by_street_address', 'median_bathrooms_by_street_address', 'sum_bathrooms_by_street_address', 'std_bathrooms_by_street_address', 'bathrooms-mean_bathrooms_by_street_address', 'bathrooms-median_bathrooms_by_street_address', 'mean_hr_by_street_address', 'median_hr_by_street_address', 'sum_hr_by_street_address', 'std_hr_by_street_address', 'hr-mean_hr_by_street_address', 'hr-median_hr_by_street_address', 'mean_bathrooms_by_name', 'median_bathrooms_by_name', 'sum_bathrooms_by_name', 'std_bathrooms_by_name', 'bathrooms-mean_bathrooms_by_name', 'bathrooms-median_bathrooms_by_name', 'mean_bedrooms_by_name', 'median_bedrooms_by_name', 'sum_bedrooms_by_name', 'std_bedrooms_by_name', 'bedrooms-mean_bedrooms_by_name', 'bedrooms-median_bedrooms_by_name', 'mean_price_by_name', 'median_price_by_name', 'sum_price_by_name', 'std_price_by_name', 'price-mean_price_by_name', 'price-median_price_by_name', 'mean_len_features_by_name', 'median_len_features_by_name', 'sum_len_features_by_name', 'std_len_features_by_name', 'len_features-mean_len_features_by_name', 'len_features-median_len_features_by_name', 'mean_dayofweek_by_name', 'median_dayofweek_by_name', 'sum_dayofweek_by_name', 'std_dayofweek_by_name', 'dayofweek-mean_dayofweek_by_name', 'dayofweek-median_dayofweek_by_name', 'mean_mnth_by_name', 'median_mnth_by_name', 'sum_mnth_by_name', 'std_mnth_by_name', 'mnth-mean_mnth_by_name', 'mnth-median_mnth_by_name', 'mean_bed+bath_by_name', 'median_bed+bath_by_name', 'sum_bed+bath_by_name', 'std_bed+bath_by_name', 'bed+bath-mean_bed+bath_by_name', 'bed+bath-median_bed+bath_by_name', 'building_id', 'manager_id', 'name', 'admin1', 'admin2'] 0.5432826058234344\n",
      "1 <function stemming_tokenizer at 0x7fab08dfd3b0> 1\n",
      "0.5434228219206878\n",
      "1 <function stemming_tokenizer at 0x7fab08dfd3b0> 2\n",
      "1 <function stemming_tokenizer at 0x7fab08dfd3b0> 3\n",
      "0.5429945250217768\n",
      "1 <function stemming_tokenizer at 0x7fab08dfd3b0> 4\n",
      "1 <function stemming_tokenizer at 0x7fab08dfd3b0> 5\n"
     ]
    },
    {
     "name": "stderr",
     "output_type": "stream",
     "text": [
      "/home/martas/anaconda3/envs/mirko/lib/python3.7/site-packages/sklearn/feature_extraction/text.py:385: UserWarning: Your stop_words may be inconsistent with your preprocessing. Tokenizing the stop words generated tokens ['ha', 'le', 'u', 'wa'] not in stop_words.\n",
      "  'stop_words.' % sorted(inconsistent))\n"
     ]
    },
    {
     "name": "stdout",
     "output_type": "stream",
     "text": [
      "1 <modeling.LemmaTokenizer object at 0x7fab099da510> 1\n",
      "1 <modeling.LemmaTokenizer object at 0x7fab099da510> 2\n",
      "1 <modeling.LemmaTokenizer object at 0x7fab099da510> 3\n",
      "1 <modeling.LemmaTokenizer object at 0x7fab099da510> 4\n",
      "1 <modeling.LemmaTokenizer object at 0x7fab099da510> 5\n",
      "1 None 1\n",
      "1 None 2\n",
      "1 None 3\n",
      "1 None 4\n"
     ]
    },
    {
     "name": "stderr",
     "output_type": "stream",
     "text": [
      " 33%|███▎      | 1/3 [14:00<28:00, 840.19s/it]"
     ]
    },
    {
     "name": "stdout",
     "output_type": "stream",
     "text": [
      "1 None 5\n"
     ]
    },
    {
     "name": "stderr",
     "output_type": "stream",
     "text": [
      "/home/martas/anaconda3/envs/mirko/lib/python3.7/site-packages/sklearn/feature_extraction/text.py:385: UserWarning: Your stop_words may be inconsistent with your preprocessing. Tokenizing the stop words generated tokens ['abov', 'afterward', 'alon', 'alreadi', 'alway', 'ani', 'anoth', 'anyon', 'anyth', 'anywher', 'becam', 'becaus', 'becom', 'befor', 'besid', 'cri', 'describ', 'dure', 'els', 'elsewher', 'empti', 'everi', 'everyon', 'everyth', 'everywher', 'fifti', 'formerli', 'forti', 'ha', 'henc', 'hereaft', 'herebi', 'hi', 'howev', 'hundr', 'inde', 'latterli', 'mani', 'meanwhil', 'moreov', 'mostli', 'nobodi', 'noon', 'noth', 'nowher', 'onc', 'onli', 'otherwis', 'ourselv', 'perhap', 'pleas', 'seriou', 'sever', 'sinc', 'sincer', 'sixti', 'someon', 'someth', 'sometim', 'somewher', 'themselv', 'thenc', 'thereaft', 'therebi', 'therefor', 'thi', 'thu', 'togeth', 'twelv', 'twenti', 'veri', 'wa', 'whatev', 'whenc', 'whenev', 'wherea', 'whereaft', 'wherebi', 'wherev', 'whi', 'yourselv'] not in stop_words.\n",
      "  'stop_words.' % sorted(inconsistent))\n"
     ]
    },
    {
     "name": "stdout",
     "output_type": "stream",
     "text": [
      "2 <function stemming_tokenizer at 0x7fab08dfd3b0> 1\n",
      "2 <function stemming_tokenizer at 0x7fab08dfd3b0> 2\n",
      "2 <function stemming_tokenizer at 0x7fab08dfd3b0> 3\n",
      "2 <function stemming_tokenizer at 0x7fab08dfd3b0> 4\n",
      "2 <function stemming_tokenizer at 0x7fab08dfd3b0> 5\n"
     ]
    },
    {
     "name": "stderr",
     "output_type": "stream",
     "text": [
      "/home/martas/anaconda3/envs/mirko/lib/python3.7/site-packages/sklearn/feature_extraction/text.py:385: UserWarning: Your stop_words may be inconsistent with your preprocessing. Tokenizing the stop words generated tokens ['ha', 'le', 'u', 'wa'] not in stop_words.\n",
      "  'stop_words.' % sorted(inconsistent))\n"
     ]
    },
    {
     "name": "stdout",
     "output_type": "stream",
     "text": [
      "2 <modeling.LemmaTokenizer object at 0x7fab099da510> 1\n",
      "2 <modeling.LemmaTokenizer object at 0x7fab099da510> 2\n",
      "2 <modeling.LemmaTokenizer object at 0x7fab099da510> 3\n",
      "2 <modeling.LemmaTokenizer object at 0x7fab099da510> 4\n",
      "2 <modeling.LemmaTokenizer object at 0x7fab099da510> 5\n",
      "2 None 1\n",
      "2 None 2\n",
      "2 None 3\n",
      "2 None 4\n"
     ]
    },
    {
     "name": "stderr",
     "output_type": "stream",
     "text": [
      " 67%|██████▋   | 2/3 [28:25<14:07, 847.87s/it]"
     ]
    },
    {
     "name": "stdout",
     "output_type": "stream",
     "text": [
      "2 None 5\n"
     ]
    },
    {
     "name": "stderr",
     "output_type": "stream",
     "text": [
      "/home/martas/anaconda3/envs/mirko/lib/python3.7/site-packages/sklearn/feature_extraction/text.py:385: UserWarning: Your stop_words may be inconsistent with your preprocessing. Tokenizing the stop words generated tokens ['abov', 'afterward', 'alon', 'alreadi', 'alway', 'ani', 'anoth', 'anyon', 'anyth', 'anywher', 'becam', 'becaus', 'becom', 'befor', 'besid', 'cri', 'describ', 'dure', 'els', 'elsewher', 'empti', 'everi', 'everyon', 'everyth', 'everywher', 'fifti', 'formerli', 'forti', 'ha', 'henc', 'hereaft', 'herebi', 'hi', 'howev', 'hundr', 'inde', 'latterli', 'mani', 'meanwhil', 'moreov', 'mostli', 'nobodi', 'noon', 'noth', 'nowher', 'onc', 'onli', 'otherwis', 'ourselv', 'perhap', 'pleas', 'seriou', 'sever', 'sinc', 'sincer', 'sixti', 'someon', 'someth', 'sometim', 'somewher', 'themselv', 'thenc', 'thereaft', 'therebi', 'therefor', 'thi', 'thu', 'togeth', 'twelv', 'twenti', 'veri', 'wa', 'whatev', 'whenc', 'whenev', 'wherea', 'whereaft', 'wherebi', 'wherev', 'whi', 'yourselv'] not in stop_words.\n",
      "  'stop_words.' % sorted(inconsistent))\n"
     ]
    },
    {
     "name": "stdout",
     "output_type": "stream",
     "text": [
      "3 <function stemming_tokenizer at 0x7fab08dfd3b0> 1\n",
      "3 <function stemming_tokenizer at 0x7fab08dfd3b0> 2\n",
      "3 <function stemming_tokenizer at 0x7fab08dfd3b0> 3\n",
      "3 <function stemming_tokenizer at 0x7fab08dfd3b0> 4\n",
      "3 <function stemming_tokenizer at 0x7fab08dfd3b0> 5\n"
     ]
    },
    {
     "name": "stderr",
     "output_type": "stream",
     "text": [
      "/home/martas/anaconda3/envs/mirko/lib/python3.7/site-packages/sklearn/feature_extraction/text.py:385: UserWarning: Your stop_words may be inconsistent with your preprocessing. Tokenizing the stop words generated tokens ['ha', 'le', 'u', 'wa'] not in stop_words.\n",
      "  'stop_words.' % sorted(inconsistent))\n"
     ]
    },
    {
     "name": "stdout",
     "output_type": "stream",
     "text": [
      "3 <modeling.LemmaTokenizer object at 0x7fab099da510> 1\n",
      "3 <modeling.LemmaTokenizer object at 0x7fab099da510> 2\n",
      "3 <modeling.LemmaTokenizer object at 0x7fab099da510> 3\n",
      "3 <modeling.LemmaTokenizer object at 0x7fab099da510> 4\n",
      "3 <modeling.LemmaTokenizer object at 0x7fab099da510> 5\n",
      "3 None 1\n",
      "3 None 2\n",
      "3 None 3\n",
      "3 None 4\n"
     ]
    },
    {
     "name": "stderr",
     "output_type": "stream",
     "text": [
      "100%|██████████| 3/3 [43:25<00:00, 868.50s/it]"
     ]
    },
    {
     "name": "stdout",
     "output_type": "stream",
     "text": [
      "3 None 5\n",
      "after text feature tokenization plus PCA:  ['bathrooms', 'bedrooms', 'price', 'len_features', 'len_photos', 'hr', 'mnth', 'nwords_description', 'bed+bath', 'price/bed', 'price/bed+bath', 'metro', 'laundry', 'elevator', 'hardwood', 'cats allowed', 'dogs allowed', 'concierge', 'no fee', 'fitness center', 'pre war', 'roof', 'swimming pool', 'exclusive', 'common outdoor space', 'simplex', 'fireplace', 'low-rise', 'reduced fee', 'furnished', 'publicoutdoor', 'renovated', 'pool', 'on-site garage', 'light', 'pets', 'mean_bathrooms_by_building_id', 'median_bathrooms_by_building_id', 'sum_bathrooms_by_building_id', 'std_bathrooms_by_building_id', 'bathrooms-mean_bathrooms_by_building_id', 'bathrooms-median_bathrooms_by_building_id', 'mean_bedrooms_by_building_id', 'median_bedrooms_by_building_id', 'sum_bedrooms_by_building_id', 'std_bedrooms_by_building_id', 'bedrooms-mean_bedrooms_by_building_id', 'bedrooms-median_bedrooms_by_building_id', 'mean_price_by_building_id', 'median_price_by_building_id', 'sum_price_by_building_id', 'std_price_by_building_id', 'price-mean_price_by_building_id', 'price-median_price_by_building_id', 'mean_len_features_by_building_id', 'median_len_features_by_building_id', 'sum_len_features_by_building_id', 'std_len_features_by_building_id', 'len_features-mean_len_features_by_building_id', 'len_features-median_len_features_by_building_id', 'mean_len_photos_by_building_id', 'median_len_photos_by_building_id', 'sum_len_photos_by_building_id', 'std_len_photos_by_building_id', 'len_photos-mean_len_photos_by_building_id', 'len_photos-median_len_photos_by_building_id', 'mean_hr_by_building_id', 'median_hr_by_building_id', 'sum_hr_by_building_id', 'std_hr_by_building_id', 'hr-mean_hr_by_building_id', 'hr-median_hr_by_building_id', 'mean_mnth_by_building_id', 'median_mnth_by_building_id', 'sum_mnth_by_building_id', 'std_mnth_by_building_id', 'mnth-mean_mnth_by_building_id', 'mnth-median_mnth_by_building_id', 'mean_price_digits_by_building_id', 'median_price_digits_by_building_id', 'sum_price_digits_by_building_id', 'std_price_digits_by_building_id', 'price_digits-mean_price_digits_by_building_id', 'price_digits-median_price_digits_by_building_id', 'mean_price/bed_by_building_id', 'median_price/bed_by_building_id', 'sum_price/bed_by_building_id', 'std_price/bed_by_building_id', 'price/bed-mean_price/bed_by_building_id', 'price/bed-median_price/bed_by_building_id', 'mean_price/bed+bath_by_building_id', 'median_price/bed+bath_by_building_id', 'sum_price/bed+bath_by_building_id', 'std_price/bed+bath_by_building_id', 'price/bed+bath-mean_price/bed+bath_by_building_id', 'price/bed+bath-median_price/bed+bath_by_building_id', 'mean_bathrooms_by_display_address', 'median_bathrooms_by_display_address', 'sum_bathrooms_by_display_address', 'std_bathrooms_by_display_address', 'bathrooms-mean_bathrooms_by_display_address', 'bathrooms-median_bathrooms_by_display_address', 'mean_bedrooms_by_display_address', 'median_bedrooms_by_display_address', 'sum_bedrooms_by_display_address', 'std_bedrooms_by_display_address', 'bedrooms-mean_bedrooms_by_display_address', 'bedrooms-median_bedrooms_by_display_address', 'mean_price_by_display_address', 'median_price_by_display_address', 'sum_price_by_display_address', 'std_price_by_display_address', 'price-mean_price_by_display_address', 'price-median_price_by_display_address', 'mean_len_features_by_display_address', 'median_len_features_by_display_address', 'sum_len_features_by_display_address', 'std_len_features_by_display_address', 'len_features-mean_len_features_by_display_address', 'len_features-median_len_features_by_display_address', 'mean_hr_by_display_address', 'median_hr_by_display_address', 'sum_hr_by_display_address', 'std_hr_by_display_address', 'hr-mean_hr_by_display_address', 'hr-median_hr_by_display_address', 'mean_nwords_description_by_display_address', 'median_nwords_description_by_display_address', 'sum_nwords_description_by_display_address', 'std_nwords_description_by_display_address', 'nwords_description-mean_nwords_description_by_display_address', 'nwords_description-median_nwords_description_by_display_address', 'mean_bed+bath_by_display_address', 'median_bed+bath_by_display_address', 'sum_bed+bath_by_display_address', 'std_bed+bath_by_display_address', 'bed+bath-mean_bed+bath_by_display_address', 'bed+bath-median_bed+bath_by_display_address', 'mean_bathrooms_by_manager_id', 'median_bathrooms_by_manager_id', 'sum_bathrooms_by_manager_id', 'std_bathrooms_by_manager_id', 'bathrooms-mean_bathrooms_by_manager_id', 'bathrooms-median_bathrooms_by_manager_id', 'mean_bedrooms_by_manager_id', 'median_bedrooms_by_manager_id', 'sum_bedrooms_by_manager_id', 'std_bedrooms_by_manager_id', 'bedrooms-mean_bedrooms_by_manager_id', 'bedrooms-median_bedrooms_by_manager_id', 'mean_price_by_manager_id', 'median_price_by_manager_id', 'sum_price_by_manager_id', 'std_price_by_manager_id', 'price-mean_price_by_manager_id', 'price-median_price_by_manager_id', 'mean_len_features_by_manager_id', 'median_len_features_by_manager_id', 'sum_len_features_by_manager_id', 'std_len_features_by_manager_id', 'len_features-mean_len_features_by_manager_id', 'len_features-median_len_features_by_manager_id', 'mean_len_photos_by_manager_id', 'median_len_photos_by_manager_id', 'sum_len_photos_by_manager_id', 'std_len_photos_by_manager_id', 'len_photos-mean_len_photos_by_manager_id', 'len_photos-median_len_photos_by_manager_id', 'mean_dayofweek_by_manager_id', 'median_dayofweek_by_manager_id', 'sum_dayofweek_by_manager_id', 'std_dayofweek_by_manager_id', 'dayofweek-mean_dayofweek_by_manager_id', 'dayofweek-median_dayofweek_by_manager_id', 'mean_hr_by_manager_id', 'median_hr_by_manager_id', 'sum_hr_by_manager_id', 'std_hr_by_manager_id', 'hr-mean_hr_by_manager_id', 'hr-median_hr_by_manager_id', 'mean_mnth_by_manager_id', 'median_mnth_by_manager_id', 'sum_mnth_by_manager_id', 'std_mnth_by_manager_id', 'mnth-mean_mnth_by_manager_id', 'mnth-median_mnth_by_manager_id', 'mean_nwords_description_by_manager_id', 'median_nwords_description_by_manager_id', 'sum_nwords_description_by_manager_id', 'std_nwords_description_by_manager_id', 'nwords_description-mean_nwords_description_by_manager_id', 'nwords_description-median_nwords_description_by_manager_id', 'mean_price/bed+bath_by_manager_id', 'median_price/bed+bath_by_manager_id', 'sum_price/bed+bath_by_manager_id', 'std_price/bed+bath_by_manager_id', 'price/bed+bath-mean_price/bed+bath_by_manager_id', 'price/bed+bath-median_price/bed+bath_by_manager_id', 'mean_metro_by_manager_id', 'median_metro_by_manager_id', 'sum_metro_by_manager_id', 'std_metro_by_manager_id', 'metro-mean_metro_by_manager_id', 'metro-median_metro_by_manager_id', 'mean_bathrooms_by_street_address', 'median_bathrooms_by_street_address', 'sum_bathrooms_by_street_address', 'std_bathrooms_by_street_address', 'bathrooms-mean_bathrooms_by_street_address', 'bathrooms-median_bathrooms_by_street_address', 'mean_hr_by_street_address', 'median_hr_by_street_address', 'sum_hr_by_street_address', 'std_hr_by_street_address', 'hr-mean_hr_by_street_address', 'hr-median_hr_by_street_address', 'mean_bathrooms_by_name', 'median_bathrooms_by_name', 'sum_bathrooms_by_name', 'std_bathrooms_by_name', 'bathrooms-mean_bathrooms_by_name', 'bathrooms-median_bathrooms_by_name', 'mean_bedrooms_by_name', 'median_bedrooms_by_name', 'sum_bedrooms_by_name', 'std_bedrooms_by_name', 'bedrooms-mean_bedrooms_by_name', 'bedrooms-median_bedrooms_by_name', 'mean_price_by_name', 'median_price_by_name', 'sum_price_by_name', 'std_price_by_name', 'price-mean_price_by_name', 'price-median_price_by_name', 'mean_len_features_by_name', 'median_len_features_by_name', 'sum_len_features_by_name', 'std_len_features_by_name', 'len_features-mean_len_features_by_name', 'len_features-median_len_features_by_name', 'mean_dayofweek_by_name', 'median_dayofweek_by_name', 'sum_dayofweek_by_name', 'std_dayofweek_by_name', 'dayofweek-mean_dayofweek_by_name', 'dayofweek-median_dayofweek_by_name', 'mean_mnth_by_name', 'median_mnth_by_name', 'sum_mnth_by_name', 'std_mnth_by_name', 'mnth-mean_mnth_by_name', 'mnth-median_mnth_by_name', 'mean_bed+bath_by_name', 'median_bed+bath_by_name', 'sum_bed+bath_by_name', 'std_bed+bath_by_name', 'bed+bath-mean_bed+bath_by_name', 'bed+bath-median_bed+bath_by_name', 'building_id', 'manager_id', 'name', 'admin1', 'admin2', '0_PCA', '1_PCA', '2_PCA'] 0.5429945250217768\n",
      "2020-05-23 02:13:04.219284\n"
     ]
    },
    {
     "name": "stderr",
     "output_type": "stream",
     "text": [
      "\n"
     ]
    }
   ],
   "source": [
    "clf=LGBMClassifier(n_jobs=-1,n_estimators=100)\n",
    "agg_dict={agg_function: ['mean','median','sum','std'],agg_diff_fun: ['mean', 'median']}\n",
    "training='training'\n",
    "label='interest_integer'\n",
    "pca_list=[1,2,3,4,5]\n",
    "num_features=50\n",
    "df_out,columns,good_encoders,dp_table,df_tokenizer=feature_engineering(df,training,label,num_features,agg_dict,pca_list,clf=clf)\n",
    "save_object([df_out,columns,good_encoders,dp_table,df_tokenizer],clf.__class__.__name__+'_thesis')"
   ]
  },
  {
   "cell_type": "code",
   "execution_count": 4,
   "metadata": {},
   "outputs": [
    {
     "data": {
      "text/plain": [
       "{'n_estimators': 972,\n",
       " 'learning_rate': 0.01848416124154692,\n",
       " 'lambda_l1': 1.1948456836604695,\n",
       " 'lambda_l2': 8.364115989935963e-07,\n",
       " 'num_leaves': 34,\n",
       " 'feature_fraction': 0.7671799905376775,\n",
       " 'bagging_fraction': 0.7281188949960176,\n",
       " 'bagging_freq': 2,\n",
       " 'min_child_samples': 88}"
      ]
     },
     "execution_count": 4,
     "metadata": {},
     "output_type": "execute_result"
    }
   ],
   "source": [
    "parameters=pd.read_csv('LGBMClassifier_grid_results.csv')\n",
    "best_params=get_best_params(parameters,'score')\n",
    "best_params"
   ]
  },
  {
   "cell_type": "code",
   "execution_count": null,
   "metadata": {},
   "outputs": [],
   "source": [
    "parameters=pd.read_csv('LGBMClassifier_grid_results.csv')\n",
    "best_params=get_best_params(parameters,'score')\n",
    "best_params\n",
    "clf=LGBMClassifier(n_jobs=-1,**best_params)\n"
   ]
  },
  {
   "cell_type": "code",
   "execution_count": 3,
   "metadata": {
    "execution": {
     "iopub.execute_input": "2020-05-29T17:41:02.441514Z",
     "iopub.status.busy": "2020-05-29T17:41:02.440868Z",
     "iopub.status.idle": "2020-05-29T17:41:02.450529Z",
     "shell.execute_reply": "2020-05-29T17:41:02.450014Z",
     "shell.execute_reply.started": "2020-05-29T17:41:02.441435Z"
    }
   },
   "outputs": [
    {
     "data": {
      "text/plain": [
       "{'n_estimators': 737,\n",
       " 'learning_rate': 0.016592015076447413,\n",
       " 'lambda_l1': 0.6697436211113311,\n",
       " 'lambda_l2': 0.0043913703402733316,\n",
       " 'num_leaves': 59,\n",
       " 'feature_fraction': 0.7643364611332195,\n",
       " 'bagging_fraction': 0.6126062676849265,\n",
       " 'bagging_freq': 5,\n",
       " 'min_child_samples': 90}"
      ]
     },
     "execution_count": 3,
     "metadata": {},
     "output_type": "execute_result"
    }
   ],
   "source": [
    "parameters=pd.read_csv('LGBMClassifier_grid_results.csv')\n",
    "get_best_params(parameters,'score')"
   ]
  },
  {
   "cell_type": "code",
   "execution_count": 2,
   "metadata": {
    "execution": {
     "iopub.execute_input": "2020-05-29T17:40:48.444121Z",
     "iopub.status.busy": "2020-05-29T17:40:48.443524Z",
     "iopub.status.idle": "2020-05-29T17:40:48.547628Z",
     "shell.execute_reply": "2020-05-29T17:40:48.547083Z",
     "shell.execute_reply.started": "2020-05-29T17:40:48.444043Z"
    }
   },
   "outputs": [
    {
     "ename": "NameError",
     "evalue": "name 'df_out' is not defined",
     "output_type": "error",
     "traceback": [
      "\u001b[0;31m---------------------------------------------------------------------------\u001b[0m",
      "\u001b[0;31mNameError\u001b[0m                                 Traceback (most recent call last)",
      "\u001b[0;32m<ipython-input-2-124cce7ea336>\u001b[0m in \u001b[0;36m<module>\u001b[0;34m\u001b[0m\n\u001b[1;32m      1\u001b[0m \u001b[0mparameters\u001b[0m\u001b[0;34m=\u001b[0m\u001b[0mpd\u001b[0m\u001b[0;34m.\u001b[0m\u001b[0mread_csv\u001b[0m\u001b[0;34m(\u001b[0m\u001b[0;34m'LGBMClassifier_grid_results.csv'\u001b[0m\u001b[0;34m)\u001b[0m\u001b[0;34m\u001b[0m\u001b[0;34m\u001b[0m\u001b[0m\n\u001b[1;32m      2\u001b[0m \u001b[0mget_best_params\u001b[0m\u001b[0;34m(\u001b[0m\u001b[0mparameters\u001b[0m\u001b[0;34m,\u001b[0m\u001b[0;34m'score'\u001b[0m\u001b[0;34m)\u001b[0m\u001b[0;34m\u001b[0m\u001b[0;34m\u001b[0m\u001b[0m\n\u001b[0;32m----> 3\u001b[0;31m \u001b[0msave_object\u001b[0m\u001b[0;34m(\u001b[0m\u001b[0;34m[\u001b[0m\u001b[0mdf_out\u001b[0m\u001b[0;34m,\u001b[0m\u001b[0mcolumns\u001b[0m\u001b[0;34m,\u001b[0m\u001b[0mclf\u001b[0m\u001b[0;34m,\u001b[0m\u001b[0mgood_encoders\u001b[0m\u001b[0;34m]\u001b[0m\u001b[0;34m,\u001b[0m\u001b[0mclf\u001b[0m\u001b[0;34m.\u001b[0m\u001b[0m__class__\u001b[0m\u001b[0;34m.\u001b[0m\u001b[0m__name__\u001b[0m\u001b[0;34m+\u001b[0m\u001b[0;34m'best_grid_params'\u001b[0m\u001b[0;34m)\u001b[0m\u001b[0;34m\u001b[0m\u001b[0;34m\u001b[0m\u001b[0m\n\u001b[0m",
      "\u001b[0;31mNameError\u001b[0m: name 'df_out' is not defined"
     ]
    }
   ],
   "source": [
    "parameters=pd.read_csv('LGBMClassifier_grid_results.csv')\n",
    "get_best_params(parameters,'score')\n",
    "save_object([df_out,columns,clf,good_encoders],clf.__class__.__name__+'best_grid_params')"
   ]
  },
  {
   "cell_type": "code",
   "execution_count": null,
   "metadata": {},
   "outputs": [],
   "source": []
  }
 ],
 "metadata": {
  "kernelspec": {
   "display_name": "Python 3",
   "language": "python",
   "name": "python3"
  },
  "language_info": {
   "codemirror_mode": {
    "name": "ipython",
    "version": 3
   },
   "file_extension": ".py",
   "mimetype": "text/x-python",
   "name": "python",
   "nbconvert_exporter": "python",
   "pygments_lexer": "ipython3",
   "version": "3.7.7"
  }
 },
 "nbformat": 4,
 "nbformat_minor": 4
}
