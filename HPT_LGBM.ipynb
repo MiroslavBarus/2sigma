{
 "cells": [
  {
   "cell_type": "code",
   "execution_count": 1,
   "metadata": {
    "execution": {
     "iopub.execute_input": "2020-05-30T16:23:30.442162Z",
     "iopub.status.busy": "2020-05-30T16:23:30.442014Z",
     "iopub.status.idle": "2020-05-30T16:23:31.107695Z",
     "shell.execute_reply": "2020-05-30T16:23:31.107278Z",
     "shell.execute_reply.started": "2020-05-30T16:23:30.442144Z"
    }
   },
   "outputs": [
    {
     "name": "stderr",
     "output_type": "stream",
     "text": [
      "C:\\Users\\Martin\\anaconda3\\lib\\site-packages\\sklearn\\utils\\deprecation.py:144: FutureWarning: The sklearn.metrics.scorer module is  deprecated in version 0.22 and will be removed in version 0.24. The corresponding classes / functions should instead be imported from sklearn.metrics. Anything that cannot be imported from sklearn.metrics is now part of the private API.\n",
      "  warnings.warn(message, FutureWarning)\n",
      "C:\\Users\\Martin\\anaconda3\\lib\\site-packages\\sklearn\\utils\\deprecation.py:144: FutureWarning: The sklearn.feature_selection.base module is  deprecated in version 0.22 and will be removed in version 0.24. The corresponding classes / functions should instead be imported from sklearn.feature_selection. Anything that cannot be imported from sklearn.feature_selection is now part of the private API.\n",
      "  warnings.warn(message, FutureWarning)\n"
     ]
    }
   ],
   "source": [
    "import pandas as pd\n",
    "from modeling import feature_engineering, load_object, model_predict, save_csv,get_best_params\n",
    "import numpy as np\n",
    "import reverse_geocoder as revgc\n",
    "import xgboost as xgb\n",
    "from lightgbm import LGBMClassifier\n",
    "from sklearn.model_selection import StratifiedKFold, KFold\n",
    "pd.options.display.float_format = '{:.4f}'.format"
   ]
  },
  {
   "cell_type": "code",
   "execution_count": 2,
   "metadata": {
    "execution": {
     "iopub.execute_input": "2020-05-30T16:23:31.983583Z",
     "iopub.status.busy": "2020-05-30T16:23:31.983437Z",
     "iopub.status.idle": "2020-05-30T16:23:34.005946Z",
     "shell.execute_reply": "2020-05-30T16:23:34.005548Z",
     "shell.execute_reply.started": "2020-05-30T16:23:31.983566Z"
    }
   },
   "outputs": [
    {
     "data": {
      "text/html": [
       "<div>\n",
       "<style scoped>\n",
       "    .dataframe tbody tr th:only-of-type {\n",
       "        vertical-align: middle;\n",
       "    }\n",
       "\n",
       "    .dataframe tbody tr th {\n",
       "        vertical-align: top;\n",
       "    }\n",
       "\n",
       "    .dataframe thead th {\n",
       "        text-align: right;\n",
       "    }\n",
       "</style>\n",
       "<table border=\"1\" class=\"dataframe\">\n",
       "  <thead>\n",
       "    <tr style=\"text-align: right;\">\n",
       "      <th></th>\n",
       "      <th>columns</th>\n",
       "      <th>best value</th>\n",
       "      <th>encoders</th>\n",
       "      <th>time</th>\n",
       "    </tr>\n",
       "  </thead>\n",
       "  <tbody>\n",
       "    <tr>\n",
       "      <th>after numeric feature selection</th>\n",
       "      <td>[bathrooms, bedrooms, price, len_features, len...</td>\n",
       "      <td>0.6315</td>\n",
       "      <td>{}</td>\n",
       "      <td>00:05:55.664182</td>\n",
       "    </tr>\n",
       "    <tr>\n",
       "      <th>after TOP N features</th>\n",
       "      <td>[bathrooms, bedrooms, price, len_features, len...</td>\n",
       "      <td>0.6111</td>\n",
       "      <td>{}</td>\n",
       "      <td>00:16:04.420428</td>\n",
       "    </tr>\n",
       "    <tr>\n",
       "      <th>after numeric features aggregated by categorical features</th>\n",
       "      <td>[bathrooms, bedrooms, price, len_features, len...</td>\n",
       "      <td>0.5530</td>\n",
       "      <td>{}</td>\n",
       "      <td>01:38:44.453739</td>\n",
       "    </tr>\n",
       "    <tr>\n",
       "      <th>after numeric features interactions</th>\n",
       "      <td>[bathrooms, bedrooms, price, len_features, len...</td>\n",
       "      <td>0.5530</td>\n",
       "      <td>{}</td>\n",
       "      <td>01:41:38.582742</td>\n",
       "    </tr>\n",
       "    <tr>\n",
       "      <th>after categorical feature encoding</th>\n",
       "      <td>[bathrooms, bedrooms, price, len_features, len...</td>\n",
       "      <td>0.5433</td>\n",
       "      <td>{'building_id': &lt;function CB_target_encoding a...</td>\n",
       "      <td>01:56:02.652604</td>\n",
       "    </tr>\n",
       "    <tr>\n",
       "      <th>after text feature tokenization plus PCA</th>\n",
       "      <td>[bathrooms, bedrooms, price, len_features, len...</td>\n",
       "      <td>0.5430</td>\n",
       "      <td>{'building_id': &lt;function CB_target_encoding a...</td>\n",
       "      <td>02:39:28.260602</td>\n",
       "    </tr>\n",
       "  </tbody>\n",
       "</table>\n",
       "</div>"
      ],
      "text/plain": [
       "                                                                                              columns  \\\n",
       "after numeric feature selection                     [bathrooms, bedrooms, price, len_features, len...   \n",
       "after TOP N features                                [bathrooms, bedrooms, price, len_features, len...   \n",
       "after numeric features aggregated by categorica...  [bathrooms, bedrooms, price, len_features, len...   \n",
       "after numeric features interactions                 [bathrooms, bedrooms, price, len_features, len...   \n",
       "after categorical feature encoding                  [bathrooms, bedrooms, price, len_features, len...   \n",
       "after text feature tokenization plus PCA            [bathrooms, bedrooms, price, len_features, len...   \n",
       "\n",
       "                                                    best value  \\\n",
       "after numeric feature selection                         0.6315   \n",
       "after TOP N features                                    0.6111   \n",
       "after numeric features aggregated by categorica...      0.5530   \n",
       "after numeric features interactions                     0.5530   \n",
       "after categorical feature encoding                      0.5433   \n",
       "after text feature tokenization plus PCA                0.5430   \n",
       "\n",
       "                                                                                             encoders  \\\n",
       "after numeric feature selection                                                                    {}   \n",
       "after TOP N features                                                                               {}   \n",
       "after numeric features aggregated by categorica...                                                 {}   \n",
       "after numeric features interactions                                                                {}   \n",
       "after categorical feature encoding                  {'building_id': <function CB_target_encoding a...   \n",
       "after text feature tokenization plus PCA            {'building_id': <function CB_target_encoding a...   \n",
       "\n",
       "                                                              time  \n",
       "after numeric feature selection                    00:05:55.664182  \n",
       "after TOP N features                               00:16:04.420428  \n",
       "after numeric features aggregated by categorica... 01:38:44.453739  \n",
       "after numeric features interactions                01:41:38.582742  \n",
       "after categorical feature encoding                 01:56:02.652604  \n",
       "after text feature tokenization plus PCA           02:39:28.260602  "
      ]
     },
     "execution_count": 2,
     "metadata": {},
     "output_type": "execute_result"
    }
   ],
   "source": [
    "df_train= pd.read_json('train.json')\n",
    "df_test= pd.read_json('test.json')\n",
    "training='training'\n",
    "label='interest_integer'\n",
    "clf=LGBMClassifier(n_jobs=-1,n_estimators=100,random_state=0)\n",
    "df,columns,good_encoders,dp_table,df_tokenizer=load_object(clf.__class__.__name__+'_thesis')\n",
    "dp_table"
   ]
  },
  {
   "cell_type": "code",
   "execution_count": 3,
   "metadata": {
    "execution": {
     "iopub.execute_input": "2020-05-30T16:23:34.006728Z",
     "iopub.status.busy": "2020-05-30T16:23:34.006603Z",
     "iopub.status.idle": "2020-05-30T16:23:34.250810Z",
     "shell.execute_reply": "2020-05-30T16:23:34.250398Z",
     "shell.execute_reply.started": "2020-05-30T16:23:34.006711Z"
    }
   },
   "outputs": [],
   "source": [
    "import functools\n",
    "import optuna\n",
    "from hashlib import md5\n",
    "from optuna.samplers import TPESampler\n",
    "\n",
    "\n",
    "def objective(df,columns,training,label,encoder_dict,df_test_listingID,df_train_listingID,trial):\n",
    "    params ={\n",
    "        'n_estimators':trial.suggest_int('n_estimators', 10, 1000),\n",
    "        'learning_rate': trial.suggest_loguniform('learning_rate', 0.01, 0.5),\n",
    "        'lambda_l1': trial.suggest_loguniform('lambda_l1', 1e-8, 10.0),\n",
    "        'lambda_l2': trial.suggest_loguniform('lambda_l2', 1e-8, 10.0),\n",
    "        'num_leaves': trial.suggest_int('num_leaves', 2, 256),\n",
    "        'feature_fraction': trial.suggest_uniform('feature_fraction', 0.3, 1.0),\n",
    "        'bagging_fraction': trial.suggest_uniform('bagging_fraction', 0.5, 1.0),\n",
    "        'bagging_freq': trial.suggest_int('bagging_freq', 1, 7),\n",
    "        'min_child_samples': trial.suggest_int('min_child_samples', 5, 100),\n",
    "    }\n",
    "    \n",
    "    print(params)\n",
    "    clf=LGBMClassifier(n_jobs=-1,random_state=0,**params)\n",
    "    test_pred,yoof,lloss=model_predict(df[columns],df[training],df[label], clf ,encoder_dict)\n",
    "    model_id=md5(str(params).encode()).hexdigest()[:6]\n",
    "    model_id=clf.__class__.__name__+'_'+model_id+'_'+str(round(lloss,3))\n",
    "    trial.set_user_attr('model_id',model_id)\n",
    "    save_csv (model_id,test_pred,yoof,clf,df_test_listingID,df_train_listingID)\n",
    "    return lloss\n"
   ]
  },
  {
   "cell_type": "code",
   "execution_count": null,
   "metadata": {
    "execution": {
     "iopub.execute_input": "2020-05-30T16:23:34.251605Z",
     "iopub.status.busy": "2020-05-30T16:23:34.251483Z"
    }
   },
   "outputs": [
    {
     "name": "stderr",
     "output_type": "stream",
     "text": [
      "/home/martas/anaconda3/envs/mirko/lib/python3.7/site-packages/optuna/_experimental.py:90: ExperimentalWarning:\n",
      "\n",
      "Progress bar is experimental (supported from v1.2.0). The interface can change in the future.\n",
      "\n"
     ]
    },
    {
     "data": {
      "application/vnd.jupyter.widget-view+json": {
       "model_id": "5288702a86ba4b548cf752d9b209eb45",
       "version_major": 2,
       "version_minor": 0
      },
      "text/plain": [
       "HBox(children=(FloatProgress(value=0.0), HTML(value='')))"
      ]
     },
     "metadata": {},
     "output_type": "display_data"
    },
    {
     "name": "stdout",
     "output_type": "stream",
     "text": [
      "{'n_estimators': 694, 'learning_rate': 0.10167758525611789, 'lambda_l1': 0.39663564159126696, 'lambda_l2': 0.5266360183584486, 'num_leaves': 105, 'feature_fraction': 0.5965583595372332, 'bagging_fraction': 0.8229470565333281, 'bagging_freq': 5, 'min_child_samples': 92}\n",
      "\u001b[32m[I 2020-05-30 18:35:02,591]\u001b[0m Finished trial#0 with value: 0.6673239233083488 with parameters: {'n_estimators': 694, 'learning_rate': 0.10167758525611789, 'lambda_l1': 0.39663564159126696, 'lambda_l2': 0.5266360183584486, 'num_leaves': 105, 'feature_fraction': 0.5965583595372332, 'bagging_fraction': 0.8229470565333281, 'bagging_freq': 5, 'min_child_samples': 92}. Best is trial#0 with value: 0.6673239233083488.\u001b[0m\n",
      "{'n_estimators': 80, 'learning_rate': 0.012483996761122442, 'lambda_l1': 2.8438497747055045e-06, 'lambda_l2': 0.0001990609424479233, 'num_leaves': 41, 'feature_fraction': 0.6702264438270331, 'bagging_fraction': 0.7840222805469661, 'bagging_freq': 6, 'min_child_samples': 30}\n",
      "\u001b[32m[I 2020-05-30 18:36:14,263]\u001b[0m Finished trial#1 with value: 0.6406258051802662 with parameters: {'n_estimators': 80, 'learning_rate': 0.012483996761122442, 'lambda_l1': 2.8438497747055045e-06, 'lambda_l2': 0.0001990609424479233, 'num_leaves': 41, 'feature_fraction': 0.6702264438270331, 'bagging_fraction': 0.7840222805469661, 'bagging_freq': 6, 'min_child_samples': 30}. Best is trial#1 with value: 0.6406258051802662.\u001b[0m\n",
      "{'n_estimators': 855, 'learning_rate': 0.03743052823734179, 'lambda_l1': 0.006816270996262264, 'lambda_l2': 2.0614549983073948e-05, 'num_leaves': 199, 'feature_fraction': 0.8447097256648952, 'bagging_fraction': 0.9350060741234096, 'bagging_freq': 3, 'min_child_samples': 93}\n",
      "\u001b[32m[I 2020-05-30 19:09:01,115]\u001b[0m Finished trial#2 with value: 0.6621656466220676 with parameters: {'n_estimators': 855, 'learning_rate': 0.03743052823734179, 'lambda_l1': 0.006816270996262264, 'lambda_l2': 2.0614549983073948e-05, 'num_leaves': 199, 'feature_fraction': 0.8447097256648952, 'bagging_fraction': 0.9350060741234096, 'bagging_freq': 3, 'min_child_samples': 93}. Best is trial#1 with value: 0.6406258051802662.\u001b[0m\n",
      "{'n_estimators': 187, 'learning_rate': 0.060819044671794366, 'lambda_l1': 0.10586748269028218, 'lambda_l2': 1.1600316346542318e-07, 'num_leaves': 34, 'feature_fraction': 0.707413854452575, 'bagging_fraction': 0.7686866147245053, 'bagging_freq': 1, 'min_child_samples': 36}\n",
      "\u001b[32m[I 2020-05-30 19:11:04,039]\u001b[0m Finished trial#3 with value: 0.5393551637410354 with parameters: {'n_estimators': 187, 'learning_rate': 0.060819044671794366, 'lambda_l1': 0.10586748269028218, 'lambda_l2': 1.1600316346542318e-07, 'num_leaves': 34, 'feature_fraction': 0.707413854452575, 'bagging_fraction': 0.7686866147245053, 'bagging_freq': 1, 'min_child_samples': 36}. Best is trial#3 with value: 0.5393551637410354.\u001b[0m\n",
      "{'n_estimators': 724, 'learning_rate': 0.05064052482942654, 'lambda_l1': 2.4043656176367184e-06, 'lambda_l2': 0.09291871708031711, 'num_leaves': 185, 'feature_fraction': 0.4515852480970603, 'bagging_fraction': 0.567609086702726, 'bagging_freq': 5, 'min_child_samples': 58}\n",
      "\u001b[32m[I 2020-05-30 19:26:07,509]\u001b[0m Finished trial#4 with value: 0.663626341786123 with parameters: {'n_estimators': 724, 'learning_rate': 0.05064052482942654, 'lambda_l1': 2.4043656176367184e-06, 'lambda_l2': 0.09291871708031711, 'num_leaves': 185, 'feature_fraction': 0.4515852480970603, 'bagging_fraction': 0.567609086702726, 'bagging_freq': 5, 'min_child_samples': 58}. Best is trial#3 with value: 0.5393551637410354.\u001b[0m\n",
      "{'n_estimators': 911, 'learning_rate': 0.10963072160039622, 'lambda_l1': 0.0035678449430754477, 'lambda_l2': 3.116970605046819, 'num_leaves': 107, 'feature_fraction': 0.6149649929378593, 'bagging_fraction': 0.8065317289420662, 'bagging_freq': 2, 'min_child_samples': 70}\n",
      "\u001b[32m[I 2020-05-30 19:42:57,144]\u001b[0m Finished trial#5 with value: 0.7355304552033276 with parameters: {'n_estimators': 911, 'learning_rate': 0.10963072160039622, 'lambda_l1': 0.0035678449430754477, 'lambda_l2': 3.116970605046819, 'num_leaves': 107, 'feature_fraction': 0.6149649929378593, 'bagging_fraction': 0.8065317289420662, 'bagging_freq': 2, 'min_child_samples': 70}. Best is trial#3 with value: 0.5393551637410354.\u001b[0m\n",
      "{'n_estimators': 947, 'learning_rate': 0.44430020746606114, 'lambda_l1': 0.007555449761769617, 'lambda_l2': 3.4529180110580835e-07, 'num_leaves': 84, 'feature_fraction': 0.3902484083583973, 'bagging_fraction': 0.6577141754620919, 'bagging_freq': 6, 'min_child_samples': 17}\n",
      "\u001b[32m[I 2020-05-30 19:46:18,354]\u001b[0m Finished trial#6 with value: 13.179242815037094 with parameters: {'n_estimators': 947, 'learning_rate': 0.44430020746606114, 'lambda_l1': 0.007555449761769617, 'lambda_l2': 3.4529180110580835e-07, 'num_leaves': 84, 'feature_fraction': 0.3902484083583973, 'bagging_fraction': 0.6577141754620919, 'bagging_freq': 6, 'min_child_samples': 17}. Best is trial#3 with value: 0.5393551637410354.\u001b[0m\n",
      "{'n_estimators': 643, 'learning_rate': 0.011622074284526667, 'lambda_l1': 0.00511053682011681, 'lambda_l2': 4.271136170361703, 'num_leaves': 49, 'feature_fraction': 0.44621372926638425, 'bagging_fraction': 0.5806547589424982, 'bagging_freq': 5, 'min_child_samples': 57}\n",
      "\u001b[32m[I 2020-05-30 19:51:41,543]\u001b[0m Finished trial#7 with value: 0.5414546107498401 with parameters: {'n_estimators': 643, 'learning_rate': 0.011622074284526667, 'lambda_l1': 0.00511053682011681, 'lambda_l2': 4.271136170361703, 'num_leaves': 49, 'feature_fraction': 0.44621372926638425, 'bagging_fraction': 0.5806547589424982, 'bagging_freq': 5, 'min_child_samples': 57}. Best is trial#3 with value: 0.5393551637410354.\u001b[0m\n",
      "{'n_estimators': 856, 'learning_rate': 0.061979492492935384, 'lambda_l1': 1.5842741206950525e-06, 'lambda_l2': 2.6960395124090715e-07, 'num_leaves': 143, 'feature_fraction': 0.7723266255813144, 'bagging_fraction': 0.658600871034648, 'bagging_freq': 6, 'min_child_samples': 46}\n",
      "\u001b[32m[I 2020-05-30 20:14:18,521]\u001b[0m Finished trial#8 with value: 0.7293611177708802 with parameters: {'n_estimators': 856, 'learning_rate': 0.061979492492935384, 'lambda_l1': 1.5842741206950525e-06, 'lambda_l2': 2.6960395124090715e-07, 'num_leaves': 143, 'feature_fraction': 0.7723266255813144, 'bagging_fraction': 0.658600871034648, 'bagging_freq': 6, 'min_child_samples': 46}. Best is trial#3 with value: 0.5393551637410354.\u001b[0m\n",
      "{'n_estimators': 685, 'learning_rate': 0.042310972234389975, 'lambda_l1': 0.2448719663204702, 'lambda_l2': 7.480170242098733e-08, 'num_leaves': 180, 'feature_fraction': 0.7715617415850525, 'bagging_fraction': 0.9859725012498328, 'bagging_freq': 4, 'min_child_samples': 47}\n",
      "\u001b[32m[I 2020-05-30 20:37:33,186]\u001b[0m Finished trial#9 with value: 0.6162969377948094 with parameters: {'n_estimators': 685, 'learning_rate': 0.042310972234389975, 'lambda_l1': 0.2448719663204702, 'lambda_l2': 7.480170242098733e-08, 'num_leaves': 180, 'feature_fraction': 0.7715617415850525, 'bagging_fraction': 0.9859725012498328, 'bagging_freq': 4, 'min_child_samples': 47}. Best is trial#3 with value: 0.5393551637410354.\u001b[0m\n",
      "{'n_estimators': 203, 'learning_rate': 0.28962771486746397, 'lambda_l1': 8.606657541297805, 'lambda_l2': 1.0407395923497128e-08, 'num_leaves': 3, 'feature_fraction': 0.9891920096259774, 'bagging_fraction': 0.8870372659926957, 'bagging_freq': 1, 'min_child_samples': 12}\n",
      "\u001b[32m[I 2020-05-30 20:38:25,503]\u001b[0m Finished trial#10 with value: 0.5505074702960291 with parameters: {'n_estimators': 203, 'learning_rate': 0.28962771486746397, 'lambda_l1': 8.606657541297805, 'lambda_l2': 1.0407395923497128e-08, 'num_leaves': 3, 'feature_fraction': 0.9891920096259774, 'bagging_fraction': 0.8870372659926957, 'bagging_freq': 1, 'min_child_samples': 12}. Best is trial#3 with value: 0.5393551637410354.\u001b[0m\n",
      "{'n_estimators': 373, 'learning_rate': 0.010085994176541309, 'lambda_l1': 0.00017877562292055956, 'lambda_l2': 0.010577618286779071, 'num_leaves': 2, 'feature_fraction': 0.30786988775505797, 'bagging_fraction': 0.514076136404336, 'bagging_freq': 3, 'min_child_samples': 71}\n",
      "\u001b[32m[I 2020-05-30 20:38:56,911]\u001b[0m Finished trial#11 with value: 0.650796387054006 with parameters: {'n_estimators': 373, 'learning_rate': 0.010085994176541309, 'lambda_l1': 0.00017877562292055956, 'lambda_l2': 0.010577618286779071, 'num_leaves': 2, 'feature_fraction': 0.30786988775505797, 'bagging_fraction': 0.514076136404336, 'bagging_freq': 3, 'min_child_samples': 71}. Best is trial#3 with value: 0.5393551637410354.\u001b[0m\n",
      "{'n_estimators': 453, 'learning_rate': 0.020291444866714598, 'lambda_l1': 0.5201257352444241, 'lambda_l2': 1.0729715814264274e-05, 'num_leaves': 45, 'feature_fraction': 0.5364571617738931, 'bagging_fraction': 0.6897896438904884, 'bagging_freq': 1, 'min_child_samples': 32}\n",
      "\u001b[32m[I 2020-05-30 20:43:23,973]\u001b[0m Finished trial#12 with value: 0.5386460851648955 with parameters: {'n_estimators': 453, 'learning_rate': 0.020291444866714598, 'lambda_l1': 0.5201257352444241, 'lambda_l2': 1.0729715814264274e-05, 'num_leaves': 45, 'feature_fraction': 0.5364571617738931, 'bagging_fraction': 0.6897896438904884, 'bagging_freq': 1, 'min_child_samples': 32}. Best is trial#12 with value: 0.5386460851648955.\u001b[0m\n",
      "{'n_estimators': 391, 'learning_rate': 0.026178096017575186, 'lambda_l1': 9.376447008924897, 'lambda_l2': 7.3809409729876894e-06, 'num_leaves': 49, 'feature_fraction': 0.5298234260666693, 'bagging_fraction': 0.7028001634465001, 'bagging_freq': 1, 'min_child_samples': 30}\n",
      "\u001b[32m[I 2020-05-30 20:47:10,075]\u001b[0m Finished trial#13 with value: 0.5420668811184075 with parameters: {'n_estimators': 391, 'learning_rate': 0.026178096017575186, 'lambda_l1': 9.376447008924897, 'lambda_l2': 7.3809409729876894e-06, 'num_leaves': 49, 'feature_fraction': 0.5298234260666693, 'bagging_fraction': 0.7028001634465001, 'bagging_freq': 1, 'min_child_samples': 30}. Best is trial#12 with value: 0.5386460851648955.\u001b[0m\n",
      "{'n_estimators': 20, 'learning_rate': 0.02155420918287616, 'lambda_l1': 0.45239120905190705, 'lambda_l2': 4.217166990085894e-06, 'num_leaves': 16, 'feature_fraction': 0.7052522757312398, 'bagging_fraction': 0.727696857685703, 'bagging_freq': 1, 'min_child_samples': 27}\n",
      "\u001b[32m[I 2020-05-30 20:47:35,575]\u001b[0m Finished trial#14 with value: 0.708089233187071 with parameters: {'n_estimators': 20, 'learning_rate': 0.02155420918287616, 'lambda_l1': 0.45239120905190705, 'lambda_l2': 4.217166990085894e-06, 'num_leaves': 16, 'feature_fraction': 0.7052522757312398, 'bagging_fraction': 0.727696857685703, 'bagging_freq': 1, 'min_child_samples': 27}. Best is trial#12 with value: 0.5386460851648955.\u001b[0m\n",
      "{'n_estimators': 209, 'learning_rate': 0.15057792865369832, 'lambda_l1': 0.08862870891904792, 'lambda_l2': 0.0007683358523102678, 'num_leaves': 250, 'feature_fraction': 0.9770779802360785, 'bagging_fraction': 0.8527466132527228, 'bagging_freq': 2, 'min_child_samples': 5}\n",
      "\u001b[32m[I 2020-05-30 21:01:43,541]\u001b[0m Finished trial#15 with value: 0.71296234822159 with parameters: {'n_estimators': 209, 'learning_rate': 0.15057792865369832, 'lambda_l1': 0.08862870891904792, 'lambda_l2': 0.0007683358523102678, 'num_leaves': 250, 'feature_fraction': 0.9770779802360785, 'bagging_fraction': 0.8527466132527228, 'bagging_freq': 2, 'min_child_samples': 5}. Best is trial#12 with value: 0.5386460851648955.\u001b[0m\n",
      "{'n_estimators': 475, 'learning_rate': 0.020843595605436572, 'lambda_l1': 2.2923148875293183e-08, 'lambda_l2': 1.3449083353825844e-08, 'num_leaves': 72, 'feature_fraction': 0.5334322717471183, 'bagging_fraction': 0.7447897487012038, 'bagging_freq': 2, 'min_child_samples': 39}\n",
      "\u001b[32m[I 2020-05-30 21:07:59,644]\u001b[0m Finished trial#16 with value: 0.5355918580707085 with parameters: {'n_estimators': 475, 'learning_rate': 0.020843595605436572, 'lambda_l1': 2.2923148875293183e-08, 'lambda_l2': 1.3449083353825844e-08, 'num_leaves': 72, 'feature_fraction': 0.5334322717471183, 'bagging_fraction': 0.7447897487012038, 'bagging_freq': 2, 'min_child_samples': 39}. Best is trial#16 with value: 0.5355918580707085.\u001b[0m\n",
      "{'n_estimators': 519, 'learning_rate': 0.017600105089267484, 'lambda_l1': 8.398451539570729e-08, 'lambda_l2': 1.0531261566758092e-08, 'num_leaves': 81, 'feature_fraction': 0.5298838406045687, 'bagging_fraction': 0.6518221076376453, 'bagging_freq': 2, 'min_child_samples': 41}\n",
      "\u001b[32m[I 2020-05-30 21:15:03,804]\u001b[0m Finished trial#17 with value: 0.5366424168395996 with parameters: {'n_estimators': 519, 'learning_rate': 0.017600105089267484, 'lambda_l1': 8.398451539570729e-08, 'lambda_l2': 1.0531261566758092e-08, 'num_leaves': 81, 'feature_fraction': 0.5298838406045687, 'bagging_fraction': 0.6518221076376453, 'bagging_freq': 2, 'min_child_samples': 41}. Best is trial#16 with value: 0.5355918580707085.\u001b[0m\n",
      "{'n_estimators': 531, 'learning_rate': 0.016945248636599384, 'lambda_l1': 2.7713803165160654e-08, 'lambda_l2': 1.3908700346876695e-08, 'num_leaves': 86, 'feature_fraction': 0.34006157717133123, 'bagging_fraction': 0.6274316219246522, 'bagging_freq': 3, 'min_child_samples': 73}\n",
      "\u001b[32m[I 2020-05-30 21:20:39,770]\u001b[0m Finished trial#18 with value: 0.5360436825939053 with parameters: {'n_estimators': 531, 'learning_rate': 0.016945248636599384, 'lambda_l1': 2.7713803165160654e-08, 'lambda_l2': 1.3908700346876695e-08, 'num_leaves': 86, 'feature_fraction': 0.34006157717133123, 'bagging_fraction': 0.6274316219246522, 'bagging_freq': 3, 'min_child_samples': 73}. Best is trial#16 with value: 0.5355918580707085.\u001b[0m\n",
      "{'n_estimators': 554, 'learning_rate': 0.029231731793383463, 'lambda_l1': 1.664403077894007e-08, 'lambda_l2': 1.2977937435349493e-08, 'num_leaves': 146, 'feature_fraction': 0.31066343711966193, 'bagging_fraction': 0.5876659287575032, 'bagging_freq': 3, 'min_child_samples': 79}\n",
      "\u001b[32m[I 2020-05-30 21:28:29,359]\u001b[0m Finished trial#19 with value: 0.5484996848688913 with parameters: {'n_estimators': 554, 'learning_rate': 0.029231731793383463, 'lambda_l1': 1.664403077894007e-08, 'lambda_l2': 1.2977937435349493e-08, 'num_leaves': 146, 'feature_fraction': 0.31066343711966193, 'bagging_fraction': 0.5876659287575032, 'bagging_freq': 3, 'min_child_samples': 79}. Best is trial#16 with value: 0.5355918580707085.\u001b[0m\n",
      "{'n_estimators': 348, 'learning_rate': 0.01575511728921647, 'lambda_l1': 1.0640137660901066e-08, 'lambda_l2': 1.5107817228339012e-06, 'num_leaves': 78, 'feature_fraction': 0.35872709372160694, 'bagging_fraction': 0.5313295547445716, 'bagging_freq': 4, 'min_child_samples': 68}\n",
      "\u001b[32m[I 2020-05-30 21:31:59,371]\u001b[0m Finished trial#20 with value: 0.5451845740996681 with parameters: {'n_estimators': 348, 'learning_rate': 0.01575511728921647, 'lambda_l1': 1.0640137660901066e-08, 'lambda_l2': 1.5107817228339012e-06, 'num_leaves': 78, 'feature_fraction': 0.35872709372160694, 'bagging_fraction': 0.5313295547445716, 'bagging_freq': 4, 'min_child_samples': 68}. Best is trial#16 with value: 0.5355918580707085.\u001b[0m\n",
      "{'n_estimators': 523, 'learning_rate': 0.016407436062933996, 'lambda_l1': 9.107064288796797e-08, 'lambda_l2': 1.111261542730712e-08, 'num_leaves': 77, 'feature_fraction': 0.506887617659426, 'bagging_fraction': 0.6271551386432573, 'bagging_freq': 2, 'min_child_samples': 46}\n",
      "\u001b[32m[I 2020-05-30 21:38:36,028]\u001b[0m Finished trial#21 with value: 0.5369942537040797 with parameters: {'n_estimators': 523, 'learning_rate': 0.016407436062933996, 'lambda_l1': 9.107064288796797e-08, 'lambda_l2': 1.111261542730712e-08, 'num_leaves': 77, 'feature_fraction': 0.506887617659426, 'bagging_fraction': 0.6271551386432573, 'bagging_freq': 2, 'min_child_samples': 46}. Best is trial#16 with value: 0.5355918580707085.\u001b[0m\n",
      "{'n_estimators': 576, 'learning_rate': 0.03161948773046825, 'lambda_l1': 1.4220224066093257e-07, 'lambda_l2': 3.591601779284235e-08, 'num_leaves': 112, 'feature_fraction': 0.45603106075242406, 'bagging_fraction': 0.73386018486076, 'bagging_freq': 2, 'min_child_samples': 40}\n",
      "\u001b[32m[I 2020-05-30 21:47:42,550]\u001b[0m Finished trial#22 with value: 0.5471051140125125 with parameters: {'n_estimators': 576, 'learning_rate': 0.03161948773046825, 'lambda_l1': 1.4220224066093257e-07, 'lambda_l2': 3.591601779284235e-08, 'num_leaves': 112, 'feature_fraction': 0.45603106075242406, 'bagging_fraction': 0.73386018486076, 'bagging_freq': 2, 'min_child_samples': 40}. Best is trial#16 with value: 0.5355918580707085.\u001b[0m\n",
      "{'n_estimators': 453, 'learning_rate': 0.015570592549609928, 'lambda_l1': 1.2718755901281e-07, 'lambda_l2': 1.1559642778634882e-08, 'num_leaves': 67, 'feature_fraction': 0.5769055309792948, 'bagging_fraction': 0.6217568683843374, 'bagging_freq': 3, 'min_child_samples': 85}\n",
      "\u001b[32m[I 2020-05-30 21:53:02,458]\u001b[0m Finished trial#23 with value: 0.5394652077289628 with parameters: {'n_estimators': 453, 'learning_rate': 0.015570592549609928, 'lambda_l1': 1.2718755901281e-07, 'lambda_l2': 1.1559642778634882e-08, 'num_leaves': 67, 'feature_fraction': 0.5769055309792948, 'bagging_fraction': 0.6217568683843374, 'bagging_freq': 3, 'min_child_samples': 85}. Best is trial#16 with value: 0.5355918580707085.\u001b[0m\n",
      "{'n_estimators': 298, 'learning_rate': 0.022069170817158146, 'lambda_l1': 3.147296561756717e-05, 'lambda_l2': 8.397085554261374e-07, 'num_leaves': 128, 'feature_fraction': 0.40093843355239334, 'bagging_fraction': 0.6824993031703378, 'bagging_freq': 2, 'min_child_samples': 62}\n",
      "\u001b[32m[I 2020-05-30 21:57:48,495]\u001b[0m Finished trial#24 with value: 0.5393022129580163 with parameters: {'n_estimators': 298, 'learning_rate': 0.022069170817158146, 'lambda_l1': 3.147296561756717e-05, 'lambda_l2': 8.397085554261374e-07, 'num_leaves': 128, 'feature_fraction': 0.40093843355239334, 'bagging_fraction': 0.6824993031703378, 'bagging_freq': 2, 'min_child_samples': 62}. Best is trial#16 with value: 0.5355918580707085.\u001b[0m\n",
      "{'n_estimators': 594, 'learning_rate': 0.012032855908145058, 'lambda_l1': 1.0221576004152583e-08, 'lambda_l2': 4.393935869071126e-08, 'num_leaves': 97, 'feature_fraction': 0.5112234820775077, 'bagging_fraction': 0.6352169466368642, 'bagging_freq': 3, 'min_child_samples': 22}\n",
      "\u001b[32m[I 2020-05-30 22:07:23,814]\u001b[0m Finished trial#25 with value: 0.5384774253486279 with parameters: {'n_estimators': 594, 'learning_rate': 0.012032855908145058, 'lambda_l1': 1.0221576004152583e-08, 'lambda_l2': 4.393935869071126e-08, 'num_leaves': 97, 'feature_fraction': 0.5112234820775077, 'bagging_fraction': 0.6352169466368642, 'bagging_freq': 3, 'min_child_samples': 22}. Best is trial#16 with value: 0.5355918580707085.\u001b[0m\n",
      "{'n_estimators': 774, 'learning_rate': 0.010084398670140262, 'lambda_l1': 5.672759783402555e-07, 'lambda_l2': 4.242581281421761e-05, 'num_leaves': 127, 'feature_fraction': 0.3242648345529855, 'bagging_fraction': 0.7436326217118159, 'bagging_freq': 4, 'min_child_samples': 53}\n",
      "\u001b[32m[I 2020-05-30 22:18:33,710]\u001b[0m Finished trial#26 with value: 0.5368686704358735 with parameters: {'n_estimators': 774, 'learning_rate': 0.010084398670140262, 'lambda_l1': 5.672759783402555e-07, 'lambda_l2': 4.242581281421761e-05, 'num_leaves': 127, 'feature_fraction': 0.3242648345529855, 'bagging_fraction': 0.7436326217118159, 'bagging_freq': 4, 'min_child_samples': 53}. Best is trial#16 with value: 0.5355918580707085.\u001b[0m\n",
      "{'n_estimators': 469, 'learning_rate': 0.018410777933725385, 'lambda_l1': 1.9126370441435745e-05, 'lambda_l2': 1.163513459931255e-06, 'num_leaves': 62, 'feature_fraction': 0.6335098449482469, 'bagging_fraction': 0.5553446869643868, 'bagging_freq': 2, 'min_child_samples': 40}\n",
      "\u001b[32m[I 2020-05-30 22:24:15,953]\u001b[0m Finished trial#27 with value: 0.5377016550848958 with parameters: {'n_estimators': 469, 'learning_rate': 0.018410777933725385, 'lambda_l1': 1.9126370441435745e-05, 'lambda_l2': 1.163513459931255e-06, 'num_leaves': 62, 'feature_fraction': 0.6335098449482469, 'bagging_fraction': 0.5553446869643868, 'bagging_freq': 2, 'min_child_samples': 40}. Best is trial#16 with value: 0.5355918580707085.\u001b[0m\n",
      "{'n_estimators': 288, 'learning_rate': 0.026206572383472158, 'lambda_l1': 4.473515058982854e-08, 'lambda_l2': 1.8453706919163138e-07, 'num_leaves': 24, 'feature_fraction': 0.5706393901039034, 'bagging_fraction': 0.6052522952588036, 'bagging_freq': 3, 'min_child_samples': 79}\n",
      "\u001b[32m[I 2020-05-30 22:26:12,677]\u001b[0m Finished trial#28 with value: 0.5468568954799988 with parameters: {'n_estimators': 288, 'learning_rate': 0.026206572383472158, 'lambda_l1': 4.473515058982854e-08, 'lambda_l2': 1.8453706919163138e-07, 'num_leaves': 24, 'feature_fraction': 0.5706393901039034, 'bagging_fraction': 0.6052522952588036, 'bagging_freq': 3, 'min_child_samples': 79}. Best is trial#16 with value: 0.5355918580707085.\u001b[0m\n",
      "{'n_estimators': 642, 'learning_rate': 0.08544655947318709, 'lambda_l1': 5.477116539572291e-07, 'lambda_l2': 4.283293946975865e-08, 'num_leaves': 93, 'feature_fraction': 0.4696246642647562, 'bagging_fraction': 0.8396825940070195, 'bagging_freq': 2, 'min_child_samples': 50}\n",
      "\u001b[32m[I 2020-05-30 22:34:42,468]\u001b[0m Finished trial#29 with value: 0.6251755875198935 with parameters: {'n_estimators': 642, 'learning_rate': 0.08544655947318709, 'lambda_l1': 5.477116539572291e-07, 'lambda_l2': 4.283293946975865e-08, 'num_leaves': 93, 'feature_fraction': 0.4696246642647562, 'bagging_fraction': 0.8396825940070195, 'bagging_freq': 2, 'min_child_samples': 50}. Best is trial#16 with value: 0.5355918580707085.\u001b[0m\n",
      "{'n_estimators': 484, 'learning_rate': 0.04187179621500988, 'lambda_l1': 3.2765076559642107e-08, 'lambda_l2': 1.0238637856598613e-08, 'num_leaves': 116, 'feature_fraction': 0.40107517549608707, 'bagging_fraction': 0.7083784682318106, 'bagging_freq': 4, 'min_child_samples': 98}\n",
      "\u001b[32m[I 2020-05-30 22:41:23,338]\u001b[0m Finished trial#30 with value: 0.5516836607228346 with parameters: {'n_estimators': 484, 'learning_rate': 0.04187179621500988, 'lambda_l1': 3.2765076559642107e-08, 'lambda_l2': 1.0238637856598613e-08, 'num_leaves': 116, 'feature_fraction': 0.40107517549608707, 'bagging_fraction': 0.7083784682318106, 'bagging_freq': 4, 'min_child_samples': 98}. Best is trial#16 with value: 0.5355918580707085.\u001b[0m\n",
      "{'n_estimators': 764, 'learning_rate': 0.010102963313191134, 'lambda_l1': 2.8854569824065126e-07, 'lambda_l2': 0.00015652354974521362, 'num_leaves': 157, 'feature_fraction': 0.34407712809407337, 'bagging_fraction': 0.7534252544923291, 'bagging_freq': 4, 'min_child_samples': 53}\n",
      "\u001b[32m[I 2020-05-30 22:54:39,127]\u001b[0m Finished trial#31 with value: 0.5375694723322251 with parameters: {'n_estimators': 764, 'learning_rate': 0.010102963313191134, 'lambda_l1': 2.8854569824065126e-07, 'lambda_l2': 0.00015652354974521362, 'num_leaves': 157, 'feature_fraction': 0.34407712809407337, 'bagging_fraction': 0.7534252544923291, 'bagging_freq': 4, 'min_child_samples': 53}. Best is trial#16 with value: 0.5355918580707085.\u001b[0m\n",
      "{'n_estimators': 780, 'learning_rate': 0.013101015270792087, 'lambda_l1': 8.684877212877766e-07, 'lambda_l2': 4.971289168270357e-05, 'num_leaves': 124, 'feature_fraction': 0.3097411748691244, 'bagging_fraction': 0.7966063215977461, 'bagging_freq': 3, 'min_child_samples': 40}\n",
      "\u001b[32m[I 2020-05-30 23:06:02,167]\u001b[0m Finished trial#32 with value: 0.5367415256686521 with parameters: {'n_estimators': 780, 'learning_rate': 0.013101015270792087, 'lambda_l1': 8.684877212877766e-07, 'lambda_l2': 4.971289168270357e-05, 'num_leaves': 124, 'feature_fraction': 0.3097411748691244, 'bagging_fraction': 0.7966063215977461, 'bagging_freq': 3, 'min_child_samples': 40}. Best is trial#16 with value: 0.5355918580707085.\u001b[0m\n",
      "{'n_estimators': 628, 'learning_rate': 0.014344997302832075, 'lambda_l1': 1.4568733187876927e-05, 'lambda_l2': 0.007284170180588678, 'num_leaves': 65, 'feature_fraction': 0.3814412942760831, 'bagging_fraction': 0.7996216247094617, 'bagging_freq': 3, 'min_child_samples': 38}\n",
      "\u001b[32m[I 2020-05-30 23:13:53,270]\u001b[0m Finished trial#33 with value: 0.5370013440113237 with parameters: {'n_estimators': 628, 'learning_rate': 0.014344997302832075, 'lambda_l1': 1.4568733187876927e-05, 'lambda_l2': 0.007284170180588678, 'num_leaves': 65, 'feature_fraction': 0.3814412942760831, 'bagging_fraction': 0.7996216247094617, 'bagging_freq': 3, 'min_child_samples': 38}. Best is trial#16 with value: 0.5355918580707085.\u001b[0m\n",
      "{'n_estimators': 532, 'learning_rate': 0.013511937808387178, 'lambda_l1': 1.0396916269111078e-08, 'lambda_l2': 0.0021757252047401154, 'num_leaves': 92, 'feature_fraction': 0.6826340971176773, 'bagging_fraction': 0.6743975763021294, 'bagging_freq': 3, 'min_child_samples': 42}\n",
      "\u001b[32m[I 2020-05-30 23:23:30,092]\u001b[0m Finished trial#34 with value: 0.5377675755964743 with parameters: {'n_estimators': 532, 'learning_rate': 0.013511937808387178, 'lambda_l1': 1.0396916269111078e-08, 'lambda_l2': 0.0021757252047401154, 'num_leaves': 92, 'feature_fraction': 0.6826340971176773, 'bagging_fraction': 0.6743975763021294, 'bagging_freq': 3, 'min_child_samples': 42}. Best is trial#16 with value: 0.5355918580707085.\u001b[0m\n",
      "{'n_estimators': 817, 'learning_rate': 0.03479008978220138, 'lambda_l1': 6.610389535545375e-06, 'lambda_l2': 0.16500671233516145, 'num_leaves': 117, 'feature_fraction': 0.4322857147911312, 'bagging_fraction': 0.7799174223246098, 'bagging_freq': 2, 'min_child_samples': 22}\n",
      "\u001b[32m[I 2020-05-30 23:37:06,623]\u001b[0m Finished trial#35 with value: 0.5714017622458174 with parameters: {'n_estimators': 817, 'learning_rate': 0.03479008978220138, 'lambda_l1': 6.610389535545375e-06, 'lambda_l2': 0.16500671233516145, 'num_leaves': 117, 'feature_fraction': 0.4322857147911312, 'bagging_fraction': 0.7799174223246098, 'bagging_freq': 2, 'min_child_samples': 22}. Best is trial#16 with value: 0.5355918580707085.\u001b[0m\n",
      "{'n_estimators': 412, 'learning_rate': 0.023888127414351663, 'lambda_l1': 9.144828151112774e-07, 'lambda_l2': 4.7110433013036656e-05, 'num_leaves': 163, 'feature_fraction': 0.5850619037067893, 'bagging_fraction': 0.8795780236008035, 'bagging_freq': 3, 'min_child_samples': 34}\n",
      "\u001b[32m[I 2020-05-30 23:48:32,198]\u001b[0m Finished trial#36 with value: 0.5418684234565231 with parameters: {'n_estimators': 412, 'learning_rate': 0.023888127414351663, 'lambda_l1': 9.144828151112774e-07, 'lambda_l2': 4.7110433013036656e-05, 'num_leaves': 163, 'feature_fraction': 0.5850619037067893, 'bagging_fraction': 0.8795780236008035, 'bagging_freq': 3, 'min_child_samples': 34}. Best is trial#16 with value: 0.5355918580707085.\u001b[0m\n",
      "{'n_estimators': 736, 'learning_rate': 0.018732291526883063, 'lambda_l1': 4.765943599482262e-08, 'lambda_l2': 5.11775529048272e-07, 'num_leaves': 102, 'feature_fraction': 0.4856914334317515, 'bagging_fraction': 0.7654323590191312, 'bagging_freq': 2, 'min_child_samples': 63}\n",
      "\u001b[32m[I 2020-05-30 23:59:31,994]\u001b[0m Finished trial#37 with value: 0.5378028773085384 with parameters: {'n_estimators': 736, 'learning_rate': 0.018732291526883063, 'lambda_l1': 4.765943599482262e-08, 'lambda_l2': 5.11775529048272e-07, 'num_leaves': 102, 'feature_fraction': 0.4856914334317515, 'bagging_fraction': 0.7654323590191312, 'bagging_freq': 2, 'min_child_samples': 63}. Best is trial#16 with value: 0.5355918580707085.\u001b[0m\n",
      "{'n_estimators': 681, 'learning_rate': 0.011994498902888267, 'lambda_l1': 4.441003570847535e-06, 'lambda_l2': 2.174557054943133e-06, 'num_leaves': 79, 'feature_fraction': 0.9225733160388121, 'bagging_fraction': 0.8251167505430134, 'bagging_freq': 5, 'min_child_samples': 23}\n",
      "\u001b[32m[I 2020-05-31 00:14:54,827]\u001b[0m Finished trial#38 with value: 0.5379936215841351 with parameters: {'n_estimators': 681, 'learning_rate': 0.011994498902888267, 'lambda_l1': 4.441003570847535e-06, 'lambda_l2': 2.174557054943133e-06, 'num_leaves': 79, 'feature_fraction': 0.9225733160388121, 'bagging_fraction': 0.8251167505430134, 'bagging_freq': 5, 'min_child_samples': 23}. Best is trial#16 with value: 0.5355918580707085.\u001b[0m\n",
      "{'n_estimators': 978, 'learning_rate': 0.04664665890029874, 'lambda_l1': 9.56178101295152e-05, 'lambda_l2': 0.8073850069792139, 'num_leaves': 58, 'feature_fraction': 0.6619779253248392, 'bagging_fraction': 0.6542231756492168, 'bagging_freq': 1, 'min_child_samples': 58}\n",
      "\u001b[32m[I 2020-05-31 00:26:03,948]\u001b[0m Finished trial#39 with value: 0.5639652662381459 with parameters: {'n_estimators': 978, 'learning_rate': 0.04664665890029874, 'lambda_l1': 9.56178101295152e-05, 'lambda_l2': 0.8073850069792139, 'num_leaves': 58, 'feature_fraction': 0.6619779253248392, 'bagging_fraction': 0.6542231756492168, 'bagging_freq': 1, 'min_child_samples': 58}. Best is trial#16 with value: 0.5355918580707085.\u001b[0m\n",
      "{'n_estimators': 279, 'learning_rate': 0.017304366926419998, 'lambda_l1': 3.0071228237620727e-07, 'lambda_l2': 1.662835650284295e-07, 'num_leaves': 30, 'feature_fraction': 0.7439812405497601, 'bagging_fraction': 0.7959857377825056, 'bagging_freq': 7, 'min_child_samples': 45}\n",
      "\u001b[32m[I 2020-05-31 00:28:57,547]\u001b[0m Finished trial#40 with value: 0.556055904812212 with parameters: {'n_estimators': 279, 'learning_rate': 0.017304366926419998, 'lambda_l1': 3.0071228237620727e-07, 'lambda_l2': 1.662835650284295e-07, 'num_leaves': 30, 'feature_fraction': 0.7439812405497601, 'bagging_fraction': 0.7959857377825056, 'bagging_freq': 7, 'min_child_samples': 45}. Best is trial#16 with value: 0.5355918580707085.\u001b[0m\n",
      "{'n_estimators': 824, 'learning_rate': 0.010927824645348408, 'lambda_l1': 7.978409069497787e-07, 'lambda_l2': 4.6721373224885454e-05, 'num_leaves': 135, 'feature_fraction': 0.32867043063600165, 'bagging_fraction': 0.7390539046742534, 'bagging_freq': 4, 'min_child_samples': 53}\n"
     ]
    }
   ],
   "source": [
    "n=100\n",
    "\n",
    "sampler=TPESampler(seed=0)\n",
    "study = optuna.create_study(direction='minimize',sampler=sampler)\n",
    "fn=functools.partial(objective,df,columns,training,label,good_encoders,df_test['listing_id'],df_train['listing_id'])\n",
    "study.optimize(fn, n_trials=n,show_progress_bar=True)"
   ]
  },
  {
   "cell_type": "code",
   "execution_count": null,
   "metadata": {},
   "outputs": [],
   "source": [
    "x=[{**t.params,**t.user_attrs} for t in study.get_trials()]\n",
    "y=[ t.value for t in study.get_trials()]\n",
    "table=pd.DataFrame(x)\n",
    "table['score']=y\n",
    "\n",
    "table.to_csv(clf.__class__.__name__+'_grid_results.csv')"
   ]
  },
  {
   "cell_type": "code",
   "execution_count": null,
   "metadata": {},
   "outputs": [],
   "source": [
    "table"
   ]
  },
  {
   "cell_type": "markdown",
   "metadata": {},
   "source": [
    "## Best_grid_params"
   ]
  },
  {
   "cell_type": "code",
   "execution_count": null,
   "metadata": {},
   "outputs": [],
   "source": [
    "df,columns,clf,good_encoders=load_object(clf.__class__.__name__+'best_grid_params')\n",
    "model_predict(df[columns],df[training],df[label], clf ,good_encoders)"
   ]
  },
  {
   "cell_type": "code",
   "execution_count": 4,
   "metadata": {},
   "outputs": [
    {
     "name": "stderr",
     "output_type": "stream",
     "text": [
      "C:\\Users\\Martin\\anaconda3\\lib\\site-packages\\optuna\\_experimental.py:61: ExperimentalWarning: Progress bar is experimental (supported from v1.2.0). The interface can change in the future.\n",
      "  ExperimentalWarning,\n"
     ]
    },
    {
     "data": {
      "application/vnd.jupyter.widget-view+json": {
       "model_id": "5721f3035f974e31bf17809258da5707",
       "version_major": 2,
       "version_minor": 0
      },
      "text/plain": [
       "HBox(children=(FloatProgress(value=0.0, max=10.0), HTML(value='')))"
      ]
     },
     "metadata": {},
     "output_type": "display_data"
    },
    {
     "name": "stdout",
     "output_type": "stream",
     "text": [
      "{'n_estimators': 444, 'learning_rate': 0.022747204170935315, 'lambda_l1': 0.39663564159126696, 'lambda_l2': 0.5266360183584486, 'num_leaves': 11, 'feature_fraction': 0.8117818483929862, 'bagging_fraction': 0.73843817072927, 'bagging_freq': 2, 'min_child_samples': 75}\n",
      "[I 2020-06-08 00:09:14,879] Finished trial#0 with value: 0.5251841272076239 with parameters: {'n_estimators': 444, 'learning_rate': 0.022747204170935315, 'lambda_l1': 0.39663564159126696, 'lambda_l2': 0.5266360183584486, 'num_leaves': 11, 'feature_fraction': 0.8117818483929862, 'bagging_fraction': 0.73843817072927, 'bagging_freq': 2, 'min_child_samples': 75}. Best is trial#0 with value: 0.5251841272076239.\n",
      "{'n_estimators': 424, 'learning_rate': 0.038034945056526645, 'lambda_l1': 2.8247087122296067e-05, 'lambda_l2': 0.13351354975517513, 'num_leaves': 89, 'feature_fraction': 0.7399885861875286, 'bagging_fraction': 0.739278479610083, 'bagging_freq': 2, 'min_child_samples': 82}\n",
      "\n"
     ]
    },
    {
     "ename": "KeyboardInterrupt",
     "evalue": "",
     "output_type": "error",
     "traceback": [
      "\u001b[1;31m---------------------------------------------------------------------------\u001b[0m",
      "\u001b[1;31mKeyboardInterrupt\u001b[0m                         Traceback (most recent call last)",
      "\u001b[1;32m<ipython-input-4-e18337fd3e1e>\u001b[0m in \u001b[0;36m<module>\u001b[1;34m\u001b[0m\n\u001b[0;32m     36\u001b[0m \u001b[0mstudy\u001b[0m \u001b[1;33m=\u001b[0m \u001b[0moptuna\u001b[0m\u001b[1;33m.\u001b[0m\u001b[0mcreate_study\u001b[0m\u001b[1;33m(\u001b[0m\u001b[0mdirection\u001b[0m\u001b[1;33m=\u001b[0m\u001b[1;34m'minimize'\u001b[0m\u001b[1;33m,\u001b[0m\u001b[0msampler\u001b[0m\u001b[1;33m=\u001b[0m\u001b[0msampler\u001b[0m\u001b[1;33m)\u001b[0m\u001b[1;33m\u001b[0m\u001b[1;33m\u001b[0m\u001b[0m\n\u001b[0;32m     37\u001b[0m \u001b[0mfn\u001b[0m\u001b[1;33m=\u001b[0m\u001b[0mfunctools\u001b[0m\u001b[1;33m.\u001b[0m\u001b[0mpartial\u001b[0m\u001b[1;33m(\u001b[0m\u001b[0mobjective\u001b[0m\u001b[1;33m,\u001b[0m\u001b[0mdf\u001b[0m\u001b[1;33m,\u001b[0m\u001b[0mcolumns\u001b[0m\u001b[1;33m,\u001b[0m\u001b[0mtraining\u001b[0m\u001b[1;33m,\u001b[0m\u001b[0mlabel\u001b[0m\u001b[1;33m,\u001b[0m\u001b[0mdf_test\u001b[0m\u001b[1;33m[\u001b[0m\u001b[1;34m'listing_id'\u001b[0m\u001b[1;33m]\u001b[0m\u001b[1;33m,\u001b[0m\u001b[0mdf_train\u001b[0m\u001b[1;33m[\u001b[0m\u001b[1;34m'listing_id'\u001b[0m\u001b[1;33m]\u001b[0m\u001b[1;33m)\u001b[0m\u001b[1;33m\u001b[0m\u001b[1;33m\u001b[0m\u001b[0m\n\u001b[1;32m---> 38\u001b[1;33m \u001b[0mstudy\u001b[0m\u001b[1;33m.\u001b[0m\u001b[0moptimize\u001b[0m\u001b[1;33m(\u001b[0m\u001b[0mfn\u001b[0m\u001b[1;33m,\u001b[0m \u001b[0mn_trials\u001b[0m\u001b[1;33m=\u001b[0m\u001b[0mn\u001b[0m\u001b[1;33m,\u001b[0m\u001b[0mshow_progress_bar\u001b[0m\u001b[1;33m=\u001b[0m\u001b[1;32mTrue\u001b[0m\u001b[1;33m)\u001b[0m\u001b[1;33m\u001b[0m\u001b[1;33m\u001b[0m\u001b[0m\n\u001b[0m\u001b[0;32m     39\u001b[0m \u001b[1;33m\u001b[0m\u001b[0m\n\u001b[0;32m     40\u001b[0m \u001b[0mx\u001b[0m\u001b[1;33m=\u001b[0m\u001b[1;33m[\u001b[0m\u001b[1;33m{\u001b[0m\u001b[1;33m**\u001b[0m\u001b[0mt\u001b[0m\u001b[1;33m.\u001b[0m\u001b[0mparams\u001b[0m\u001b[1;33m,\u001b[0m\u001b[1;33m**\u001b[0m\u001b[0mt\u001b[0m\u001b[1;33m.\u001b[0m\u001b[0muser_attrs\u001b[0m\u001b[1;33m}\u001b[0m \u001b[1;32mfor\u001b[0m \u001b[0mt\u001b[0m \u001b[1;32min\u001b[0m \u001b[0mstudy\u001b[0m\u001b[1;33m.\u001b[0m\u001b[0mget_trials\u001b[0m\u001b[1;33m(\u001b[0m\u001b[1;33m)\u001b[0m\u001b[1;33m]\u001b[0m\u001b[1;33m\u001b[0m\u001b[1;33m\u001b[0m\u001b[0m\n",
      "\u001b[1;32m~\\anaconda3\\lib\\site-packages\\optuna\\study.py\u001b[0m in \u001b[0;36moptimize\u001b[1;34m(self, func, n_trials, timeout, n_jobs, catch, callbacks, gc_after_trial, show_progress_bar)\u001b[0m\n\u001b[0;32m    337\u001b[0m             \u001b[1;32mif\u001b[0m \u001b[0mn_jobs\u001b[0m \u001b[1;33m==\u001b[0m \u001b[1;36m1\u001b[0m\u001b[1;33m:\u001b[0m\u001b[1;33m\u001b[0m\u001b[1;33m\u001b[0m\u001b[0m\n\u001b[0;32m    338\u001b[0m                 self._optimize_sequential(\n\u001b[1;32m--> 339\u001b[1;33m                     \u001b[0mfunc\u001b[0m\u001b[1;33m,\u001b[0m \u001b[0mn_trials\u001b[0m\u001b[1;33m,\u001b[0m \u001b[0mtimeout\u001b[0m\u001b[1;33m,\u001b[0m \u001b[0mcatch\u001b[0m\u001b[1;33m,\u001b[0m \u001b[0mcallbacks\u001b[0m\u001b[1;33m,\u001b[0m \u001b[0mgc_after_trial\u001b[0m\u001b[1;33m,\u001b[0m \u001b[1;32mNone\u001b[0m\u001b[1;33m\u001b[0m\u001b[1;33m\u001b[0m\u001b[0m\n\u001b[0m\u001b[0;32m    340\u001b[0m                 )\n\u001b[0;32m    341\u001b[0m             \u001b[1;32melse\u001b[0m\u001b[1;33m:\u001b[0m\u001b[1;33m\u001b[0m\u001b[1;33m\u001b[0m\u001b[0m\n",
      "\u001b[1;32m~\\anaconda3\\lib\\site-packages\\optuna\\study.py\u001b[0m in \u001b[0;36m_optimize_sequential\u001b[1;34m(self, func, n_trials, timeout, catch, callbacks, gc_after_trial, time_start)\u001b[0m\n\u001b[0;32m    680\u001b[0m                     \u001b[1;32mbreak\u001b[0m\u001b[1;33m\u001b[0m\u001b[1;33m\u001b[0m\u001b[0m\n\u001b[0;32m    681\u001b[0m \u001b[1;33m\u001b[0m\u001b[0m\n\u001b[1;32m--> 682\u001b[1;33m             \u001b[0mself\u001b[0m\u001b[1;33m.\u001b[0m\u001b[0m_run_trial_and_callbacks\u001b[0m\u001b[1;33m(\u001b[0m\u001b[0mfunc\u001b[0m\u001b[1;33m,\u001b[0m \u001b[0mcatch\u001b[0m\u001b[1;33m,\u001b[0m \u001b[0mcallbacks\u001b[0m\u001b[1;33m,\u001b[0m \u001b[0mgc_after_trial\u001b[0m\u001b[1;33m)\u001b[0m\u001b[1;33m\u001b[0m\u001b[1;33m\u001b[0m\u001b[0m\n\u001b[0m\u001b[0;32m    683\u001b[0m \u001b[1;33m\u001b[0m\u001b[0m\n\u001b[0;32m    684\u001b[0m             \u001b[0mself\u001b[0m\u001b[1;33m.\u001b[0m\u001b[0m_progress_bar\u001b[0m\u001b[1;33m.\u001b[0m\u001b[0mupdate\u001b[0m\u001b[1;33m(\u001b[0m\u001b[1;33m(\u001b[0m\u001b[0mdatetime\u001b[0m\u001b[1;33m.\u001b[0m\u001b[0mdatetime\u001b[0m\u001b[1;33m.\u001b[0m\u001b[0mnow\u001b[0m\u001b[1;33m(\u001b[0m\u001b[1;33m)\u001b[0m \u001b[1;33m-\u001b[0m \u001b[0mtime_start\u001b[0m\u001b[1;33m)\u001b[0m\u001b[1;33m.\u001b[0m\u001b[0mtotal_seconds\u001b[0m\u001b[1;33m(\u001b[0m\u001b[1;33m)\u001b[0m\u001b[1;33m)\u001b[0m\u001b[1;33m\u001b[0m\u001b[1;33m\u001b[0m\u001b[0m\n",
      "\u001b[1;32m~\\anaconda3\\lib\\site-packages\\optuna\\study.py\u001b[0m in \u001b[0;36m_run_trial_and_callbacks\u001b[1;34m(self, func, catch, callbacks, gc_after_trial)\u001b[0m\n\u001b[0;32m    711\u001b[0m         \u001b[1;31m# type: (...) -> None\u001b[0m\u001b[1;33m\u001b[0m\u001b[1;33m\u001b[0m\u001b[1;33m\u001b[0m\u001b[0m\n\u001b[0;32m    712\u001b[0m \u001b[1;33m\u001b[0m\u001b[0m\n\u001b[1;32m--> 713\u001b[1;33m         \u001b[0mtrial\u001b[0m \u001b[1;33m=\u001b[0m \u001b[0mself\u001b[0m\u001b[1;33m.\u001b[0m\u001b[0m_run_trial\u001b[0m\u001b[1;33m(\u001b[0m\u001b[0mfunc\u001b[0m\u001b[1;33m,\u001b[0m \u001b[0mcatch\u001b[0m\u001b[1;33m,\u001b[0m \u001b[0mgc_after_trial\u001b[0m\u001b[1;33m)\u001b[0m\u001b[1;33m\u001b[0m\u001b[1;33m\u001b[0m\u001b[0m\n\u001b[0m\u001b[0;32m    714\u001b[0m         \u001b[1;32mif\u001b[0m \u001b[0mcallbacks\u001b[0m \u001b[1;32mis\u001b[0m \u001b[1;32mnot\u001b[0m \u001b[1;32mNone\u001b[0m\u001b[1;33m:\u001b[0m\u001b[1;33m\u001b[0m\u001b[1;33m\u001b[0m\u001b[0m\n\u001b[0;32m    715\u001b[0m             \u001b[0mfrozen_trial\u001b[0m \u001b[1;33m=\u001b[0m \u001b[0mcopy\u001b[0m\u001b[1;33m.\u001b[0m\u001b[0mdeepcopy\u001b[0m\u001b[1;33m(\u001b[0m\u001b[0mself\u001b[0m\u001b[1;33m.\u001b[0m\u001b[0m_storage\u001b[0m\u001b[1;33m.\u001b[0m\u001b[0mget_trial\u001b[0m\u001b[1;33m(\u001b[0m\u001b[0mtrial\u001b[0m\u001b[1;33m.\u001b[0m\u001b[0m_trial_id\u001b[0m\u001b[1;33m)\u001b[0m\u001b[1;33m)\u001b[0m\u001b[1;33m\u001b[0m\u001b[1;33m\u001b[0m\u001b[0m\n",
      "\u001b[1;32m~\\anaconda3\\lib\\site-packages\\optuna\\study.py\u001b[0m in \u001b[0;36m_run_trial\u001b[1;34m(self, func, catch, gc_after_trial)\u001b[0m\n\u001b[0;32m    732\u001b[0m \u001b[1;33m\u001b[0m\u001b[0m\n\u001b[0;32m    733\u001b[0m         \u001b[1;32mtry\u001b[0m\u001b[1;33m:\u001b[0m\u001b[1;33m\u001b[0m\u001b[1;33m\u001b[0m\u001b[0m\n\u001b[1;32m--> 734\u001b[1;33m             \u001b[0mresult\u001b[0m \u001b[1;33m=\u001b[0m \u001b[0mfunc\u001b[0m\u001b[1;33m(\u001b[0m\u001b[0mtrial\u001b[0m\u001b[1;33m)\u001b[0m\u001b[1;33m\u001b[0m\u001b[1;33m\u001b[0m\u001b[0m\n\u001b[0m\u001b[0;32m    735\u001b[0m         \u001b[1;32mexcept\u001b[0m \u001b[0mexceptions\u001b[0m\u001b[1;33m.\u001b[0m\u001b[0mTrialPruned\u001b[0m \u001b[1;32mas\u001b[0m \u001b[0me\u001b[0m\u001b[1;33m:\u001b[0m\u001b[1;33m\u001b[0m\u001b[1;33m\u001b[0m\u001b[0m\n\u001b[0;32m    736\u001b[0m             message = \"Setting status of trial#{} as {}. {}\".format(\n",
      "\u001b[1;32m<ipython-input-4-e18337fd3e1e>\u001b[0m in \u001b[0;36mobjective\u001b[1;34m(df, columns, training, label, df_test_listingID, df_train_listingID, trial)\u001b[0m\n\u001b[0;32m     26\u001b[0m     \u001b[0mprint\u001b[0m\u001b[1;33m(\u001b[0m\u001b[0mparams\u001b[0m\u001b[1;33m)\u001b[0m\u001b[1;33m\u001b[0m\u001b[1;33m\u001b[0m\u001b[0m\n\u001b[0;32m     27\u001b[0m     \u001b[0mclf\u001b[0m\u001b[1;33m=\u001b[0m\u001b[0mLGBMClassifier\u001b[0m\u001b[1;33m(\u001b[0m\u001b[0mn_jobs\u001b[0m\u001b[1;33m=\u001b[0m\u001b[1;33m-\u001b[0m\u001b[1;36m1\u001b[0m\u001b[1;33m,\u001b[0m\u001b[0mrandom_state\u001b[0m\u001b[1;33m=\u001b[0m\u001b[1;36m0\u001b[0m\u001b[1;33m,\u001b[0m\u001b[1;33m**\u001b[0m\u001b[0mparams\u001b[0m\u001b[1;33m)\u001b[0m\u001b[1;33m\u001b[0m\u001b[1;33m\u001b[0m\u001b[0m\n\u001b[1;32m---> 28\u001b[1;33m     \u001b[0mtest_pred\u001b[0m\u001b[1;33m,\u001b[0m\u001b[0myoof\u001b[0m\u001b[1;33m,\u001b[0m\u001b[0mlloss\u001b[0m\u001b[1;33m=\u001b[0m\u001b[0mmodel_predict\u001b[0m\u001b[1;33m(\u001b[0m\u001b[0mdf\u001b[0m\u001b[1;33m[\u001b[0m\u001b[0mcolumns\u001b[0m\u001b[1;33m]\u001b[0m\u001b[1;33m,\u001b[0m\u001b[0mdf\u001b[0m\u001b[1;33m[\u001b[0m\u001b[0mtraining\u001b[0m\u001b[1;33m]\u001b[0m\u001b[1;33m,\u001b[0m\u001b[0mdf\u001b[0m\u001b[1;33m[\u001b[0m\u001b[0mlabel\u001b[0m\u001b[1;33m]\u001b[0m\u001b[1;33m,\u001b[0m \u001b[0mclf\u001b[0m \u001b[1;33m)\u001b[0m\u001b[1;33m\u001b[0m\u001b[1;33m\u001b[0m\u001b[0m\n\u001b[0m\u001b[0;32m     29\u001b[0m     \u001b[0mmodel_id\u001b[0m\u001b[1;33m=\u001b[0m\u001b[0mmd5\u001b[0m\u001b[1;33m(\u001b[0m\u001b[0mstr\u001b[0m\u001b[1;33m(\u001b[0m\u001b[0mparams\u001b[0m\u001b[1;33m)\u001b[0m\u001b[1;33m.\u001b[0m\u001b[0mencode\u001b[0m\u001b[1;33m(\u001b[0m\u001b[1;33m)\u001b[0m\u001b[1;33m)\u001b[0m\u001b[1;33m.\u001b[0m\u001b[0mhexdigest\u001b[0m\u001b[1;33m(\u001b[0m\u001b[1;33m)\u001b[0m\u001b[1;33m[\u001b[0m\u001b[1;33m:\u001b[0m\u001b[1;36m6\u001b[0m\u001b[1;33m]\u001b[0m\u001b[1;33m\u001b[0m\u001b[1;33m\u001b[0m\u001b[0m\n\u001b[0;32m     30\u001b[0m     \u001b[0mmodel_id\u001b[0m\u001b[1;33m=\u001b[0m\u001b[0mclf\u001b[0m\u001b[1;33m.\u001b[0m\u001b[0m__class__\u001b[0m\u001b[1;33m.\u001b[0m\u001b[0m__name__\u001b[0m\u001b[1;33m+\u001b[0m\u001b[1;34m'_'\u001b[0m\u001b[1;33m+\u001b[0m\u001b[0mmodel_id\u001b[0m\u001b[1;33m+\u001b[0m\u001b[1;34m'_'\u001b[0m\u001b[1;33m+\u001b[0m\u001b[0mstr\u001b[0m\u001b[1;33m(\u001b[0m\u001b[0mround\u001b[0m\u001b[1;33m(\u001b[0m\u001b[0mlloss\u001b[0m\u001b[1;33m,\u001b[0m\u001b[1;36m3\u001b[0m\u001b[1;33m)\u001b[0m\u001b[1;33m)\u001b[0m\u001b[1;33m+\u001b[0m\u001b[1;34m'LGBM'\u001b[0m\u001b[1;33m\u001b[0m\u001b[1;33m\u001b[0m\u001b[0m\n",
      "\u001b[1;32m~\\kaggle\\two-sigma\\modeling.py\u001b[0m in \u001b[0;36mmodel_predict\u001b[1;34m(df, training_mask, target, clf, encoder_dict, n_splits)\u001b[0m\n\u001b[0;32m    413\u001b[0m         \u001b[1;31m##\u001b[0m\u001b[1;33m\u001b[0m\u001b[1;33m\u001b[0m\u001b[1;33m\u001b[0m\u001b[0m\n\u001b[0;32m    414\u001b[0m         \u001b[0mpredict_enc\u001b[0m\u001b[1;33m(\u001b[0m\u001b[0mencoder_dict\u001b[0m\u001b[1;33m,\u001b[0m\u001b[0mX_train\u001b[0m\u001b[1;33m,\u001b[0m\u001b[0mX_val\u001b[0m\u001b[1;33m,\u001b[0m\u001b[0my_train\u001b[0m\u001b[1;33m)\u001b[0m\u001b[1;33m\u001b[0m\u001b[1;33m\u001b[0m\u001b[0m\n\u001b[1;32m--> 415\u001b[1;33m         \u001b[0mclf\u001b[0m\u001b[1;33m.\u001b[0m\u001b[0mfit\u001b[0m\u001b[1;33m(\u001b[0m\u001b[0mX_train\u001b[0m\u001b[1;33m.\u001b[0m\u001b[0mdrop\u001b[0m\u001b[1;33m(\u001b[0m\u001b[0mcolumns\u001b[0m\u001b[1;33m=\u001b[0m\u001b[0mencoder_dict\u001b[0m\u001b[1;33m.\u001b[0m\u001b[0mkeys\u001b[0m\u001b[1;33m(\u001b[0m\u001b[1;33m)\u001b[0m\u001b[1;33m)\u001b[0m\u001b[1;33m,\u001b[0m \u001b[0my_train\u001b[0m\u001b[1;33m)\u001b[0m\u001b[1;33m\u001b[0m\u001b[1;33m\u001b[0m\u001b[0m\n\u001b[0m\u001b[0;32m    416\u001b[0m         \u001b[0mpreds\u001b[0m\u001b[1;33m=\u001b[0m\u001b[0mclf\u001b[0m\u001b[1;33m.\u001b[0m\u001b[0mpredict_proba\u001b[0m\u001b[1;33m(\u001b[0m\u001b[0mX_val\u001b[0m\u001b[1;33m.\u001b[0m\u001b[0mdrop\u001b[0m\u001b[1;33m(\u001b[0m\u001b[0mcolumns\u001b[0m\u001b[1;33m=\u001b[0m\u001b[0mencoder_dict\u001b[0m\u001b[1;33m.\u001b[0m\u001b[0mkeys\u001b[0m\u001b[1;33m(\u001b[0m\u001b[1;33m)\u001b[0m\u001b[1;33m)\u001b[0m\u001b[1;33m)\u001b[0m\u001b[1;33m\u001b[0m\u001b[1;33m\u001b[0m\u001b[0m\n\u001b[0;32m    417\u001b[0m         \u001b[0mscores\u001b[0m\u001b[1;33m.\u001b[0m\u001b[0mappend\u001b[0m\u001b[1;33m(\u001b[0m\u001b[0mlog_loss\u001b[0m\u001b[1;33m(\u001b[0m\u001b[0my_val\u001b[0m\u001b[1;33m,\u001b[0m \u001b[0mpreds\u001b[0m\u001b[1;33m)\u001b[0m\u001b[1;33m)\u001b[0m\u001b[1;33m\u001b[0m\u001b[1;33m\u001b[0m\u001b[0m\n",
      "\u001b[1;32m~\\anaconda3\\lib\\site-packages\\lightgbm\\sklearn.py\u001b[0m in \u001b[0;36mfit\u001b[1;34m(self, X, y, sample_weight, init_score, eval_set, eval_names, eval_sample_weight, eval_class_weight, eval_init_score, eval_metric, early_stopping_rounds, verbose, feature_name, categorical_feature, callbacks)\u001b[0m\n\u001b[0;32m    798\u001b[0m                                         \u001b[0mverbose\u001b[0m\u001b[1;33m=\u001b[0m\u001b[0mverbose\u001b[0m\u001b[1;33m,\u001b[0m \u001b[0mfeature_name\u001b[0m\u001b[1;33m=\u001b[0m\u001b[0mfeature_name\u001b[0m\u001b[1;33m,\u001b[0m\u001b[1;33m\u001b[0m\u001b[1;33m\u001b[0m\u001b[0m\n\u001b[0;32m    799\u001b[0m                                         \u001b[0mcategorical_feature\u001b[0m\u001b[1;33m=\u001b[0m\u001b[0mcategorical_feature\u001b[0m\u001b[1;33m,\u001b[0m\u001b[1;33m\u001b[0m\u001b[1;33m\u001b[0m\u001b[0m\n\u001b[1;32m--> 800\u001b[1;33m                                         callbacks=callbacks)\n\u001b[0m\u001b[0;32m    801\u001b[0m         \u001b[1;32mreturn\u001b[0m \u001b[0mself\u001b[0m\u001b[1;33m\u001b[0m\u001b[1;33m\u001b[0m\u001b[0m\n\u001b[0;32m    802\u001b[0m \u001b[1;33m\u001b[0m\u001b[0m\n",
      "\u001b[1;32m~\\anaconda3\\lib\\site-packages\\lightgbm\\sklearn.py\u001b[0m in \u001b[0;36mfit\u001b[1;34m(self, X, y, sample_weight, init_score, group, eval_set, eval_names, eval_sample_weight, eval_class_weight, eval_init_score, eval_group, eval_metric, early_stopping_rounds, verbose, feature_name, categorical_feature, callbacks)\u001b[0m\n\u001b[0;32m    593\u001b[0m                               \u001b[0mverbose_eval\u001b[0m\u001b[1;33m=\u001b[0m\u001b[0mverbose\u001b[0m\u001b[1;33m,\u001b[0m \u001b[0mfeature_name\u001b[0m\u001b[1;33m=\u001b[0m\u001b[0mfeature_name\u001b[0m\u001b[1;33m,\u001b[0m\u001b[1;33m\u001b[0m\u001b[1;33m\u001b[0m\u001b[0m\n\u001b[0;32m    594\u001b[0m                               \u001b[0mcategorical_feature\u001b[0m\u001b[1;33m=\u001b[0m\u001b[0mcategorical_feature\u001b[0m\u001b[1;33m,\u001b[0m\u001b[1;33m\u001b[0m\u001b[1;33m\u001b[0m\u001b[0m\n\u001b[1;32m--> 595\u001b[1;33m                               callbacks=callbacks)\n\u001b[0m\u001b[0;32m    596\u001b[0m \u001b[1;33m\u001b[0m\u001b[0m\n\u001b[0;32m    597\u001b[0m         \u001b[1;32mif\u001b[0m \u001b[0mevals_result\u001b[0m\u001b[1;33m:\u001b[0m\u001b[1;33m\u001b[0m\u001b[1;33m\u001b[0m\u001b[0m\n",
      "\u001b[1;32m~\\anaconda3\\lib\\site-packages\\lightgbm\\engine.py\u001b[0m in \u001b[0;36mtrain\u001b[1;34m(params, train_set, num_boost_round, valid_sets, valid_names, fobj, feval, init_model, feature_name, categorical_feature, early_stopping_rounds, evals_result, verbose_eval, learning_rates, keep_training_booster, callbacks)\u001b[0m\n\u001b[0;32m    247\u001b[0m                                     evaluation_result_list=None))\n\u001b[0;32m    248\u001b[0m \u001b[1;33m\u001b[0m\u001b[0m\n\u001b[1;32m--> 249\u001b[1;33m         \u001b[0mbooster\u001b[0m\u001b[1;33m.\u001b[0m\u001b[0mupdate\u001b[0m\u001b[1;33m(\u001b[0m\u001b[0mfobj\u001b[0m\u001b[1;33m=\u001b[0m\u001b[0mfobj\u001b[0m\u001b[1;33m)\u001b[0m\u001b[1;33m\u001b[0m\u001b[1;33m\u001b[0m\u001b[0m\n\u001b[0m\u001b[0;32m    250\u001b[0m \u001b[1;33m\u001b[0m\u001b[0m\n\u001b[0;32m    251\u001b[0m         \u001b[0mevaluation_result_list\u001b[0m \u001b[1;33m=\u001b[0m \u001b[1;33m[\u001b[0m\u001b[1;33m]\u001b[0m\u001b[1;33m\u001b[0m\u001b[1;33m\u001b[0m\u001b[0m\n",
      "\u001b[1;32m~\\anaconda3\\lib\\site-packages\\lightgbm\\basic.py\u001b[0m in \u001b[0;36mupdate\u001b[1;34m(self, train_set, fobj)\u001b[0m\n\u001b[0;32m   1924\u001b[0m             _safe_call(_LIB.LGBM_BoosterUpdateOneIter(\n\u001b[0;32m   1925\u001b[0m                 \u001b[0mself\u001b[0m\u001b[1;33m.\u001b[0m\u001b[0mhandle\u001b[0m\u001b[1;33m,\u001b[0m\u001b[1;33m\u001b[0m\u001b[1;33m\u001b[0m\u001b[0m\n\u001b[1;32m-> 1926\u001b[1;33m                 ctypes.byref(is_finished)))\n\u001b[0m\u001b[0;32m   1927\u001b[0m             \u001b[0mself\u001b[0m\u001b[1;33m.\u001b[0m\u001b[0m__is_predicted_cur_iter\u001b[0m \u001b[1;33m=\u001b[0m \u001b[1;33m[\u001b[0m\u001b[1;32mFalse\u001b[0m \u001b[1;32mfor\u001b[0m \u001b[0m_\u001b[0m \u001b[1;32min\u001b[0m \u001b[0mrange_\u001b[0m\u001b[1;33m(\u001b[0m\u001b[0mself\u001b[0m\u001b[1;33m.\u001b[0m\u001b[0m__num_dataset\u001b[0m\u001b[1;33m)\u001b[0m\u001b[1;33m]\u001b[0m\u001b[1;33m\u001b[0m\u001b[1;33m\u001b[0m\u001b[0m\n\u001b[0;32m   1928\u001b[0m             \u001b[1;32mreturn\u001b[0m \u001b[0mis_finished\u001b[0m\u001b[1;33m.\u001b[0m\u001b[0mvalue\u001b[0m \u001b[1;33m==\u001b[0m \u001b[1;36m1\u001b[0m\u001b[1;33m\u001b[0m\u001b[1;33m\u001b[0m\u001b[0m\n",
      "\u001b[1;31mKeyboardInterrupt\u001b[0m: "
     ]
    }
   ],
   "source": [
    "import functools\n",
    "import optuna\n",
    "from hashlib import md5\n",
    "from optuna.samplers import TPESampler\n",
    "\n",
    "df= pd.read_csv('ensemble_predictions.csv')\n",
    "df_train= pd.read_json('train.json')\n",
    "df_test= pd.read_json('test.json')\n",
    "columns=df.drop(columns=['target','training','listing_id']).columns\n",
    "training='training'\n",
    "label='target'\n",
    "\n",
    "def objective(df,columns,training,label,df_test_listingID,df_train_listingID,trial):\n",
    "    params ={\n",
    "        'n_estimators':trial.suggest_int('n_estimators', 400, 450),\n",
    "        'learning_rate': trial.suggest_loguniform('learning_rate', 0.01, 0.04),\n",
    "        'lambda_l1': trial.suggest_loguniform('lambda_l1', 1e-8, 10.0),\n",
    "        'lambda_l2': trial.suggest_loguniform('lambda_l2', 1e-8, 10.0),\n",
    "        'num_leaves': trial.suggest_int('num_leaves', 2, 100),\n",
    "        'feature_fraction': trial.suggest_uniform('feature_fraction', 0.5, 1.0),\n",
    "        'bagging_fraction': trial.suggest_uniform('bagging_fraction', 0.7, 0.8),\n",
    "        'bagging_freq': trial.suggest_int('bagging_freq', 1, 2),\n",
    "        'min_child_samples': trial.suggest_int('min_child_samples', 5, 100),\n",
    "    }\n",
    "    \n",
    "    print(params)\n",
    "    clf=LGBMClassifier(n_jobs=-1,random_state=0,**params)\n",
    "    test_pred,yoof,lloss=model_predict(df[columns],df[training],df[label], clf )\n",
    "    model_id=md5(str(params).encode()).hexdigest()[:6]\n",
    "    model_id=clf.__class__.__name__+'_'+model_id+'_'+str(round(lloss,3))+'LGBM'\n",
    "    trial.set_user_attr('model_id',model_id)\n",
    "    save_csv (model_id,test_pred,yoof,clf,df_test_listingID,df_train_listingID)\n",
    "    return lloss\n",
    "n=10\n",
    "sampler=TPESampler(seed=0)\n",
    "study = optuna.create_study(direction='minimize',sampler=sampler)\n",
    "fn=functools.partial(objective,df,columns,training,label,df_test['listing_id'],df_train['listing_id'])\n",
    "study.optimize(fn, n_trials=n,show_progress_bar=True)\n",
    "\n",
    "x=[{**t.params,**t.user_attrs} for t in study.get_trials()]\n",
    "y=[ t.value for t in study.get_trials()]\n",
    "table=pd.DataFrame(x)\n",
    "table['score']=y\n",
    "\n",
    "table.to_csv(clf.__class__.__name__+'_grid_LGBM_Ensemble.csv')"
   ]
  },
  {
   "cell_type": "code",
   "execution_count": 6,
   "metadata": {},
   "outputs": [
    {
     "name": "stdout",
     "output_type": "stream",
     "text": [
      "modeling\n"
     ]
    }
   ],
   "source": [
    "parameters=pd.read_csv('LGBMClassifier_grid_results.csv')\n",
    "best_params=get_best_params(parameters,'score')\n",
    "best_params\n",
    "clf=LGBMClassifier(n_jobs=-1,**best_params)\n",
    "df= pd.read_csv('ensemble_predictions.csv')\n",
    "df_train= pd.read_json('train.json')\n",
    "df_test= pd.read_json('test.json')\n",
    "columns=df.drop(columns=['target','training','listing_id']).columns\n",
    "training='training'\n",
    "label='target'\n",
    "print('modeling')\n",
    "test_pred,yoof,lloss=model_predict(df[columns],df[training],df[label], clf )\n",
    "\n"
   ]
  },
  {
   "cell_type": "code",
   "execution_count": 11,
   "metadata": {},
   "outputs": [],
   "source": [
    "best_params={'n_estimators': 444, 'learning_rate': 0.022747204170935315, 'lambda_l1': 0.39663564159126696, 'lambda_l2': 0.5266360183584486, 'num_leaves': 11, 'feature_fraction': 0.8117818483929862, 'bagging_fraction': 0.73843817072927, 'bagging_freq': 2, 'min_child_samples': 75}\n",
    "clf=LGBMClassifier(n_jobs=-1,random_state=0,**best_params)\n",
    "test_pred,yoof,lloss=model_predict(df[columns],df[training],df[label], clf )"
   ]
  },
  {
   "cell_type": "code",
   "execution_count": 12,
   "metadata": {},
   "outputs": [
    {
     "data": {
      "text/plain": [
       "0.5251841272076239"
      ]
     },
     "execution_count": 12,
     "metadata": {},
     "output_type": "execute_result"
    }
   ],
   "source": [
    "lloss"
   ]
  },
  {
   "cell_type": "code",
   "execution_count": 7,
   "metadata": {},
   "outputs": [
    {
     "data": {
      "text/plain": [
       "0.5302228421667791"
      ]
     },
     "execution_count": 7,
     "metadata": {},
     "output_type": "execute_result"
    }
   ],
   "source": [
    "lloss"
   ]
  },
  {
   "cell_type": "code",
   "execution_count": null,
   "metadata": {},
   "outputs": [],
   "source": [
    "model_id=clf.__class__.__name__+'Ensemble'+model_id+'_'+str(round(lloss,5))"
   ]
  },
  {
   "cell_type": "code",
   "execution_count": 5,
   "metadata": {},
   "outputs": [
    {
     "data": {
      "text/plain": [
       "{'n_estimators': 972,\n",
       " 'learning_rate': 0.01848416124154692,\n",
       " 'lambda_l1': 1.1948456836604695,\n",
       " 'lambda_l2': 8.364115989935963e-07,\n",
       " 'num_leaves': 34,\n",
       " 'feature_fraction': 0.7671799905376775,\n",
       " 'bagging_fraction': 0.7281188949960176,\n",
       " 'bagging_freq': 2,\n",
       " 'min_child_samples': 88}"
      ]
     },
     "execution_count": 5,
     "metadata": {},
     "output_type": "execute_result"
    }
   ],
   "source": [
    "best_params"
   ]
  },
  {
   "cell_type": "code",
   "execution_count": null,
   "metadata": {},
   "outputs": [],
   "source": [
    "save_csv(model_id,test_pred,yoof,clf,df_test['listing_id'],df_train['listing_id'])"
   ]
  },
  {
   "cell_type": "code",
   "execution_count": 18,
   "metadata": {},
   "outputs": [
    {
     "data": {
      "text/plain": [
       "0.5264353194248115"
      ]
     },
     "execution_count": 18,
     "metadata": {},
     "output_type": "execute_result"
    }
   ],
   "source": [
    "#best_params=get_best_params(parameters,'score')\n",
    "best_params={'n_estimators': 444, 'learning_rate': 0.022747204170935315, 'lambda_l1': 0.39663564159126696, 'lambda_l2': 0.5266360183584486, 'num_leaves': 11, 'feature_fraction': 0.8117818483929862, 'bagging_fraction': 0.73843817072927, 'bagging_freq': 2, 'min_child_samples': 75}\n",
    "best_params\n",
    "clf=LGBMClassifier(n_jobs=-1,random_state=0,**best_params)\n",
    "df= pd.read_csv('ensemble_predictions_v1.csv')\n",
    "columns=df.drop(columns=['target','training','listing_id']).columns\n",
    "training='training'\n",
    "label='target'\n",
    "test_pred,yoof,lloss=model_predict(df[columns],df[training],df[label], clf )\n",
    "lloss"
   ]
  },
  {
   "cell_type": "code",
   "execution_count": null,
   "metadata": {},
   "outputs": [],
   "source": []
  },
  {
   "cell_type": "code",
   "execution_count": 17,
   "metadata": {},
   "outputs": [
    {
     "data": {
      "text/plain": [
       "0.5323436013029318"
      ]
     },
     "execution_count": 17,
     "metadata": {},
     "output_type": "execute_result"
    }
   ],
   "source": [
    "lloss"
   ]
  },
  {
   "cell_type": "code",
   "execution_count": null,
   "metadata": {},
   "outputs": [],
   "source": [
    "model_id=clf.__class__.__name__+'Ensemble'+model_id+'_'+str(round(lloss,5))"
   ]
  },
  {
   "cell_type": "code",
   "execution_count": null,
   "metadata": {},
   "outputs": [],
   "source": []
  },
  {
   "cell_type": "code",
   "execution_count": 21,
   "metadata": {},
   "outputs": [
    {
     "name": "stderr",
     "output_type": "stream",
     "text": [
      "C:\\Users\\Martin\\anaconda3\\lib\\site-packages\\optuna\\_experimental.py:61: ExperimentalWarning: Progress bar is experimental (supported from v1.2.0). The interface can change in the future.\n",
      "  ExperimentalWarning,\n"
     ]
    },
    {
     "data": {
      "application/vnd.jupyter.widget-view+json": {
       "model_id": "54d30a4c0f0c42d2948cd79445503b98",
       "version_major": 2,
       "version_minor": 0
      },
      "text/plain": [
       "HBox(children=(FloatProgress(value=0.0, max=10.0), HTML(value='')))"
      ]
     },
     "metadata": {},
     "output_type": "display_data"
    },
    {
     "name": "stdout",
     "output_type": "stream",
     "text": [
      "{'n_estimators': 694, 'learning_rate': 0.022747204170935315, 'lambda_l1': 0.39663564159126696, 'lambda_l2': 0.5266360183584486, 'num_leaves': 11, 'feature_fraction': 0.8117818483929862, 'bagging_fraction': 0.73843817072927, 'bagging_freq': 2, 'min_child_samples': 75}\n",
      "[I 2020-06-08 10:07:28,113] Finished trial#0 with value: 0.5255800240757177 with parameters: {'n_estimators': 694, 'learning_rate': 0.022747204170935315, 'lambda_l1': 0.39663564159126696, 'lambda_l2': 0.5266360183584486, 'num_leaves': 11, 'feature_fraction': 0.8117818483929862, 'bagging_fraction': 0.73843817072927, 'bagging_freq': 2, 'min_child_samples': 75}. Best is trial#0 with value: 0.5255800240757177.\n",
      "{'n_estimators': 482, 'learning_rate': 0.038034945056526645, 'lambda_l1': 2.8247087122296067e-05, 'lambda_l2': 0.13351354975517513, 'num_leaves': 89, 'feature_fraction': 0.7399885861875286, 'bagging_fraction': 0.739278479610083, 'bagging_freq': 2, 'min_child_samples': 82}\n",
      "[I 2020-06-08 10:33:13,681] Finished trial#1 with value: 0.5513572859964668 with parameters: {'n_estimators': 482, 'learning_rate': 0.038034945056526645, 'lambda_l1': 2.8247087122296067e-05, 'lambda_l2': 0.13351354975517513, 'num_leaves': 89, 'feature_fraction': 0.7399885861875286, 'bagging_fraction': 0.739278479610083, 'bagging_freq': 2, 'min_child_samples': 82}. Best is trial#0 with value: 0.5255800240757177.\n",
      "{'n_estimators': 82, 'learning_rate': 0.011283843793496907, 'lambda_l1': 1.5204270129130175e-08, 'lambda_l2': 0.31158648353398066, 'num_leaves': 81, 'feature_fraction': 0.9350060741234096, 'bagging_fraction': 0.7978618342232764, 'bagging_freq': 1, 'min_child_samples': 54}\n",
      "[I 2020-06-08 10:39:19,284] Finished trial#2 with value: 0.5961454829087843 with parameters: {'n_estimators': 82, 'learning_rate': 0.011283843793496907, 'lambda_l1': 1.5204270129130175e-08, 'lambda_l2': 0.31158648353398066, 'num_leaves': 81, 'feature_fraction': 0.9350060741234096, 'bagging_fraction': 0.7978618342232764, 'bagging_freq': 1, 'min_child_samples': 54}. Best is trial#0 with value: 0.5255800240757177.\n",
      "{'n_estimators': 765, 'learning_rate': 0.020575891769095966, 'lambda_l1': 0.012879997272918478, 'lambda_l2': 0.030598060044171916, 'num_leaves': 67, 'feature_fraction': 0.5716766437045232, 'bagging_fraction': 0.7944668917049584, 'bagging_freq': 2, 'min_child_samples': 79}\n",
      "[I 2020-06-08 11:05:33,007] Finished trial#3 with value: 0.5366207053175945 with parameters: {'n_estimators': 765, 'learning_rate': 0.020575891769095966, 'lambda_l1': 0.012879997272918478, 'lambda_l2': 0.030598060044171916, 'num_leaves': 67, 'feature_fraction': 0.5716766437045232, 'bagging_fraction': 0.7944668917049584, 'bagging_freq': 2, 'min_child_samples': 79}. Best is trial#0 with value: 0.5255800240757177.\n",
      "{'n_estimators': 254, 'learning_rate': 0.01928128012992036, 'lambda_l1': 4.753254739848239e-07, 'lambda_l2': 0.04288087060098849, 'num_leaves': 30, 'feature_fraction': 0.7842169744343243, 'bagging_fraction': 0.7018789800436355, 'bagging_freq': 2, 'min_child_samples': 10}\n",
      "[I 2020-06-08 11:12:42,553] Finished trial#4 with value: 0.5260699787089343 with parameters: {'n_estimators': 254, 'learning_rate': 0.01928128012992036, 'lambda_l1': 4.753254739848239e-07, 'lambda_l2': 0.04288087060098849, 'num_leaves': 30, 'feature_fraction': 0.7842169744343243, 'bagging_fraction': 0.7018789800436355, 'bagging_freq': 2, 'min_child_samples': 10}. Best is trial#0 with value: 0.5255800240757177.\n",
      "{'n_estimators': 560, 'learning_rate': 0.013609770853355876, 'lambda_l1': 3.0088520279143834e-05, 'lambda_l2': 1.3285756233592052, 'num_leaves': 44, 'feature_fraction': 0.679753950286893, 'bagging_fraction': 0.7437031953799341, 'bagging_freq': 2, 'min_child_samples': 46}\n",
      "[I 2020-06-08 11:29:18,429] Finished trial#5 with value: 0.5260240858860261 with parameters: {'n_estimators': 560, 'learning_rate': 0.013609770853355876, 'lambda_l1': 3.0088520279143834e-05, 'lambda_l2': 1.3285756233592052, 'num_leaves': 44, 'feature_fraction': 0.679753950286893, 'bagging_fraction': 0.7437031953799341, 'bagging_freq': 2, 'min_child_samples': 46}. Best is trial#0 with value: 0.5255800240757177.\n",
      "{'n_estimators': 67, 'learning_rate': 0.02520191618714094, 'lambda_l1': 0.010857774720195149, 'lambda_l2': 7.824255965284851e-07, 'num_leaves': 93, 'feature_fraction': 0.8753430706092281, 'bagging_fraction': 0.7607830668715467, 'bagging_freq': 1, 'min_child_samples': 47}\n",
      "[I 2020-06-08 11:34:32,898] Finished trial#6 with value: 0.5532152173682167 with parameters: {'n_estimators': 67, 'learning_rate': 0.02520191618714094, 'lambda_l1': 0.010857774720195149, 'lambda_l2': 7.824255965284851e-07, 'num_leaves': 93, 'feature_fraction': 0.8753430706092281, 'bagging_fraction': 0.7607830668715467, 'bagging_freq': 1, 'min_child_samples': 47}. Best is trial#0 with value: 0.5255800240757177.\n",
      "{'n_estimators': 94, 'learning_rate': 0.024091899000848876, 'lambda_l1': 4.271136170361703, 'lambda_l2': 0.007500890974744313, 'num_leaves': 5, 'feature_fraction': 0.9976497838389438, 'bagging_fraction': 0.7581850329438534, 'bagging_freq': 1, 'min_child_samples': 20}\n",
      "[I 2020-06-08 11:36:50,740] Finished trial#7 with value: 0.5427263105716178 with parameters: {'n_estimators': 94, 'learning_rate': 0.024091899000848876, 'lambda_l1': 4.271136170361703, 'lambda_l2': 0.007500890974744313, 'num_leaves': 5, 'feature_fraction': 0.9976497838389438, 'bagging_fraction': 0.7581850329438534, 'bagging_freq': 1, 'min_child_samples': 20}. Best is trial#0 with value: 0.5255800240757177.\n",
      "{'n_estimators': 670, 'learning_rate': 0.014033269634480334, 'lambda_l1': 2.6960395124090715e-07, 'lambda_l2': 9.848640172873773e-08, 'num_leaves': 87, 'feature_fraction': 0.658600871034648, 'bagging_fraction': 0.7778345482025909, 'bagging_freq': 2, 'min_child_samples': 69}\n",
      "[I 2020-06-08 12:08:19,734] Finished trial#8 with value: 0.5318851257904308 with parameters: {'n_estimators': 670, 'learning_rate': 0.014033269634480334, 'lambda_l1': 2.6960395124090715e-07, 'lambda_l2': 9.848640172873773e-08, 'num_leaves': 87, 'feature_fraction': 0.658600871034648, 'bagging_fraction': 0.7778345482025909, 'bagging_freq': 2, 'min_child_samples': 69}. Best is trial#0 with value: 0.5255800240757177.\n",
      "{'n_estimators': 105, 'learning_rate': 0.03120952629094799, 'lambda_l1': 7.480170242098733e-08, 'lambda_l2': 0.34793984646334997, 'num_leaves': 36, 'feature_fraction': 0.9859725012498328, 'bagging_fraction': 0.7878193471347177, 'bagging_freq': 1, 'min_child_samples': 82}\n",
      "[I 2020-06-08 12:13:19,243] Finished trial#9 with value: 0.5302144000938473 with parameters: {'n_estimators': 105, 'learning_rate': 0.03120952629094799, 'lambda_l1': 7.480170242098733e-08, 'lambda_l2': 0.34793984646334997, 'num_leaves': 36, 'feature_fraction': 0.9859725012498328, 'bagging_fraction': 0.7878193471347177, 'bagging_freq': 1, 'min_child_samples': 82}. Best is trial#0 with value: 0.5255800240757177.\n",
      "\n"
     ]
    }
   ],
   "source": [
    "import functools\n",
    "import optuna\n",
    "from hashlib import md5\n",
    "from optuna.samplers import TPESampler\n",
    "df= pd.read_csv('ensemble_predictions.csv')\n",
    "df_train= pd.read_json('train.json')\n",
    "df_test= pd.read_json('test.json')\n",
    "columns=df.drop(columns=['target','training','listing_id']).columns\n",
    "training='training'\n",
    "label='target'\n",
    "\n",
    "def objective(df,columns,training,label,df_test_listingID,df_train_listingID,trial):\n",
    "    params ={\n",
    "        'n_estimators':trial.suggest_int('n_estimators', 10, 1000),\n",
    "        'learning_rate': trial.suggest_loguniform('learning_rate', 0.01, 0.04),\n",
    "        'lambda_l1': trial.suggest_loguniform('lambda_l1', 1e-8, 10.0),\n",
    "        'lambda_l2': trial.suggest_loguniform('lambda_l2', 1e-8, 10.0),\n",
    "        'num_leaves': trial.suggest_int('num_leaves', 2, 100),\n",
    "        'feature_fraction': trial.suggest_uniform('feature_fraction', 0.5, 1.0),\n",
    "        'bagging_fraction': trial.suggest_uniform('bagging_fraction', 0.7, 0.8),\n",
    "        'bagging_freq': trial.suggest_int('bagging_freq', 1, 2),\n",
    "        'min_child_samples': trial.suggest_int('min_child_samples', 5, 100),\n",
    "    }\n",
    "    \n",
    "    print(params)\n",
    "    clf=LGBMClassifier(n_jobs=-1,random_state=0,**params)\n",
    "    test_pred,yoof,lloss=model_predict(df[columns],df[training],df[label], clf )\n",
    "    model_id=md5(str(params).encode()).hexdigest()[:6]\n",
    "    model_id=clf.__class__.__name__+'_'+model_id+'_'+str(round(lloss,3))\n",
    "    trial.set_user_attr('model_id',model_id)\n",
    "    save_csv (model_id,test_pred,yoof,clf,df_test_listingID,df_train_listingID,dir='Thesis_predictions_ensemble/')\n",
    "    return lloss\n",
    "\n",
    "n=10\n",
    "sampler=TPESampler(seed=0)\n",
    "study = optuna.create_study(direction='minimize',sampler=sampler)\n",
    "fn=functools.partial(objective,df,columns,training,label,df_test['listing_id'],df_train['listing_id'])\n",
    "study.optimize(fn, n_trials=n,show_progress_bar=True)\n",
    "\n",
    "x=[{**t.params,**t.user_attrs} for t in study.get_trials()]\n",
    "y=[ t.value for t in study.get_trials()]\n",
    "table=pd.DataFrame(x)\n",
    "table['score']=y\n",
    "\n",
    "table.to_csv(clf.__class__.__name__+'_grid_LGBM_Ensemble.csv')"
   ]
  },
  {
   "cell_type": "code",
   "execution_count": null,
   "metadata": {},
   "outputs": [],
   "source": []
  }
 ],
 "metadata": {
  "kernelspec": {
   "display_name": "Python 3",
   "language": "python",
   "name": "python3"
  },
  "language_info": {
   "codemirror_mode": {
    "name": "ipython",
    "version": 3
   },
   "file_extension": ".py",
   "mimetype": "text/x-python",
   "name": "python",
   "nbconvert_exporter": "python",
   "pygments_lexer": "ipython3",
   "version": "3.7.6"
  }
 },
 "nbformat": 4,
 "nbformat_minor": 4
}
