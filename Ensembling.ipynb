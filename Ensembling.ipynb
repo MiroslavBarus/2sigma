{
 "cells": [
  {
   "cell_type": "code",
   "execution_count": 1,
   "metadata": {
    "execution": {
     "iopub.execute_input": "2020-06-04T18:33:26.653103Z",
     "iopub.status.busy": "2020-06-04T18:33:26.652474Z",
     "iopub.status.idle": "2020-06-04T18:33:26.664544Z",
     "shell.execute_reply": "2020-06-04T18:33:26.664132Z",
     "shell.execute_reply.started": "2020-06-04T18:33:26.652998Z"
    }
   },
   "outputs": [],
   "source": [
    "import os, os.path\n",
    "import pandas as pd\n",
    "import numpy\n",
    "from sklearn.metrics import log_loss\n",
    "from sklearn.datasets import load_iris\n",
    "from sklearn.linear_model import LogisticRegression\n",
    "from sklearn.model_selection import RandomizedSearchCV\n",
    "from scipy.stats import uniform\n",
    "from sklearn.metrics import log_loss\n",
    "from sklearn.model_selection import cross_val_score\n",
    "def my_log_loss(estimator,X,y):\n",
    "    lloss=log_loss(y,estimator.predict_proba(X))\n",
    "    return lloss\n",
    "from sklearn.ensemble import RandomForestClassifier\n",
    "from sklearn.model_selection import GridSearchCV\n",
    "\n",
    "def save_ensemble (name,test_pred,model,df_test_listingID):\n",
    "    label_dictionary ={1 : 'low',  2:'medium', 3:'high' } \n",
    "    columns=[label_dictionary[key] for key in model.classes_]\n",
    "    columns_out=['listing_id', 'high', 'medium', 'low']\n",
    "    predictions=pd.DataFrame(test_pred,columns=columns)\n",
    "    predictions['listing_id']=df_test_listingID.reset_index(drop=True)\n",
    "    predictions=predictions[columns_out]\n",
    "    predictions.to_csv('ensemble_predictions/'+name+'.csv', index=False)\n",
    "\n",
    "\n",
    "def weighted_mean(files,weights,dir=\"Thesis_predictions/\"):\n",
    "    columns=['high','medium','low']\n",
    "    file_init=files[0]\n",
    "    df=pd.read_csv(dir+file_init)\n",
    "    df[columns]*=weights[0]\n",
    "\n",
    "    for file,weight in zip(files[1:],weights[1:]):\n",
    "        #print(weight,file)\n",
    "        df_new=pd.read_csv(dir+file)\n",
    "        df[columns]+=weight*df_new[columns]\n",
    "        \n",
    "    df[columns]/=sum(weights)\n",
    "    return df\n",
    "\n",
    "def summary(y,yoof_files,test_files,yoof_weights,test_weights):\n",
    "    yoof=weighted_mean(yoof_files,yoof_weights)\n",
    "    lloss=log_loss(y,yoof[['low','medium','high']])   \n",
    "    print(lloss)\n",
    "    return weighted_mean(test_files,test_weights),lloss\n",
    "def get_rank(weights):  \n",
    "    n=len(weights)\n",
    "    rank=numpy.argsort(weights)\n",
    "    new_weights=[0]*n\n",
    "    for i in range(n):\n",
    "        new_weights[rank[i]]=i+1\n",
    "    return new_weights\n",
    "def save_ensemble_avg (name,df,lloss):\n",
    "    df.to_csv('ensemble_predictions/'+name+'_'+lloss+'.csv', index=False)"
   ]
  },
  {
   "cell_type": "code",
   "execution_count": 24,
   "metadata": {
    "execution": {
     "iopub.execute_input": "2020-06-04T18:32:14.280044Z",
     "iopub.status.busy": "2020-06-04T18:32:14.279450Z",
     "iopub.status.idle": "2020-06-04T18:32:14.287609Z",
     "shell.execute_reply": "2020-06-04T18:32:14.287197Z",
     "shell.execute_reply.started": "2020-06-04T18:32:14.279966Z"
    }
   },
   "outputs": [
    {
     "data": {
      "text/plain": [
       "546"
      ]
     },
     "execution_count": 24,
     "metadata": {},
     "output_type": "execute_result"
    }
   ],
   "source": [
    "\n",
    "yoof_files=[name for name in os.listdir(DIR) if 'yoof' in name and os.path.isfile(os.path.join(DIR, name))]\n",
    "len(yoof_files)"
   ]
  },
  {
   "cell_type": "code",
   "execution_count": 11,
   "metadata": {
    "execution": {
     "iopub.execute_input": "2020-06-04T18:32:16.480696Z",
     "iopub.status.busy": "2020-06-04T18:32:16.480107Z",
     "iopub.status.idle": "2020-06-04T18:32:18.004926Z",
     "shell.execute_reply": "2020-06-04T18:32:18.004470Z",
     "shell.execute_reply.started": "2020-06-04T18:32:16.480622Z"
    }
   },
   "outputs": [],
   "source": [
    "DIR = 'Thesis_predictions/'\n",
    "df_train= pd.read_json('train.json')\n",
    "df_test= pd.read_json('test.json')\n",
    "event_dictionary ={'low' : 1, 'medium' : 2, 'high' : 3} \n",
    "df_train['interest_integer'] =df_train['interest_level'].map(event_dictionary) \n",
    "df=df_train.drop(df_train.columns.difference(['listing_id','interest_integer']), 1).reset_index(drop=True)\n",
    "df_pred=df_test.drop(df_test.columns.difference(['listing_id']), 1).reset_index(drop=True)\n",
    "#skf = StratifiedKFold(n_splits=5, random_state=42, shuffle=True)\n",
    "X=df.iloc[:,2:]\n",
    "y=df.iloc[:,1]\n",
    "X_test=df_pred.iloc[:,1:]\n",
    "\n",
    "\n",
    "\n",
    "test_files=[name for name in os.listdir(DIR) if 'yoof' not in name and os.path.isfile(os.path.join(DIR, name))]\n",
    "yoof_weights=[1-float(file.split(\"_yoof\")[0].split('_')[2])  if 'log' not in file else 1-float(file.split(\"log\")[0].split('_')[2]) for file in yoof_files]\n",
    "test_weights=[1-float(file.split(\".csv\")[0].split('_')[2])  if 'log' not in file  else 1-float(file.split(\"log\")[0].split('_')[2]) for file in test_files]"
   ]
  },
  {
   "cell_type": "code",
   "execution_count": 2,
   "metadata": {
    "execution": {
     "iopub.execute_input": "2020-06-04T18:50:36.350789Z",
     "iopub.status.busy": "2020-06-04T18:50:36.350197Z",
     "iopub.status.idle": "2020-06-04T18:50:36.356202Z",
     "shell.execute_reply": "2020-06-04T18:50:36.355814Z",
     "shell.execute_reply.started": "2020-06-04T18:50:36.350712Z"
    }
   },
   "outputs": [],
   "source": [
    "def parse_score(file):\n",
    "    if 'log' in file:\n",
    "        return float(file.split(\"log\")[0].split('_')[2]) \n",
    "    return float(file.split(\"_yoof\")[0].split('_')[2])\n",
    "    "
   ]
  },
  {
   "cell_type": "code",
   "execution_count": 6,
   "metadata": {
    "execution": {
     "iopub.execute_input": "2020-06-04T18:55:16.947551Z",
     "iopub.status.busy": "2020-06-04T18:55:16.946948Z",
     "iopub.status.idle": "2020-06-04T18:55:16.952844Z",
     "shell.execute_reply": "2020-06-04T18:55:16.952466Z",
     "shell.execute_reply.started": "2020-06-04T18:55:16.947475Z"
    }
   },
   "outputs": [],
   "source": [
    "def parse_score_1(file):\n",
    "    file=file.replace('log','').replace('_yoof','').replace('_elastic_net','').replace('.csv','').split('_')[-1]\n",
    "    return float(file)\n"
   ]
  },
  {
   "cell_type": "code",
   "execution_count": 3,
   "metadata": {
    "execution": {
     "iopub.execute_input": "2020-06-05T13:31:29.520299Z",
     "iopub.status.busy": "2020-06-05T13:31:29.520152Z",
     "iopub.status.idle": "2020-06-05T13:31:29.522331Z",
     "shell.execute_reply": "2020-06-05T13:31:29.521982Z",
     "shell.execute_reply.started": "2020-06-05T13:31:29.520282Z"
    }
   },
   "outputs": [],
   "source": [
    "DIR = 'Thesis_predictions/'"
   ]
  },
  {
   "cell_type": "code",
   "execution_count": 4,
   "metadata": {
    "execution": {
     "iopub.execute_input": "2020-06-05T14:43:05.337523Z",
     "iopub.status.busy": "2020-06-05T14:43:05.337405Z",
     "iopub.status.idle": "2020-06-05T14:43:05.339601Z",
     "shell.execute_reply": "2020-06-05T14:43:05.339206Z",
     "shell.execute_reply.started": "2020-06-05T14:43:05.337506Z"
    }
   },
   "outputs": [],
   "source": [
    "SCORE_TRESH=1"
   ]
  },
  {
   "cell_type": "code",
   "execution_count": 13,
   "metadata": {
    "execution": {
     "iopub.execute_input": "2020-06-05T14:43:05.340425Z",
     "iopub.status.busy": "2020-06-05T14:43:05.340310Z",
     "iopub.status.idle": "2020-06-05T14:43:05.354503Z",
     "shell.execute_reply": "2020-06-05T14:43:05.354063Z",
     "shell.execute_reply.started": "2020-06-05T14:43:05.340409Z"
    }
   },
   "outputs": [],
   "source": [
    "yoof_files=[name for name in os.listdir(DIR) if 'yoof' in name and os.path.isfile(os.path.join(DIR, name))]\n",
    "yoof_weights=[parse_score_1(file) for file in yoof_files]\n",
    "yoof_weights_index=[i  for i,score in enumerate(yoof_weights) if score<SCORE_TRESH]\n",
    "yoof_files=[yoof_files[i] for i in yoof_weights_index]\n",
    "yoof_weights=[1-yoof_weights[i] for i in yoof_weights_index]"
   ]
  },
  {
   "cell_type": "code",
   "execution_count": 14,
   "metadata": {
    "execution": {
     "iopub.execute_input": "2020-06-05T14:43:05.355385Z",
     "iopub.status.busy": "2020-06-05T14:43:05.355206Z",
     "iopub.status.idle": "2020-06-05T14:43:05.366085Z",
     "shell.execute_reply": "2020-06-05T14:43:05.365687Z",
     "shell.execute_reply.started": "2020-06-05T14:43:05.355359Z"
    }
   },
   "outputs": [],
   "source": [
    "test_files=[name for name in os.listdir(DIR) if 'yoof' not in name and os.path.isfile(os.path.join(DIR, name))]\n",
    "test_weights=[parse_score_1(file) for file in test_files]\n",
    "test_weights_index=[i  for i,score in enumerate(test_weights) if score<SCORE_TRESH]\n",
    "test_files=[test_files[i] for i in test_weights_index]\n",
    "test_weights=[1-test_weights[i] for i in test_weights_index]"
   ]
  },
  {
   "cell_type": "code",
   "execution_count": 15,
   "metadata": {
    "execution": {
     "iopub.execute_input": "2020-06-05T14:43:05.366857Z",
     "iopub.status.busy": "2020-06-05T14:43:05.366678Z",
     "iopub.status.idle": "2020-06-05T14:43:05.379985Z",
     "shell.execute_reply": "2020-06-05T14:43:05.379539Z",
     "shell.execute_reply.started": "2020-06-05T14:43:05.366839Z"
    }
   },
   "outputs": [
    {
     "data": {
      "text/html": [
       "<div>\n",
       "<style scoped>\n",
       "    .dataframe tbody tr th:only-of-type {\n",
       "        vertical-align: middle;\n",
       "    }\n",
       "\n",
       "    .dataframe tbody tr th {\n",
       "        vertical-align: top;\n",
       "    }\n",
       "\n",
       "    .dataframe thead th {\n",
       "        text-align: right;\n",
       "    }\n",
       "</style>\n",
       "<table border=\"1\" class=\"dataframe\">\n",
       "  <thead>\n",
       "    <tr style=\"text-align: right;\">\n",
       "      <th></th>\n",
       "      <th>a</th>\n",
       "      <th>b</th>\n",
       "    </tr>\n",
       "  </thead>\n",
       "  <tbody>\n",
       "    <tr>\n",
       "      <th>0</th>\n",
       "      <td>0.389</td>\n",
       "      <td>knn2Pipeline_047bf4_0.611.csv</td>\n",
       "    </tr>\n",
       "    <tr>\n",
       "      <th>1</th>\n",
       "      <td>0.391</td>\n",
       "      <td>knn2Pipeline_10aa15_0.609.csv</td>\n",
       "    </tr>\n",
       "    <tr>\n",
       "      <th>2</th>\n",
       "      <td>0.374</td>\n",
       "      <td>knn2Pipeline_12e3f6_0.626.csv</td>\n",
       "    </tr>\n",
       "    <tr>\n",
       "      <th>3</th>\n",
       "      <td>0.389</td>\n",
       "      <td>knn2Pipeline_19e32f_0.611.csv</td>\n",
       "    </tr>\n",
       "    <tr>\n",
       "      <th>4</th>\n",
       "      <td>0.389</td>\n",
       "      <td>knn2Pipeline_2086f5_0.611.csv</td>\n",
       "    </tr>\n",
       "    <tr>\n",
       "      <th>...</th>\n",
       "      <td>...</td>\n",
       "      <td>...</td>\n",
       "    </tr>\n",
       "    <tr>\n",
       "      <th>515</th>\n",
       "      <td>0.451</td>\n",
       "      <td>XGBClassifier_f8920e_0.549.csv</td>\n",
       "    </tr>\n",
       "    <tr>\n",
       "      <th>516</th>\n",
       "      <td>0.456</td>\n",
       "      <td>XGBClassifier_f8a40e_0.544.csv</td>\n",
       "    </tr>\n",
       "    <tr>\n",
       "      <th>517</th>\n",
       "      <td>0.318</td>\n",
       "      <td>XGBClassifier_fbfe02_0.682.csv</td>\n",
       "    </tr>\n",
       "    <tr>\n",
       "      <th>518</th>\n",
       "      <td>0.463</td>\n",
       "      <td>XGBClassifier_fd8ed3_0.537.csv</td>\n",
       "    </tr>\n",
       "    <tr>\n",
       "      <th>519</th>\n",
       "      <td>0.464</td>\n",
       "      <td>XGBClassifier_ff3387_0.536.csv</td>\n",
       "    </tr>\n",
       "  </tbody>\n",
       "</table>\n",
       "<p>520 rows × 2 columns</p>\n",
       "</div>"
      ],
      "text/plain": [
       "         a                               b\n",
       "0    0.389   knn2Pipeline_047bf4_0.611.csv\n",
       "1    0.391   knn2Pipeline_10aa15_0.609.csv\n",
       "2    0.374   knn2Pipeline_12e3f6_0.626.csv\n",
       "3    0.389   knn2Pipeline_19e32f_0.611.csv\n",
       "4    0.389   knn2Pipeline_2086f5_0.611.csv\n",
       "..     ...                             ...\n",
       "515  0.451  XGBClassifier_f8920e_0.549.csv\n",
       "516  0.456  XGBClassifier_f8a40e_0.544.csv\n",
       "517  0.318  XGBClassifier_fbfe02_0.682.csv\n",
       "518  0.463  XGBClassifier_fd8ed3_0.537.csv\n",
       "519  0.464  XGBClassifier_ff3387_0.536.csv\n",
       "\n",
       "[520 rows x 2 columns]"
      ]
     },
     "execution_count": 15,
     "metadata": {},
     "output_type": "execute_result"
    }
   ],
   "source": [
    "pd.DataFrame({'a':test_weights,'b':test_files})"
   ]
  },
  {
   "cell_type": "code",
   "execution_count": 52,
   "metadata": {
    "execution": {
     "iopub.execute_input": "2020-06-04T18:45:14.713472Z",
     "iopub.status.busy": "2020-06-04T18:45:14.712841Z",
     "iopub.status.idle": "2020-06-04T18:45:14.718505Z",
     "shell.execute_reply": "2020-06-04T18:45:14.718204Z",
     "shell.execute_reply.started": "2020-06-04T18:45:14.713396Z"
    }
   },
   "outputs": [
    {
     "data": {
      "text/plain": [
       "True"
      ]
     },
     "execution_count": 52,
     "metadata": {},
     "output_type": "execute_result"
    }
   ],
   "source": [
    "yoof_weights==test_weights"
   ]
  },
  {
   "cell_type": "markdown",
   "metadata": {},
   "source": [
    "## Average of predictions"
   ]
  },
  {
   "cell_type": "code",
   "execution_count": 186,
   "metadata": {
    "execution": {
     "iopub.execute_input": "2020-06-05T13:35:51.652734Z",
     "iopub.status.busy": "2020-06-05T13:35:51.652587Z",
     "iopub.status.idle": "2020-06-05T13:36:11.108659Z",
     "shell.execute_reply": "2020-06-05T13:36:11.108204Z",
     "shell.execute_reply.started": "2020-06-05T13:35:51.652718Z"
    }
   },
   "outputs": [
    {
     "name": "stdout",
     "output_type": "stream",
     "text": [
      "0.5447827239567172\n"
     ]
    }
   ],
   "source": [
    "df,lloss=summary(y,yoof_files,test_files,[1]*len(yoof_files),[1]*len(test_files))"
   ]
  },
  {
   "cell_type": "code",
   "execution_count": 16,
   "metadata": {
    "execution": {
     "iopub.execute_input": "2020-06-04T19:26:01.810637Z",
     "iopub.status.busy": "2020-06-04T19:26:01.810042Z",
     "iopub.status.idle": "2020-06-04T19:26:27.124312Z",
     "shell.execute_reply": "2020-06-04T19:26:27.123930Z",
     "shell.execute_reply.started": "2020-06-04T19:26:01.810560Z"
    }
   },
   "outputs": [
    {
     "name": "stdout",
     "output_type": "stream",
     "text": [
      "0.5517133514762225\n"
     ]
    }
   ],
   "source": [
    "df,lloss=summary(y,yoof_files,test_files,[1]*len(yoof_files),[1]*len(test_files))\n",
    "#save_ensemble_avg ('average<1',df,str(lloss)) \n",
    "\n",
    "#0.55497  <1"
   ]
  },
  {
   "cell_type": "code",
   "execution_count": 187,
   "metadata": {
    "execution": {
     "iopub.execute_input": "2020-06-05T13:36:11.109592Z",
     "iopub.status.busy": "2020-06-05T13:36:11.109398Z",
     "iopub.status.idle": "2020-06-05T13:36:30.521961Z",
     "shell.execute_reply": "2020-06-05T13:36:30.521612Z",
     "shell.execute_reply.started": "2020-06-05T13:36:11.109567Z"
    }
   },
   "outputs": [
    {
     "name": "stdout",
     "output_type": "stream",
     "text": [
      "0.5441216952642852\n"
     ]
    }
   ],
   "source": [
    "df,lloss=summary(y,yoof_files,test_files,yoof_weights,test_weights)"
   ]
  },
  {
   "cell_type": "code",
   "execution_count": 17,
   "metadata": {
    "execution": {
     "iopub.execute_input": "2020-06-04T19:26:27.125058Z",
     "iopub.status.busy": "2020-06-04T19:26:27.124937Z",
     "iopub.status.idle": "2020-06-04T19:26:52.445934Z",
     "shell.execute_reply": "2020-06-04T19:26:52.445586Z",
     "shell.execute_reply.started": "2020-06-04T19:26:27.125041Z"
    }
   },
   "outputs": [
    {
     "name": "stdout",
     "output_type": "stream",
     "text": [
      "0.5503712722410666\n"
     ]
    }
   ],
   "source": [
    "df,lloss=summary(y,yoof_files,test_files,yoof_weights,test_weights)\n",
    "#save_ensemble_avg ('weighted_average<1',df,str(lloss)) \n",
    "\n",
    "#0.55381 <1"
   ]
  },
  {
   "cell_type": "code",
   "execution_count": 188,
   "metadata": {
    "execution": {
     "iopub.execute_input": "2020-06-05T13:36:30.522969Z",
     "iopub.status.busy": "2020-06-05T13:36:30.522797Z",
     "iopub.status.idle": "2020-06-05T13:36:49.940542Z",
     "shell.execute_reply": "2020-06-05T13:36:49.940105Z",
     "shell.execute_reply.started": "2020-06-05T13:36:30.522944Z"
    }
   },
   "outputs": [
    {
     "name": "stdout",
     "output_type": "stream",
     "text": [
      "0.5366607399805968\n"
     ]
    }
   ],
   "source": [
    "yoof_rank_w=get_rank(yoof_weights)\n",
    "test_rank_w=get_rank(test_weights)\n",
    "df,lloss=summary(y,yoof_files,test_files,yoof_rank_w,test_rank_w)"
   ]
  },
  {
   "cell_type": "code",
   "execution_count": 18,
   "metadata": {
    "execution": {
     "iopub.execute_input": "2020-06-04T19:26:52.446706Z",
     "iopub.status.busy": "2020-06-04T19:26:52.446589Z",
     "iopub.status.idle": "2020-06-04T19:27:17.758223Z",
     "shell.execute_reply": "2020-06-04T19:27:17.757791Z",
     "shell.execute_reply.started": "2020-06-04T19:26:52.446690Z"
    }
   },
   "outputs": [
    {
     "name": "stdout",
     "output_type": "stream",
     "text": [
      "0.5410502637302053\n"
     ]
    }
   ],
   "source": [
    "yoof_rank_w=get_rank(yoof_weights)\n",
    "test_rank_w=get_rank(test_weights)\n",
    "df,lloss=summary(y,yoof_files,test_files,yoof_rank_w,test_rank_w)\n",
    "#save_ensemble_avg ('weighted_rank<1',df,str(lloss)) \n",
    "#0.54557 <1   53995"
   ]
  },
  {
   "cell_type": "code",
   "execution_count": null,
   "metadata": {},
   "outputs": [],
   "source": []
  },
  {
   "cell_type": "code",
   "execution_count": 393,
   "metadata": {
    "execution": {
     "iopub.execute_input": "2020-04-26T15:21:16.084049Z",
     "iopub.status.busy": "2020-04-26T15:21:16.083425Z",
     "iopub.status.idle": "2020-04-26T15:21:25.708046Z",
     "shell.execute_reply": "2020-04-26T15:21:25.707654Z",
     "shell.execute_reply.started": "2020-04-26T15:21:16.083968Z"
    }
   },
   "outputs": [
    {
     "name": "stdout",
     "output_type": "stream",
     "text": [
      "0.5368196341518756\n"
     ]
    }
   ],
   "source": [
    "df,lloss=summary(y,yoof_files,test_files,[1]*len(yoof_files),[1]*len(test_files))\n",
    "#save_ensemble_avg ('average',df,str(lloss)) "
   ]
  },
  {
   "cell_type": "code",
   "execution_count": 394,
   "metadata": {
    "execution": {
     "iopub.execute_input": "2020-04-26T15:21:25.708792Z",
     "iopub.status.busy": "2020-04-26T15:21:25.708670Z",
     "iopub.status.idle": "2020-04-26T15:21:35.329985Z",
     "shell.execute_reply": "2020-04-26T15:21:35.329594Z",
     "shell.execute_reply.started": "2020-04-26T15:21:25.708775Z"
    }
   },
   "outputs": [
    {
     "name": "stdout",
     "output_type": "stream",
     "text": [
      "0.536451449645222\n"
     ]
    }
   ],
   "source": [
    "df,lloss=summary(y,yoof_files,test_files,yoof_weights,test_weights)\n",
    "save_ensemble_avg ('weighted_average',df,str(lloss)) "
   ]
  },
  {
   "cell_type": "code",
   "execution_count": 395,
   "metadata": {
    "execution": {
     "iopub.execute_input": "2020-04-26T15:21:35.330784Z",
     "iopub.status.busy": "2020-04-26T15:21:35.330663Z",
     "iopub.status.idle": "2020-04-26T15:21:44.946373Z",
     "shell.execute_reply": "2020-04-26T15:21:44.945987Z",
     "shell.execute_reply.started": "2020-04-26T15:21:35.330767Z"
    }
   },
   "outputs": [
    {
     "name": "stdout",
     "output_type": "stream",
     "text": [
      "0.535244807162214\n"
     ]
    }
   ],
   "source": [
    "yoof_rank_w=get_rank(yoof_weights)\n",
    "test_rank_w=get_rank(test_weights)\n",
    "df,lloss=summary(y,yoof_files,test_files,yoof_rank_w,test_rank_w)\n",
    "save_ensemble_avg ('weighted_rank',df,str(lloss)) "
   ]
  },
  {
   "cell_type": "code",
   "execution_count": 22,
   "metadata": {},
   "outputs": [
    {
     "data": {
      "text/html": [
       "<div>\n",
       "<style scoped>\n",
       "    .dataframe tbody tr th:only-of-type {\n",
       "        vertical-align: middle;\n",
       "    }\n",
       "\n",
       "    .dataframe tbody tr th {\n",
       "        vertical-align: top;\n",
       "    }\n",
       "\n",
       "    .dataframe thead th {\n",
       "        text-align: right;\n",
       "    }\n",
       "</style>\n",
       "<table border=\"1\" class=\"dataframe\">\n",
       "  <thead>\n",
       "    <tr style=\"text-align: right;\">\n",
       "      <th></th>\n",
       "      <th>estimated log loss</th>\n",
       "      <th>leaderboard log loss</th>\n",
       "    </tr>\n",
       "  </thead>\n",
       "  <tbody>\n",
       "    <tr>\n",
       "      <th>Average model</th>\n",
       "      <td>0.55110</td>\n",
       "      <td>0.55625</td>\n",
       "    </tr>\n",
       "    <tr>\n",
       "      <th>Weighted average model</th>\n",
       "      <td>0.54982</td>\n",
       "      <td>0.55504</td>\n",
       "    </tr>\n",
       "    <tr>\n",
       "      <th>Rank weighted model</th>\n",
       "      <td>0.54067</td>\n",
       "      <td>0.54643</td>\n",
       "    </tr>\n",
       "    <tr>\n",
       "      <th>Stacking with LGBM</th>\n",
       "      <td>0.52518</td>\n",
       "      <td>0.53032</td>\n",
       "    </tr>\n",
       "  </tbody>\n",
       "</table>\n",
       "</div>"
      ],
      "text/plain": [
       "                        estimated log loss  leaderboard log loss\n",
       "Average model                      0.55110               0.55625\n",
       "Weighted average model             0.54982               0.55504\n",
       "Rank weighted model                0.54067               0.54643\n",
       "Stacking with LGBM                 0.52518               0.53032"
      ]
     },
     "execution_count": 22,
     "metadata": {},
     "output_type": "execute_result"
    }
   ],
   "source": [
    "d = {'estimated log loss': [0.55110, 0.54982,0.54067,0.52518], 'leaderboard log loss': [0.55625,0.55504,0.54643,0.53189]}\n",
    "df = pd.DataFrame(data=d,index=['Average model','Weighted average model','Rank weighted model','Stacking with LGBM'])\n",
    "df"
   ]
  },
  {
   "cell_type": "markdown",
   "metadata": {},
   "source": [
    "## Trenovanie modelov"
   ]
  },
  {
   "cell_type": "code",
   "execution_count": 247,
   "metadata": {
    "execution": {
     "iopub.execute_input": "2020-06-05T14:43:23.394289Z",
     "iopub.status.busy": "2020-06-05T14:43:23.393682Z",
     "iopub.status.idle": "2020-06-05T14:43:31.005509Z",
     "shell.execute_reply": "2020-06-05T14:43:31.004168Z",
     "shell.execute_reply.started": "2020-06-05T14:43:23.394213Z"
    }
   },
   "outputs": [],
   "source": [
    "DIR = 'Thesis_predictions/'\n",
    "files=[name for name in os.listdir(DIR) if  os.path.isfile(os.path.join(DIR, name))]\n",
    "df=pd.DataFrame()\n",
    "df_pred=pd.DataFrame()\n",
    "for file in yoof_files:\n",
    "    if 'yoof' in file:      \n",
    "        yoof_pred= pd.read_csv(DIR+file)\n",
    "        rsuffix='_'+file.split(\"_yoof\")[0]\n",
    "        for column in yoof_pred.columns:\n",
    "            if column=='listing_id':\n",
    "                continue\n",
    "            else: \n",
    "                df[column+rsuffix]=yoof_pred[column]\n",
    "for file in test_files:\n",
    "    predictions= pd.read_csv(DIR+file)\n",
    "    rsuffix='_'+file.split(\".csv\")[0]\n",
    "    for column in predictions.columns:\n",
    "        if column=='listing_id':\n",
    "            continue\n",
    "        else: \n",
    "            df_pred[column+rsuffix]=predictions[column]\n",
    "        \n"
   ]
  },
  {
   "cell_type": "code",
   "execution_count": 239,
   "metadata": {
    "execution": {
     "iopub.execute_input": "2020-06-05T14:39:40.889732Z",
     "iopub.status.busy": "2020-06-05T14:39:40.889613Z",
     "iopub.status.idle": "2020-06-05T14:39:40.893227Z",
     "shell.execute_reply": "2020-06-05T14:39:40.892849Z",
     "shell.execute_reply.started": "2020-06-05T14:39:40.889716Z"
    }
   },
   "outputs": [
    {
     "data": {
      "text/plain": [
       "(set(), set())"
      ]
     },
     "execution_count": 239,
     "metadata": {},
     "output_type": "execute_result"
    }
   ],
   "source": [
    "set(df.columns)-set(df_pred.columns),set(df_pred.columns)-set(df.columns)"
   ]
  },
  {
   "cell_type": "code",
   "execution_count": 248,
   "metadata": {
    "execution": {
     "iopub.execute_input": "2020-06-05T14:43:31.007708Z",
     "iopub.status.busy": "2020-06-05T14:43:31.007332Z",
     "iopub.status.idle": "2020-06-05T14:43:32.783352Z",
     "shell.execute_reply": "2020-06-05T14:43:32.782819Z",
     "shell.execute_reply.started": "2020-06-05T14:43:31.007658Z"
    }
   },
   "outputs": [],
   "source": [
    "event_dictionary ={'low' : 1, 'medium' : 2, 'high' : 3} \n",
    "df_train= pd.read_json('train.json')\n",
    "df_test= pd.read_json('test.json')\n",
    "target=df_train.set_index('listing_id')['interest_level'].map(event_dictionary)\n",
    "df['listing_id']=df_train['listing_id'].reset_index(drop=True)\n",
    "df_pred['listing_id']=df_test['listing_id'].reset_index(drop=True)\n",
    "df=df.set_index('listing_id')\n",
    "df_pred=df_pred.set_index('listing_id')\n",
    "df['training']=1\n",
    "df_pred['training']=0\n",
    "X=pd.concat([df,df_pred])\n",
    "X['target']=target"
   ]
  },
  {
   "cell_type": "code",
   "execution_count": 190,
   "metadata": {
    "execution": {
     "iopub.execute_input": "2020-06-05T13:38:18.835335Z",
     "iopub.status.busy": "2020-06-05T13:38:18.835178Z",
     "iopub.status.idle": "2020-06-05T13:38:18.843603Z",
     "shell.execute_reply": "2020-06-05T13:38:18.843245Z",
     "shell.execute_reply.started": "2020-06-05T13:38:18.835317Z"
    }
   },
   "outputs": [],
   "source": [
    "from modeling import model_predict\n",
    "\n",
    "def model_predict2(df,training_mask,target, clf = RandomForestClassifier(max_depth=5, random_state=0,n_estimators=100,n_jobs=-1),encoder_dict={},n_splits=5):   \n",
    "    X=df[training_mask==1]\n",
    "    X_test=df[training_mask==0]\n",
    "    y=target[training_mask==1]\n",
    "    skf = StratifiedKFold(n_splits=n_splits, random_state=42, shuffle=True)\n",
    "    scores=list()\n",
    "    yoof=np.zeros((X.shape[0],3))\n",
    "    test_pred=np.zeros((X_test.shape[0],3))\n",
    "\n",
    "            \n",
    "    for train, val in skf.split(X, y):\n",
    "        X_train=X.iloc[train]\n",
    "        y_train=y.iloc[train]\n",
    "        X_val=X.iloc[val]\n",
    "        y_val=y.iloc[val]\n",
    "        \n",
    "        ##\n",
    "        predict_enc(encoder_dict,X_train,X_val,y_train)\n",
    "        clf.fit(X_train.drop(columns=encoder_dict.keys()), y_train)\n",
    "        preds=clf.predict_proba(X_val.drop(columns=encoder_dict.keys()))\n",
    "        scores.append(log_loss(y_val, preds))\n",
    "        yoof[val]=preds\n",
    "    X,X_test=predict_enc(encoder_dict,X,X_test,y)\n",
    "    clf.fit(X.drop(columns=encoder_dict.keys()), y)\n",
    "    test_pred=clf.predict_proba(X_test.drop(columns=encoder_dict.keys()))\n",
    "    return test_pred,yoof,log_loss(y,yoof)"
   ]
  },
  {
   "cell_type": "code",
   "execution_count": 200,
   "metadata": {
    "execution": {
     "iopub.execute_input": "2020-06-05T13:47:02.542634Z",
     "iopub.status.busy": "2020-06-05T13:47:02.542517Z",
     "iopub.status.idle": "2020-06-05T13:55:55.899420Z",
     "shell.execute_reply": "2020-06-05T13:55:55.899004Z",
     "shell.execute_reply.started": "2020-06-05T13:47:02.542618Z"
    }
   },
   "outputs": [
    {
     "data": {
      "text/plain": [
       "0.5298522298766846"
      ]
     },
     "execution_count": 200,
     "metadata": {},
     "output_type": "execute_result"
    }
   ],
   "source": [
    "from lightgbm import LGBMClassifier\n",
    "clf=LGBMClassifier(n_jobs=-1,n_estimators=100,random_state=0)\n",
    "test_pred,yoof,log_loss_score=model_predict(X.drop(columns=['target','training']),X['training'],X['target'], clf = clf)\n",
    "log_loss_score"
   ]
  },
  {
   "cell_type": "code",
   "execution_count": 142,
   "metadata": {
    "execution": {
     "iopub.execute_input": "2020-06-04T22:37:41.502587Z",
     "iopub.status.busy": "2020-06-04T22:37:41.502470Z",
     "iopub.status.idle": "2020-06-04T22:37:41.505137Z",
     "shell.execute_reply": "2020-06-04T22:37:41.504842Z",
     "shell.execute_reply.started": "2020-06-04T22:37:41.502571Z"
    }
   },
   "outputs": [
    {
     "data": {
      "text/plain": [
       "0.5287512020420081"
      ]
     },
     "execution_count": 142,
     "metadata": {},
     "output_type": "execute_result"
    }
   ],
   "source": [
    "log_loss_score"
   ]
  },
  {
   "cell_type": "code",
   "execution_count": 122,
   "metadata": {
    "execution": {
     "iopub.execute_input": "2020-06-04T19:31:22.500694Z",
     "iopub.status.busy": "2020-06-04T19:31:22.500458Z",
     "iopub.status.idle": "2020-06-04T19:31:22.503597Z",
     "shell.execute_reply": "2020-06-04T19:31:22.503214Z",
     "shell.execute_reply.started": "2020-06-04T19:31:22.500673Z"
    }
   },
   "outputs": [
    {
     "data": {
      "text/plain": [
       "0.5297952331156376"
      ]
     },
     "execution_count": 122,
     "metadata": {},
     "output_type": "execute_result"
    }
   ],
   "source": [
    "log_loss_score"
   ]
  },
  {
   "cell_type": "code",
   "execution_count": 199,
   "metadata": {
    "execution": {
     "iopub.execute_input": "2020-06-05T13:44:09.339290Z",
     "iopub.status.busy": "2020-06-05T13:44:09.339098Z",
     "iopub.status.idle": "2020-06-05T13:47:02.541885Z",
     "shell.execute_reply": "2020-06-05T13:47:02.541469Z",
     "shell.execute_reply.started": "2020-06-05T13:44:09.339267Z"
    }
   },
   "outputs": [
    {
     "data": {
      "text/plain": [
       "0.5274414913577815"
      ]
     },
     "execution_count": 199,
     "metadata": {},
     "output_type": "execute_result"
    }
   ],
   "source": [
    "from sklearn.ensemble import RandomForestClassifier\n",
    "clf = RandomForestClassifier(max_depth=5,criterion='entropy', random_state=0,n_estimators=150,n_jobs=-1)\n",
    "test_pred,yoof,log_loss_score=model_predict(X.drop(columns=['target','training']),X['training'],X['target'], clf = clf)\n",
    "log_loss_score"
   ]
  },
  {
   "cell_type": "code",
   "execution_count": 147,
   "metadata": {
    "execution": {
     "iopub.execute_input": "2020-06-04T22:45:20.270855Z",
     "iopub.status.busy": "2020-06-04T22:45:20.270236Z",
     "iopub.status.idle": "2020-06-04T22:45:20.586093Z",
     "shell.execute_reply": "2020-06-04T22:45:20.585705Z",
     "shell.execute_reply.started": "2020-06-04T22:45:20.270775Z"
    }
   },
   "outputs": [],
   "source": [
    "log_loss_score\n",
    "save_ensemble('ensemble_RF',test_pred,clf,df_test['listing_id'])"
   ]
  },
  {
   "cell_type": "code",
   "execution_count": 107,
   "metadata": {
    "execution": {
     "iopub.execute_input": "2020-06-04T19:20:17.413061Z",
     "iopub.status.busy": "2020-06-04T19:20:17.412463Z",
     "iopub.status.idle": "2020-06-04T19:20:17.726159Z",
     "shell.execute_reply": "2020-06-04T19:20:17.725717Z",
     "shell.execute_reply.started": "2020-06-04T19:20:17.412986Z"
    }
   },
   "outputs": [],
   "source": [
    "save_ensemble('ensemble_lgbm_0.5287',test_pred,clf,df_test['listing_id'])"
   ]
  },
  {
   "cell_type": "code",
   "execution_count": 202,
   "metadata": {
    "execution": {
     "iopub.execute_input": "2020-06-05T13:57:12.064032Z",
     "iopub.status.busy": "2020-06-05T13:57:12.063435Z",
     "iopub.status.idle": "2020-06-05T14:01:35.218255Z",
     "shell.execute_reply": "2020-06-05T14:01:35.217810Z",
     "shell.execute_reply.started": "2020-06-05T13:57:12.063954Z"
    }
   },
   "outputs": [],
   "source": [
    "import xgboost as xgb\n",
    "clf=xgb.XGBClassifier(n_jobs=-1,random_state=0,tree_method='gpu_hist')\n",
    "test_pred,yoof,log_loss_score=model_predict(X.drop(columns=['target','training']),X['training'],X['target'], clf = clf)"
   ]
  },
  {
   "cell_type": "code",
   "execution_count": 203,
   "metadata": {
    "execution": {
     "iopub.execute_input": "2020-06-05T14:01:37.817237Z",
     "iopub.status.busy": "2020-06-05T14:01:37.817095Z",
     "iopub.status.idle": "2020-06-05T14:01:37.819875Z",
     "shell.execute_reply": "2020-06-05T14:01:37.819575Z",
     "shell.execute_reply.started": "2020-06-05T14:01:37.817220Z"
    }
   },
   "outputs": [
    {
     "data": {
      "text/plain": [
       "0.5492681461568192"
      ]
     },
     "execution_count": 203,
     "metadata": {},
     "output_type": "execute_result"
    }
   ],
   "source": [
    "log_loss_score"
   ]
  },
  {
   "cell_type": "code",
   "execution_count": 249,
   "metadata": {
    "execution": {
     "iopub.execute_input": "2020-06-05T14:43:37.314152Z",
     "iopub.status.busy": "2020-06-05T14:43:37.313564Z",
     "iopub.status.idle": "2020-06-05T14:43:37.345062Z",
     "shell.execute_reply": "2020-06-05T14:43:37.344662Z",
     "shell.execute_reply.started": "2020-06-05T14:43:37.314077Z"
    }
   },
   "outputs": [
    {
     "data": {
      "text/html": [
       "<div>\n",
       "<style scoped>\n",
       "    .dataframe tbody tr th:only-of-type {\n",
       "        vertical-align: middle;\n",
       "    }\n",
       "\n",
       "    .dataframe tbody tr th {\n",
       "        vertical-align: top;\n",
       "    }\n",
       "\n",
       "    .dataframe thead th {\n",
       "        text-align: right;\n",
       "    }\n",
       "</style>\n",
       "<table border=\"1\" class=\"dataframe\">\n",
       "  <thead>\n",
       "    <tr style=\"text-align: right;\">\n",
       "      <th></th>\n",
       "      <th>high_XGBClassifier_b7bffc_0.537</th>\n",
       "      <th>medium_XGBClassifier_b7bffc_0.537</th>\n",
       "      <th>low_XGBClassifier_b7bffc_0.537</th>\n",
       "      <th>high_LGBMClassifier_a2f6d9_0.538</th>\n",
       "      <th>medium_LGBMClassifier_a2f6d9_0.538</th>\n",
       "      <th>low_LGBMClassifier_a2f6d9_0.538</th>\n",
       "      <th>high_LGBMClassifier_4265b5_0.537</th>\n",
       "      <th>medium_LGBMClassifier_4265b5_0.537</th>\n",
       "      <th>low_LGBMClassifier_4265b5_0.537</th>\n",
       "      <th>high_XGBClassifier_f8920e_0.549</th>\n",
       "      <th>...</th>\n",
       "      <th>medium_LGBMClassifier_4dfd2f_0.543</th>\n",
       "      <th>low_LGBMClassifier_4dfd2f_0.543</th>\n",
       "      <th>high_XGBClassifier_f5884f_0.536</th>\n",
       "      <th>medium_XGBClassifier_f5884f_0.536</th>\n",
       "      <th>low_XGBClassifier_f5884f_0.536</th>\n",
       "      <th>high_XGBClassifier_570512_0.547</th>\n",
       "      <th>medium_XGBClassifier_570512_0.547</th>\n",
       "      <th>low_XGBClassifier_570512_0.547</th>\n",
       "      <th>training</th>\n",
       "      <th>target</th>\n",
       "    </tr>\n",
       "    <tr>\n",
       "      <th>listing_id</th>\n",
       "      <th></th>\n",
       "      <th></th>\n",
       "      <th></th>\n",
       "      <th></th>\n",
       "      <th></th>\n",
       "      <th></th>\n",
       "      <th></th>\n",
       "      <th></th>\n",
       "      <th></th>\n",
       "      <th></th>\n",
       "      <th></th>\n",
       "      <th></th>\n",
       "      <th></th>\n",
       "      <th></th>\n",
       "      <th></th>\n",
       "      <th></th>\n",
       "      <th></th>\n",
       "      <th></th>\n",
       "      <th></th>\n",
       "      <th></th>\n",
       "      <th></th>\n",
       "    </tr>\n",
       "  </thead>\n",
       "  <tbody>\n",
       "    <tr>\n",
       "      <th>7170325</th>\n",
       "      <td>0.015991</td>\n",
       "      <td>0.383648</td>\n",
       "      <td>0.600361</td>\n",
       "      <td>0.014799</td>\n",
       "      <td>0.288568</td>\n",
       "      <td>0.696633</td>\n",
       "      <td>0.024960</td>\n",
       "      <td>0.374595</td>\n",
       "      <td>0.600445</td>\n",
       "      <td>0.050439</td>\n",
       "      <td>...</td>\n",
       "      <td>0.342669</td>\n",
       "      <td>0.646591</td>\n",
       "      <td>0.025680</td>\n",
       "      <td>0.419893</td>\n",
       "      <td>0.554427</td>\n",
       "      <td>0.032783</td>\n",
       "      <td>0.403438</td>\n",
       "      <td>0.563779</td>\n",
       "      <td>1</td>\n",
       "      <td>2.000000</td>\n",
       "    </tr>\n",
       "    <tr>\n",
       "      <th>7092344</th>\n",
       "      <td>0.076603</td>\n",
       "      <td>0.442511</td>\n",
       "      <td>0.480887</td>\n",
       "      <td>0.082838</td>\n",
       "      <td>0.589275</td>\n",
       "      <td>0.327887</td>\n",
       "      <td>0.062741</td>\n",
       "      <td>0.622731</td>\n",
       "      <td>0.314528</td>\n",
       "      <td>0.078833</td>\n",
       "      <td>...</td>\n",
       "      <td>0.662088</td>\n",
       "      <td>0.295039</td>\n",
       "      <td>0.069985</td>\n",
       "      <td>0.462028</td>\n",
       "      <td>0.467987</td>\n",
       "      <td>0.077435</td>\n",
       "      <td>0.355732</td>\n",
       "      <td>0.566833</td>\n",
       "      <td>1</td>\n",
       "      <td>1.000000</td>\n",
       "    </tr>\n",
       "    <tr>\n",
       "      <th>7158677</th>\n",
       "      <td>0.012489</td>\n",
       "      <td>0.201786</td>\n",
       "      <td>0.785725</td>\n",
       "      <td>0.009752</td>\n",
       "      <td>0.300312</td>\n",
       "      <td>0.689937</td>\n",
       "      <td>0.012250</td>\n",
       "      <td>0.250385</td>\n",
       "      <td>0.737365</td>\n",
       "      <td>0.022295</td>\n",
       "      <td>...</td>\n",
       "      <td>0.274707</td>\n",
       "      <td>0.718715</td>\n",
       "      <td>0.014403</td>\n",
       "      <td>0.235764</td>\n",
       "      <td>0.749833</td>\n",
       "      <td>0.023209</td>\n",
       "      <td>0.226445</td>\n",
       "      <td>0.750346</td>\n",
       "      <td>1</td>\n",
       "      <td>2.000000</td>\n",
       "    </tr>\n",
       "    <tr>\n",
       "      <th>7211212</th>\n",
       "      <td>0.031132</td>\n",
       "      <td>0.229040</td>\n",
       "      <td>0.739828</td>\n",
       "      <td>0.020930</td>\n",
       "      <td>0.199562</td>\n",
       "      <td>0.779508</td>\n",
       "      <td>0.036899</td>\n",
       "      <td>0.255091</td>\n",
       "      <td>0.708011</td>\n",
       "      <td>0.056861</td>\n",
       "      <td>...</td>\n",
       "      <td>0.244794</td>\n",
       "      <td>0.736652</td>\n",
       "      <td>0.040647</td>\n",
       "      <td>0.292849</td>\n",
       "      <td>0.666504</td>\n",
       "      <td>0.041665</td>\n",
       "      <td>0.366000</td>\n",
       "      <td>0.592334</td>\n",
       "      <td>1</td>\n",
       "      <td>2.000000</td>\n",
       "    </tr>\n",
       "    <tr>\n",
       "      <th>7225292</th>\n",
       "      <td>0.001184</td>\n",
       "      <td>0.055771</td>\n",
       "      <td>0.943044</td>\n",
       "      <td>0.002251</td>\n",
       "      <td>0.066077</td>\n",
       "      <td>0.931672</td>\n",
       "      <td>0.003725</td>\n",
       "      <td>0.064699</td>\n",
       "      <td>0.931577</td>\n",
       "      <td>0.006041</td>\n",
       "      <td>...</td>\n",
       "      <td>0.052655</td>\n",
       "      <td>0.945838</td>\n",
       "      <td>0.001744</td>\n",
       "      <td>0.046608</td>\n",
       "      <td>0.951648</td>\n",
       "      <td>0.001680</td>\n",
       "      <td>0.069370</td>\n",
       "      <td>0.928950</td>\n",
       "      <td>1</td>\n",
       "      <td>1.000000</td>\n",
       "    </tr>\n",
       "    <tr>\n",
       "      <th>...</th>\n",
       "      <td>...</td>\n",
       "      <td>...</td>\n",
       "      <td>...</td>\n",
       "      <td>...</td>\n",
       "      <td>...</td>\n",
       "      <td>...</td>\n",
       "      <td>...</td>\n",
       "      <td>...</td>\n",
       "      <td>...</td>\n",
       "      <td>...</td>\n",
       "      <td>...</td>\n",
       "      <td>...</td>\n",
       "      <td>...</td>\n",
       "      <td>...</td>\n",
       "      <td>...</td>\n",
       "      <td>...</td>\n",
       "      <td>...</td>\n",
       "      <td>...</td>\n",
       "      <td>...</td>\n",
       "      <td>...</td>\n",
       "      <td>...</td>\n",
       "    </tr>\n",
       "    <tr>\n",
       "      <th>6928108</th>\n",
       "      <td>0.660341</td>\n",
       "      <td>0.223336</td>\n",
       "      <td>0.116323</td>\n",
       "      <td>0.625436</td>\n",
       "      <td>0.248864</td>\n",
       "      <td>0.125700</td>\n",
       "      <td>0.466859</td>\n",
       "      <td>0.379503</td>\n",
       "      <td>0.153639</td>\n",
       "      <td>0.450029</td>\n",
       "      <td>...</td>\n",
       "      <td>0.294405</td>\n",
       "      <td>0.167000</td>\n",
       "      <td>0.619873</td>\n",
       "      <td>0.256706</td>\n",
       "      <td>0.123421</td>\n",
       "      <td>0.652127</td>\n",
       "      <td>0.261873</td>\n",
       "      <td>0.086000</td>\n",
       "      <td>0</td>\n",
       "      <td>nan</td>\n",
       "    </tr>\n",
       "    <tr>\n",
       "      <th>6906674</th>\n",
       "      <td>0.009475</td>\n",
       "      <td>0.257527</td>\n",
       "      <td>0.732999</td>\n",
       "      <td>0.007384</td>\n",
       "      <td>0.218222</td>\n",
       "      <td>0.774394</td>\n",
       "      <td>0.005954</td>\n",
       "      <td>0.214454</td>\n",
       "      <td>0.779591</td>\n",
       "      <td>0.012444</td>\n",
       "      <td>...</td>\n",
       "      <td>0.245726</td>\n",
       "      <td>0.749300</td>\n",
       "      <td>0.007982</td>\n",
       "      <td>0.233083</td>\n",
       "      <td>0.758935</td>\n",
       "      <td>0.011999</td>\n",
       "      <td>0.247545</td>\n",
       "      <td>0.740456</td>\n",
       "      <td>0</td>\n",
       "      <td>nan</td>\n",
       "    </tr>\n",
       "    <tr>\n",
       "      <th>6897967</th>\n",
       "      <td>0.000316</td>\n",
       "      <td>0.014360</td>\n",
       "      <td>0.985324</td>\n",
       "      <td>0.000709</td>\n",
       "      <td>0.024006</td>\n",
       "      <td>0.975284</td>\n",
       "      <td>0.001355</td>\n",
       "      <td>0.026357</td>\n",
       "      <td>0.972288</td>\n",
       "      <td>0.004930</td>\n",
       "      <td>...</td>\n",
       "      <td>0.016511</td>\n",
       "      <td>0.982933</td>\n",
       "      <td>0.000590</td>\n",
       "      <td>0.015106</td>\n",
       "      <td>0.984304</td>\n",
       "      <td>0.000654</td>\n",
       "      <td>0.022459</td>\n",
       "      <td>0.976887</td>\n",
       "      <td>0</td>\n",
       "      <td>nan</td>\n",
       "    </tr>\n",
       "    <tr>\n",
       "      <th>6842183</th>\n",
       "      <td>0.000625</td>\n",
       "      <td>0.029586</td>\n",
       "      <td>0.969789</td>\n",
       "      <td>0.000619</td>\n",
       "      <td>0.036247</td>\n",
       "      <td>0.963134</td>\n",
       "      <td>0.001397</td>\n",
       "      <td>0.034048</td>\n",
       "      <td>0.964555</td>\n",
       "      <td>0.002638</td>\n",
       "      <td>...</td>\n",
       "      <td>0.031625</td>\n",
       "      <td>0.967827</td>\n",
       "      <td>0.000772</td>\n",
       "      <td>0.035862</td>\n",
       "      <td>0.963366</td>\n",
       "      <td>0.000529</td>\n",
       "      <td>0.037800</td>\n",
       "      <td>0.961671</td>\n",
       "      <td>0</td>\n",
       "      <td>nan</td>\n",
       "    </tr>\n",
       "    <tr>\n",
       "      <th>6889319</th>\n",
       "      <td>0.025145</td>\n",
       "      <td>0.320970</td>\n",
       "      <td>0.653885</td>\n",
       "      <td>0.037004</td>\n",
       "      <td>0.363502</td>\n",
       "      <td>0.599495</td>\n",
       "      <td>0.066078</td>\n",
       "      <td>0.454431</td>\n",
       "      <td>0.479491</td>\n",
       "      <td>0.029530</td>\n",
       "      <td>...</td>\n",
       "      <td>0.450928</td>\n",
       "      <td>0.501535</td>\n",
       "      <td>0.020501</td>\n",
       "      <td>0.290479</td>\n",
       "      <td>0.689020</td>\n",
       "      <td>0.023069</td>\n",
       "      <td>0.232497</td>\n",
       "      <td>0.744434</td>\n",
       "      <td>0</td>\n",
       "      <td>nan</td>\n",
       "    </tr>\n",
       "  </tbody>\n",
       "</table>\n",
       "<p>124011 rows × 503 columns</p>\n",
       "</div>"
      ],
      "text/plain": [
       "            high_XGBClassifier_b7bffc_0.537  \\\n",
       "listing_id                                    \n",
       "7170325                            0.015991   \n",
       "7092344                            0.076603   \n",
       "7158677                            0.012489   \n",
       "7211212                            0.031132   \n",
       "7225292                            0.001184   \n",
       "...                                     ...   \n",
       "6928108                            0.660341   \n",
       "6906674                            0.009475   \n",
       "6897967                            0.000316   \n",
       "6842183                            0.000625   \n",
       "6889319                            0.025145   \n",
       "\n",
       "            medium_XGBClassifier_b7bffc_0.537  low_XGBClassifier_b7bffc_0.537  \\\n",
       "listing_id                                                                      \n",
       "7170325                              0.383648                        0.600361   \n",
       "7092344                              0.442511                        0.480887   \n",
       "7158677                              0.201786                        0.785725   \n",
       "7211212                              0.229040                        0.739828   \n",
       "7225292                              0.055771                        0.943044   \n",
       "...                                       ...                             ...   \n",
       "6928108                              0.223336                        0.116323   \n",
       "6906674                              0.257527                        0.732999   \n",
       "6897967                              0.014360                        0.985324   \n",
       "6842183                              0.029586                        0.969789   \n",
       "6889319                              0.320970                        0.653885   \n",
       "\n",
       "            high_LGBMClassifier_a2f6d9_0.538  \\\n",
       "listing_id                                     \n",
       "7170325                             0.014799   \n",
       "7092344                             0.082838   \n",
       "7158677                             0.009752   \n",
       "7211212                             0.020930   \n",
       "7225292                             0.002251   \n",
       "...                                      ...   \n",
       "6928108                             0.625436   \n",
       "6906674                             0.007384   \n",
       "6897967                             0.000709   \n",
       "6842183                             0.000619   \n",
       "6889319                             0.037004   \n",
       "\n",
       "            medium_LGBMClassifier_a2f6d9_0.538  \\\n",
       "listing_id                                       \n",
       "7170325                               0.288568   \n",
       "7092344                               0.589275   \n",
       "7158677                               0.300312   \n",
       "7211212                               0.199562   \n",
       "7225292                               0.066077   \n",
       "...                                        ...   \n",
       "6928108                               0.248864   \n",
       "6906674                               0.218222   \n",
       "6897967                               0.024006   \n",
       "6842183                               0.036247   \n",
       "6889319                               0.363502   \n",
       "\n",
       "            low_LGBMClassifier_a2f6d9_0.538  high_LGBMClassifier_4265b5_0.537  \\\n",
       "listing_id                                                                      \n",
       "7170325                            0.696633                          0.024960   \n",
       "7092344                            0.327887                          0.062741   \n",
       "7158677                            0.689937                          0.012250   \n",
       "7211212                            0.779508                          0.036899   \n",
       "7225292                            0.931672                          0.003725   \n",
       "...                                     ...                               ...   \n",
       "6928108                            0.125700                          0.466859   \n",
       "6906674                            0.774394                          0.005954   \n",
       "6897967                            0.975284                          0.001355   \n",
       "6842183                            0.963134                          0.001397   \n",
       "6889319                            0.599495                          0.066078   \n",
       "\n",
       "            medium_LGBMClassifier_4265b5_0.537  \\\n",
       "listing_id                                       \n",
       "7170325                               0.374595   \n",
       "7092344                               0.622731   \n",
       "7158677                               0.250385   \n",
       "7211212                               0.255091   \n",
       "7225292                               0.064699   \n",
       "...                                        ...   \n",
       "6928108                               0.379503   \n",
       "6906674                               0.214454   \n",
       "6897967                               0.026357   \n",
       "6842183                               0.034048   \n",
       "6889319                               0.454431   \n",
       "\n",
       "            low_LGBMClassifier_4265b5_0.537  high_XGBClassifier_f8920e_0.549  \\\n",
       "listing_id                                                                     \n",
       "7170325                            0.600445                         0.050439   \n",
       "7092344                            0.314528                         0.078833   \n",
       "7158677                            0.737365                         0.022295   \n",
       "7211212                            0.708011                         0.056861   \n",
       "7225292                            0.931577                         0.006041   \n",
       "...                                     ...                              ...   \n",
       "6928108                            0.153639                         0.450029   \n",
       "6906674                            0.779591                         0.012444   \n",
       "6897967                            0.972288                         0.004930   \n",
       "6842183                            0.964555                         0.002638   \n",
       "6889319                            0.479491                         0.029530   \n",
       "\n",
       "            ...  medium_LGBMClassifier_4dfd2f_0.543  \\\n",
       "listing_id  ...                                       \n",
       "7170325     ...                            0.342669   \n",
       "7092344     ...                            0.662088   \n",
       "7158677     ...                            0.274707   \n",
       "7211212     ...                            0.244794   \n",
       "7225292     ...                            0.052655   \n",
       "...         ...                                 ...   \n",
       "6928108     ...                            0.294405   \n",
       "6906674     ...                            0.245726   \n",
       "6897967     ...                            0.016511   \n",
       "6842183     ...                            0.031625   \n",
       "6889319     ...                            0.450928   \n",
       "\n",
       "            low_LGBMClassifier_4dfd2f_0.543  high_XGBClassifier_f5884f_0.536  \\\n",
       "listing_id                                                                     \n",
       "7170325                            0.646591                         0.025680   \n",
       "7092344                            0.295039                         0.069985   \n",
       "7158677                            0.718715                         0.014403   \n",
       "7211212                            0.736652                         0.040647   \n",
       "7225292                            0.945838                         0.001744   \n",
       "...                                     ...                              ...   \n",
       "6928108                            0.167000                         0.619873   \n",
       "6906674                            0.749300                         0.007982   \n",
       "6897967                            0.982933                         0.000590   \n",
       "6842183                            0.967827                         0.000772   \n",
       "6889319                            0.501535                         0.020501   \n",
       "\n",
       "            medium_XGBClassifier_f5884f_0.536  low_XGBClassifier_f5884f_0.536  \\\n",
       "listing_id                                                                      \n",
       "7170325                              0.419893                        0.554427   \n",
       "7092344                              0.462028                        0.467987   \n",
       "7158677                              0.235764                        0.749833   \n",
       "7211212                              0.292849                        0.666504   \n",
       "7225292                              0.046608                        0.951648   \n",
       "...                                       ...                             ...   \n",
       "6928108                              0.256706                        0.123421   \n",
       "6906674                              0.233083                        0.758935   \n",
       "6897967                              0.015106                        0.984304   \n",
       "6842183                              0.035862                        0.963366   \n",
       "6889319                              0.290479                        0.689020   \n",
       "\n",
       "            high_XGBClassifier_570512_0.547  \\\n",
       "listing_id                                    \n",
       "7170325                            0.032783   \n",
       "7092344                            0.077435   \n",
       "7158677                            0.023209   \n",
       "7211212                            0.041665   \n",
       "7225292                            0.001680   \n",
       "...                                     ...   \n",
       "6928108                            0.652127   \n",
       "6906674                            0.011999   \n",
       "6897967                            0.000654   \n",
       "6842183                            0.000529   \n",
       "6889319                            0.023069   \n",
       "\n",
       "            medium_XGBClassifier_570512_0.547  low_XGBClassifier_570512_0.547  \\\n",
       "listing_id                                                                      \n",
       "7170325                              0.403438                        0.563779   \n",
       "7092344                              0.355732                        0.566833   \n",
       "7158677                              0.226445                        0.750346   \n",
       "7211212                              0.366000                        0.592334   \n",
       "7225292                              0.069370                        0.928950   \n",
       "...                                       ...                             ...   \n",
       "6928108                              0.261873                        0.086000   \n",
       "6906674                              0.247545                        0.740456   \n",
       "6897967                              0.022459                        0.976887   \n",
       "6842183                              0.037800                        0.961671   \n",
       "6889319                              0.232497                        0.744434   \n",
       "\n",
       "            training   target  \n",
       "listing_id                     \n",
       "7170325            1 2.000000  \n",
       "7092344            1 1.000000  \n",
       "7158677            1 2.000000  \n",
       "7211212            1 2.000000  \n",
       "7225292            1 1.000000  \n",
       "...              ...      ...  \n",
       "6928108            0      nan  \n",
       "6906674            0      nan  \n",
       "6897967            0      nan  \n",
       "6842183            0      nan  \n",
       "6889319            0      nan  \n",
       "\n",
       "[124011 rows x 503 columns]"
      ]
     },
     "execution_count": 249,
     "metadata": {},
     "output_type": "execute_result"
    }
   ],
   "source": [
    "X"
   ]
  },
  {
   "cell_type": "code",
   "execution_count": 219,
   "metadata": {
    "execution": {
     "iopub.execute_input": "2020-06-05T14:32:26.312815Z",
     "iopub.status.busy": "2020-06-05T14:32:26.312207Z",
     "iopub.status.idle": "2020-06-05T14:34:32.924222Z",
     "shell.execute_reply": "2020-06-05T14:34:32.923760Z",
     "shell.execute_reply.started": "2020-06-05T14:32:26.312739Z"
    }
   },
   "outputs": [],
   "source": [
    "clf=LogisticRegression(penalty= 'l2', C = 0.1 ,solver='saga', tol=1e-2, max_iter=200,random_state=0)\n",
    "test_pred,yoof,log_loss_score=model_predict(X.drop(columns=['target','training']),X['training'],X['target'], clf = clf)\n"
   ]
  },
  {
   "cell_type": "code",
   "execution_count": 220,
   "metadata": {
    "execution": {
     "iopub.execute_input": "2020-06-05T14:34:32.924949Z",
     "iopub.status.busy": "2020-06-05T14:34:32.924820Z",
     "iopub.status.idle": "2020-06-05T14:34:32.927685Z",
     "shell.execute_reply": "2020-06-05T14:34:32.927293Z",
     "shell.execute_reply.started": "2020-06-05T14:34:32.924932Z"
    }
   },
   "outputs": [
    {
     "data": {
      "text/plain": [
       "0.5346526982370798"
      ]
     },
     "execution_count": 220,
     "metadata": {},
     "output_type": "execute_result"
    }
   ],
   "source": [
    "log_loss_score #L2 0.1"
   ]
  },
  {
   "cell_type": "code",
   "execution_count": 209,
   "metadata": {
    "execution": {
     "iopub.execute_input": "2020-06-05T14:20:39.785525Z",
     "iopub.status.busy": "2020-06-05T14:20:39.785400Z",
     "iopub.status.idle": "2020-06-05T14:20:39.788098Z",
     "shell.execute_reply": "2020-06-05T14:20:39.787755Z",
     "shell.execute_reply.started": "2020-06-05T14:20:39.785508Z"
    }
   },
   "outputs": [
    {
     "data": {
      "text/plain": [
       "0.5346526982370798"
      ]
     },
     "execution_count": 209,
     "metadata": {},
     "output_type": "execute_result"
    }
   ],
   "source": [
    "log_loss_score #L2 0.1"
   ]
  },
  {
   "cell_type": "code",
   "execution_count": 205,
   "metadata": {
    "execution": {
     "iopub.execute_input": "2020-06-05T14:10:57.746662Z",
     "iopub.status.busy": "2020-06-05T14:10:57.746540Z",
     "iopub.status.idle": "2020-06-05T14:10:57.749224Z",
     "shell.execute_reply": "2020-06-05T14:10:57.748931Z",
     "shell.execute_reply.started": "2020-06-05T14:10:57.746645Z"
    }
   },
   "outputs": [
    {
     "data": {
      "text/plain": [
       "0.5370716937496343"
      ]
     },
     "execution_count": 205,
     "metadata": {},
     "output_type": "execute_result"
    }
   ],
   "source": [
    "log_loss_score #L1 0.1"
   ]
  },
  {
   "cell_type": "code",
   "execution_count": null,
   "metadata": {},
   "outputs": [],
   "source": []
  },
  {
   "cell_type": "code",
   "execution_count": 241,
   "metadata": {
    "execution": {
     "iopub.execute_input": "2020-06-05T14:39:43.209250Z",
     "iopub.status.busy": "2020-06-05T14:39:43.209086Z",
     "iopub.status.idle": "2020-06-05T14:39:43.245508Z",
     "shell.execute_reply": "2020-06-05T14:39:43.245092Z",
     "shell.execute_reply.started": "2020-06-05T14:39:43.209228Z"
    }
   },
   "outputs": [
    {
     "data": {
      "text/html": [
       "<div>\n",
       "<style scoped>\n",
       "    .dataframe tbody tr th:only-of-type {\n",
       "        vertical-align: middle;\n",
       "    }\n",
       "\n",
       "    .dataframe tbody tr th {\n",
       "        vertical-align: top;\n",
       "    }\n",
       "\n",
       "    .dataframe thead th {\n",
       "        text-align: right;\n",
       "    }\n",
       "</style>\n",
       "<table border=\"1\" class=\"dataframe\">\n",
       "  <thead>\n",
       "    <tr style=\"text-align: right;\">\n",
       "      <th></th>\n",
       "      <th>high_RandomForestClassifier_b4dd0f_0.579</th>\n",
       "      <th>medium_RandomForestClassifier_b4dd0f_0.579</th>\n",
       "      <th>low_RandomForestClassifier_b4dd0f_0.579</th>\n",
       "      <th>high_XGBClassifier_b7bffc_0.537</th>\n",
       "      <th>medium_XGBClassifier_b7bffc_0.537</th>\n",
       "      <th>low_XGBClassifier_b7bffc_0.537</th>\n",
       "      <th>high_LGBMClassifier_a2f6d9_0.538</th>\n",
       "      <th>medium_LGBMClassifier_a2f6d9_0.538</th>\n",
       "      <th>low_LGBMClassifier_a2f6d9_0.538</th>\n",
       "      <th>high_LGBMClassifier_4265b5_0.537</th>\n",
       "      <th>...</th>\n",
       "      <th>medium_XGBClassifier_f5884f_0.536</th>\n",
       "      <th>low_XGBClassifier_f5884f_0.536</th>\n",
       "      <th>high_XGBClassifier_570512_0.547</th>\n",
       "      <th>medium_XGBClassifier_570512_0.547</th>\n",
       "      <th>low_XGBClassifier_570512_0.547</th>\n",
       "      <th>high_RandomForestClassifier_e597d7_0.569</th>\n",
       "      <th>medium_RandomForestClassifier_e597d7_0.569</th>\n",
       "      <th>low_RandomForestClassifier_e597d7_0.569</th>\n",
       "      <th>training</th>\n",
       "      <th>target</th>\n",
       "    </tr>\n",
       "    <tr>\n",
       "      <th>listing_id</th>\n",
       "      <th></th>\n",
       "      <th></th>\n",
       "      <th></th>\n",
       "      <th></th>\n",
       "      <th></th>\n",
       "      <th></th>\n",
       "      <th></th>\n",
       "      <th></th>\n",
       "      <th></th>\n",
       "      <th></th>\n",
       "      <th></th>\n",
       "      <th></th>\n",
       "      <th></th>\n",
       "      <th></th>\n",
       "      <th></th>\n",
       "      <th></th>\n",
       "      <th></th>\n",
       "      <th></th>\n",
       "      <th></th>\n",
       "      <th></th>\n",
       "      <th></th>\n",
       "    </tr>\n",
       "  </thead>\n",
       "  <tbody>\n",
       "    <tr>\n",
       "      <th>7170325</th>\n",
       "      <td>0.097993</td>\n",
       "      <td>0.419553</td>\n",
       "      <td>0.482454</td>\n",
       "      <td>0.015991</td>\n",
       "      <td>0.383648</td>\n",
       "      <td>0.600361</td>\n",
       "      <td>0.014799</td>\n",
       "      <td>0.288568</td>\n",
       "      <td>0.696633</td>\n",
       "      <td>0.024960</td>\n",
       "      <td>...</td>\n",
       "      <td>0.419893</td>\n",
       "      <td>0.554427</td>\n",
       "      <td>0.032783</td>\n",
       "      <td>0.403438</td>\n",
       "      <td>0.563779</td>\n",
       "      <td>0.089511</td>\n",
       "      <td>0.451286</td>\n",
       "      <td>0.459203</td>\n",
       "      <td>1</td>\n",
       "      <td>2.000000</td>\n",
       "    </tr>\n",
       "    <tr>\n",
       "      <th>7092344</th>\n",
       "      <td>0.087893</td>\n",
       "      <td>0.397851</td>\n",
       "      <td>0.514256</td>\n",
       "      <td>0.076603</td>\n",
       "      <td>0.442511</td>\n",
       "      <td>0.480887</td>\n",
       "      <td>0.082838</td>\n",
       "      <td>0.589275</td>\n",
       "      <td>0.327887</td>\n",
       "      <td>0.062741</td>\n",
       "      <td>...</td>\n",
       "      <td>0.462028</td>\n",
       "      <td>0.467987</td>\n",
       "      <td>0.077435</td>\n",
       "      <td>0.355732</td>\n",
       "      <td>0.566833</td>\n",
       "      <td>0.080648</td>\n",
       "      <td>0.420899</td>\n",
       "      <td>0.498453</td>\n",
       "      <td>1</td>\n",
       "      <td>1.000000</td>\n",
       "    </tr>\n",
       "    <tr>\n",
       "      <th>7158677</th>\n",
       "      <td>0.022211</td>\n",
       "      <td>0.239795</td>\n",
       "      <td>0.737994</td>\n",
       "      <td>0.012489</td>\n",
       "      <td>0.201786</td>\n",
       "      <td>0.785725</td>\n",
       "      <td>0.009752</td>\n",
       "      <td>0.300312</td>\n",
       "      <td>0.689937</td>\n",
       "      <td>0.012250</td>\n",
       "      <td>...</td>\n",
       "      <td>0.235764</td>\n",
       "      <td>0.749833</td>\n",
       "      <td>0.023209</td>\n",
       "      <td>0.226445</td>\n",
       "      <td>0.750346</td>\n",
       "      <td>0.015490</td>\n",
       "      <td>0.244513</td>\n",
       "      <td>0.739997</td>\n",
       "      <td>1</td>\n",
       "      <td>2.000000</td>\n",
       "    </tr>\n",
       "    <tr>\n",
       "      <th>7211212</th>\n",
       "      <td>0.049631</td>\n",
       "      <td>0.255677</td>\n",
       "      <td>0.694692</td>\n",
       "      <td>0.031132</td>\n",
       "      <td>0.229040</td>\n",
       "      <td>0.739828</td>\n",
       "      <td>0.020930</td>\n",
       "      <td>0.199562</td>\n",
       "      <td>0.779508</td>\n",
       "      <td>0.036899</td>\n",
       "      <td>...</td>\n",
       "      <td>0.292849</td>\n",
       "      <td>0.666504</td>\n",
       "      <td>0.041665</td>\n",
       "      <td>0.366000</td>\n",
       "      <td>0.592334</td>\n",
       "      <td>0.048544</td>\n",
       "      <td>0.248181</td>\n",
       "      <td>0.703275</td>\n",
       "      <td>1</td>\n",
       "      <td>2.000000</td>\n",
       "    </tr>\n",
       "    <tr>\n",
       "      <th>7225292</th>\n",
       "      <td>0.005010</td>\n",
       "      <td>0.074486</td>\n",
       "      <td>0.920504</td>\n",
       "      <td>0.001184</td>\n",
       "      <td>0.055771</td>\n",
       "      <td>0.943044</td>\n",
       "      <td>0.002251</td>\n",
       "      <td>0.066077</td>\n",
       "      <td>0.931672</td>\n",
       "      <td>0.003725</td>\n",
       "      <td>...</td>\n",
       "      <td>0.046608</td>\n",
       "      <td>0.951648</td>\n",
       "      <td>0.001680</td>\n",
       "      <td>0.069370</td>\n",
       "      <td>0.928950</td>\n",
       "      <td>0.001870</td>\n",
       "      <td>0.049536</td>\n",
       "      <td>0.948594</td>\n",
       "      <td>1</td>\n",
       "      <td>1.000000</td>\n",
       "    </tr>\n",
       "    <tr>\n",
       "      <th>...</th>\n",
       "      <td>...</td>\n",
       "      <td>...</td>\n",
       "      <td>...</td>\n",
       "      <td>...</td>\n",
       "      <td>...</td>\n",
       "      <td>...</td>\n",
       "      <td>...</td>\n",
       "      <td>...</td>\n",
       "      <td>...</td>\n",
       "      <td>...</td>\n",
       "      <td>...</td>\n",
       "      <td>...</td>\n",
       "      <td>...</td>\n",
       "      <td>...</td>\n",
       "      <td>...</td>\n",
       "      <td>...</td>\n",
       "      <td>...</td>\n",
       "      <td>...</td>\n",
       "      <td>...</td>\n",
       "      <td>...</td>\n",
       "      <td>...</td>\n",
       "    </tr>\n",
       "    <tr>\n",
       "      <th>6928108</th>\n",
       "      <td>0.389980</td>\n",
       "      <td>0.407730</td>\n",
       "      <td>0.202289</td>\n",
       "      <td>0.660341</td>\n",
       "      <td>0.223336</td>\n",
       "      <td>0.116323</td>\n",
       "      <td>0.625436</td>\n",
       "      <td>0.248864</td>\n",
       "      <td>0.125700</td>\n",
       "      <td>0.466859</td>\n",
       "      <td>...</td>\n",
       "      <td>0.256706</td>\n",
       "      <td>0.123421</td>\n",
       "      <td>0.652127</td>\n",
       "      <td>0.261873</td>\n",
       "      <td>0.086000</td>\n",
       "      <td>0.375048</td>\n",
       "      <td>0.439519</td>\n",
       "      <td>0.185433</td>\n",
       "      <td>0</td>\n",
       "      <td>nan</td>\n",
       "    </tr>\n",
       "    <tr>\n",
       "      <th>6906674</th>\n",
       "      <td>0.014163</td>\n",
       "      <td>0.172779</td>\n",
       "      <td>0.813058</td>\n",
       "      <td>0.009475</td>\n",
       "      <td>0.257527</td>\n",
       "      <td>0.732999</td>\n",
       "      <td>0.007384</td>\n",
       "      <td>0.218222</td>\n",
       "      <td>0.774394</td>\n",
       "      <td>0.005954</td>\n",
       "      <td>...</td>\n",
       "      <td>0.233083</td>\n",
       "      <td>0.758935</td>\n",
       "      <td>0.011999</td>\n",
       "      <td>0.247545</td>\n",
       "      <td>0.740456</td>\n",
       "      <td>0.009236</td>\n",
       "      <td>0.164934</td>\n",
       "      <td>0.825830</td>\n",
       "      <td>0</td>\n",
       "      <td>nan</td>\n",
       "    </tr>\n",
       "    <tr>\n",
       "      <th>6897967</th>\n",
       "      <td>0.013008</td>\n",
       "      <td>0.078832</td>\n",
       "      <td>0.908160</td>\n",
       "      <td>0.000316</td>\n",
       "      <td>0.014360</td>\n",
       "      <td>0.985324</td>\n",
       "      <td>0.000709</td>\n",
       "      <td>0.024006</td>\n",
       "      <td>0.975284</td>\n",
       "      <td>0.001355</td>\n",
       "      <td>...</td>\n",
       "      <td>0.015106</td>\n",
       "      <td>0.984304</td>\n",
       "      <td>0.000654</td>\n",
       "      <td>0.022459</td>\n",
       "      <td>0.976887</td>\n",
       "      <td>0.007314</td>\n",
       "      <td>0.048164</td>\n",
       "      <td>0.944522</td>\n",
       "      <td>0</td>\n",
       "      <td>nan</td>\n",
       "    </tr>\n",
       "    <tr>\n",
       "      <th>6842183</th>\n",
       "      <td>0.001604</td>\n",
       "      <td>0.031609</td>\n",
       "      <td>0.966787</td>\n",
       "      <td>0.000625</td>\n",
       "      <td>0.029586</td>\n",
       "      <td>0.969789</td>\n",
       "      <td>0.000619</td>\n",
       "      <td>0.036247</td>\n",
       "      <td>0.963134</td>\n",
       "      <td>0.001397</td>\n",
       "      <td>...</td>\n",
       "      <td>0.035862</td>\n",
       "      <td>0.963366</td>\n",
       "      <td>0.000529</td>\n",
       "      <td>0.037800</td>\n",
       "      <td>0.961671</td>\n",
       "      <td>0.000242</td>\n",
       "      <td>0.023344</td>\n",
       "      <td>0.976414</td>\n",
       "      <td>0</td>\n",
       "      <td>nan</td>\n",
       "    </tr>\n",
       "    <tr>\n",
       "      <th>6889319</th>\n",
       "      <td>0.048098</td>\n",
       "      <td>0.332716</td>\n",
       "      <td>0.619186</td>\n",
       "      <td>0.025145</td>\n",
       "      <td>0.320970</td>\n",
       "      <td>0.653885</td>\n",
       "      <td>0.037004</td>\n",
       "      <td>0.363502</td>\n",
       "      <td>0.599495</td>\n",
       "      <td>0.066078</td>\n",
       "      <td>...</td>\n",
       "      <td>0.290479</td>\n",
       "      <td>0.689020</td>\n",
       "      <td>0.023069</td>\n",
       "      <td>0.232497</td>\n",
       "      <td>0.744434</td>\n",
       "      <td>0.035806</td>\n",
       "      <td>0.351994</td>\n",
       "      <td>0.612200</td>\n",
       "      <td>0</td>\n",
       "      <td>nan</td>\n",
       "    </tr>\n",
       "  </tbody>\n",
       "</table>\n",
       "<p>124011 rows × 1088 columns</p>\n",
       "</div>"
      ],
      "text/plain": [
       "            high_RandomForestClassifier_b4dd0f_0.579  \\\n",
       "listing_id                                             \n",
       "7170325                                     0.097993   \n",
       "7092344                                     0.087893   \n",
       "7158677                                     0.022211   \n",
       "7211212                                     0.049631   \n",
       "7225292                                     0.005010   \n",
       "...                                              ...   \n",
       "6928108                                     0.389980   \n",
       "6906674                                     0.014163   \n",
       "6897967                                     0.013008   \n",
       "6842183                                     0.001604   \n",
       "6889319                                     0.048098   \n",
       "\n",
       "            medium_RandomForestClassifier_b4dd0f_0.579  \\\n",
       "listing_id                                               \n",
       "7170325                                       0.419553   \n",
       "7092344                                       0.397851   \n",
       "7158677                                       0.239795   \n",
       "7211212                                       0.255677   \n",
       "7225292                                       0.074486   \n",
       "...                                                ...   \n",
       "6928108                                       0.407730   \n",
       "6906674                                       0.172779   \n",
       "6897967                                       0.078832   \n",
       "6842183                                       0.031609   \n",
       "6889319                                       0.332716   \n",
       "\n",
       "            low_RandomForestClassifier_b4dd0f_0.579  \\\n",
       "listing_id                                            \n",
       "7170325                                    0.482454   \n",
       "7092344                                    0.514256   \n",
       "7158677                                    0.737994   \n",
       "7211212                                    0.694692   \n",
       "7225292                                    0.920504   \n",
       "...                                             ...   \n",
       "6928108                                    0.202289   \n",
       "6906674                                    0.813058   \n",
       "6897967                                    0.908160   \n",
       "6842183                                    0.966787   \n",
       "6889319                                    0.619186   \n",
       "\n",
       "            high_XGBClassifier_b7bffc_0.537  \\\n",
       "listing_id                                    \n",
       "7170325                            0.015991   \n",
       "7092344                            0.076603   \n",
       "7158677                            0.012489   \n",
       "7211212                            0.031132   \n",
       "7225292                            0.001184   \n",
       "...                                     ...   \n",
       "6928108                            0.660341   \n",
       "6906674                            0.009475   \n",
       "6897967                            0.000316   \n",
       "6842183                            0.000625   \n",
       "6889319                            0.025145   \n",
       "\n",
       "            medium_XGBClassifier_b7bffc_0.537  low_XGBClassifier_b7bffc_0.537  \\\n",
       "listing_id                                                                      \n",
       "7170325                              0.383648                        0.600361   \n",
       "7092344                              0.442511                        0.480887   \n",
       "7158677                              0.201786                        0.785725   \n",
       "7211212                              0.229040                        0.739828   \n",
       "7225292                              0.055771                        0.943044   \n",
       "...                                       ...                             ...   \n",
       "6928108                              0.223336                        0.116323   \n",
       "6906674                              0.257527                        0.732999   \n",
       "6897967                              0.014360                        0.985324   \n",
       "6842183                              0.029586                        0.969789   \n",
       "6889319                              0.320970                        0.653885   \n",
       "\n",
       "            high_LGBMClassifier_a2f6d9_0.538  \\\n",
       "listing_id                                     \n",
       "7170325                             0.014799   \n",
       "7092344                             0.082838   \n",
       "7158677                             0.009752   \n",
       "7211212                             0.020930   \n",
       "7225292                             0.002251   \n",
       "...                                      ...   \n",
       "6928108                             0.625436   \n",
       "6906674                             0.007384   \n",
       "6897967                             0.000709   \n",
       "6842183                             0.000619   \n",
       "6889319                             0.037004   \n",
       "\n",
       "            medium_LGBMClassifier_a2f6d9_0.538  \\\n",
       "listing_id                                       \n",
       "7170325                               0.288568   \n",
       "7092344                               0.589275   \n",
       "7158677                               0.300312   \n",
       "7211212                               0.199562   \n",
       "7225292                               0.066077   \n",
       "...                                        ...   \n",
       "6928108                               0.248864   \n",
       "6906674                               0.218222   \n",
       "6897967                               0.024006   \n",
       "6842183                               0.036247   \n",
       "6889319                               0.363502   \n",
       "\n",
       "            low_LGBMClassifier_a2f6d9_0.538  high_LGBMClassifier_4265b5_0.537  \\\n",
       "listing_id                                                                      \n",
       "7170325                            0.696633                          0.024960   \n",
       "7092344                            0.327887                          0.062741   \n",
       "7158677                            0.689937                          0.012250   \n",
       "7211212                            0.779508                          0.036899   \n",
       "7225292                            0.931672                          0.003725   \n",
       "...                                     ...                               ...   \n",
       "6928108                            0.125700                          0.466859   \n",
       "6906674                            0.774394                          0.005954   \n",
       "6897967                            0.975284                          0.001355   \n",
       "6842183                            0.963134                          0.001397   \n",
       "6889319                            0.599495                          0.066078   \n",
       "\n",
       "            ...  medium_XGBClassifier_f5884f_0.536  \\\n",
       "listing_id  ...                                      \n",
       "7170325     ...                           0.419893   \n",
       "7092344     ...                           0.462028   \n",
       "7158677     ...                           0.235764   \n",
       "7211212     ...                           0.292849   \n",
       "7225292     ...                           0.046608   \n",
       "...         ...                                ...   \n",
       "6928108     ...                           0.256706   \n",
       "6906674     ...                           0.233083   \n",
       "6897967     ...                           0.015106   \n",
       "6842183     ...                           0.035862   \n",
       "6889319     ...                           0.290479   \n",
       "\n",
       "            low_XGBClassifier_f5884f_0.536  high_XGBClassifier_570512_0.547  \\\n",
       "listing_id                                                                    \n",
       "7170325                           0.554427                         0.032783   \n",
       "7092344                           0.467987                         0.077435   \n",
       "7158677                           0.749833                         0.023209   \n",
       "7211212                           0.666504                         0.041665   \n",
       "7225292                           0.951648                         0.001680   \n",
       "...                                    ...                              ...   \n",
       "6928108                           0.123421                         0.652127   \n",
       "6906674                           0.758935                         0.011999   \n",
       "6897967                           0.984304                         0.000654   \n",
       "6842183                           0.963366                         0.000529   \n",
       "6889319                           0.689020                         0.023069   \n",
       "\n",
       "            medium_XGBClassifier_570512_0.547  low_XGBClassifier_570512_0.547  \\\n",
       "listing_id                                                                      \n",
       "7170325                              0.403438                        0.563779   \n",
       "7092344                              0.355732                        0.566833   \n",
       "7158677                              0.226445                        0.750346   \n",
       "7211212                              0.366000                        0.592334   \n",
       "7225292                              0.069370                        0.928950   \n",
       "...                                       ...                             ...   \n",
       "6928108                              0.261873                        0.086000   \n",
       "6906674                              0.247545                        0.740456   \n",
       "6897967                              0.022459                        0.976887   \n",
       "6842183                              0.037800                        0.961671   \n",
       "6889319                              0.232497                        0.744434   \n",
       "\n",
       "            high_RandomForestClassifier_e597d7_0.569  \\\n",
       "listing_id                                             \n",
       "7170325                                     0.089511   \n",
       "7092344                                     0.080648   \n",
       "7158677                                     0.015490   \n",
       "7211212                                     0.048544   \n",
       "7225292                                     0.001870   \n",
       "...                                              ...   \n",
       "6928108                                     0.375048   \n",
       "6906674                                     0.009236   \n",
       "6897967                                     0.007314   \n",
       "6842183                                     0.000242   \n",
       "6889319                                     0.035806   \n",
       "\n",
       "            medium_RandomForestClassifier_e597d7_0.569  \\\n",
       "listing_id                                               \n",
       "7170325                                       0.451286   \n",
       "7092344                                       0.420899   \n",
       "7158677                                       0.244513   \n",
       "7211212                                       0.248181   \n",
       "7225292                                       0.049536   \n",
       "...                                                ...   \n",
       "6928108                                       0.439519   \n",
       "6906674                                       0.164934   \n",
       "6897967                                       0.048164   \n",
       "6842183                                       0.023344   \n",
       "6889319                                       0.351994   \n",
       "\n",
       "            low_RandomForestClassifier_e597d7_0.569  training   target  \n",
       "listing_id                                                              \n",
       "7170325                                    0.459203         1 2.000000  \n",
       "7092344                                    0.498453         1 1.000000  \n",
       "7158677                                    0.739997         1 2.000000  \n",
       "7211212                                    0.703275         1 2.000000  \n",
       "7225292                                    0.948594         1 1.000000  \n",
       "...                                             ...       ...      ...  \n",
       "6928108                                    0.185433         0      nan  \n",
       "6906674                                    0.825830         0      nan  \n",
       "6897967                                    0.944522         0      nan  \n",
       "6842183                                    0.976414         0      nan  \n",
       "6889319                                    0.612200         0      nan  \n",
       "\n",
       "[124011 rows x 1088 columns]"
      ]
     },
     "execution_count": 241,
     "metadata": {},
     "output_type": "execute_result"
    }
   ],
   "source": [
    "X"
   ]
  },
  {
   "cell_type": "code",
   "execution_count": null,
   "metadata": {},
   "outputs": [],
   "source": []
  },
  {
   "cell_type": "code",
   "execution_count": 143,
   "metadata": {
    "execution": {
     "iopub.execute_input": "2020-06-04T22:37:41.505933Z",
     "iopub.status.busy": "2020-06-04T22:37:41.505818Z",
     "iopub.status.idle": "2020-06-04T22:40:51.654689Z",
     "shell.execute_reply": "2020-06-04T22:40:51.654181Z",
     "shell.execute_reply.started": "2020-06-04T22:37:41.505917Z"
    }
   },
   "outputs": [
    {
     "data": {
      "text/plain": [
       "0.5352596213773132"
      ]
     },
     "execution_count": 143,
     "metadata": {},
     "output_type": "execute_result"
    }
   ],
   "source": [
    "clf=LogisticRegression(random_state=0,solver='lbfgs', C = 1e-2 ,multi_class='auto',n_jobs=-1,fit_intercept=True,max_iter=100)\n",
    "test_pred,yoof,log_loss_score=model_predict(X.drop(columns=['target','training']),X['training'],X['target'], clf = clf)\n",
    "log_loss_score"
   ]
  },
  {
   "cell_type": "code",
   "execution_count": 19,
   "metadata": {
    "execution": {
     "iopub.execute_input": "2020-06-04T18:10:46.937566Z",
     "iopub.status.busy": "2020-06-04T18:10:46.936917Z",
     "iopub.status.idle": "2020-06-04T18:11:36.063643Z",
     "shell.execute_reply": "2020-06-04T18:11:36.063247Z",
     "shell.execute_reply.started": "2020-06-04T18:10:46.937487Z"
    }
   },
   "outputs": [
    {
     "name": "stderr",
     "output_type": "stream",
     "text": [
      "/home/martas/anaconda3/envs/mirko/lib/python3.7/site-packages/sklearn/linear_model/_logistic.py:940: ConvergenceWarning: lbfgs failed to converge (status=1):\n",
      "STOP: TOTAL NO. of ITERATIONS REACHED LIMIT.\n",
      "\n",
      "Increase the number of iterations (max_iter) or scale the data as shown in:\n",
      "    https://scikit-learn.org/stable/modules/preprocessing.html\n",
      "Please also refer to the documentation for alternative solver options:\n",
      "    https://scikit-learn.org/stable/modules/linear_model.html#logistic-regression\n",
      "  extra_warning_msg=_LOGISTIC_SOLVER_CONVERGENCE_MSG)\n",
      "/home/martas/anaconda3/envs/mirko/lib/python3.7/site-packages/sklearn/linear_model/_logistic.py:940: ConvergenceWarning: lbfgs failed to converge (status=1):\n",
      "STOP: TOTAL NO. of ITERATIONS REACHED LIMIT.\n",
      "\n",
      "Increase the number of iterations (max_iter) or scale the data as shown in:\n",
      "    https://scikit-learn.org/stable/modules/preprocessing.html\n",
      "Please also refer to the documentation for alternative solver options:\n",
      "    https://scikit-learn.org/stable/modules/linear_model.html#logistic-regression\n",
      "  extra_warning_msg=_LOGISTIC_SOLVER_CONVERGENCE_MSG)\n",
      "/home/martas/anaconda3/envs/mirko/lib/python3.7/site-packages/sklearn/linear_model/_logistic.py:940: ConvergenceWarning: lbfgs failed to converge (status=1):\n",
      "STOP: TOTAL NO. of ITERATIONS REACHED LIMIT.\n",
      "\n",
      "Increase the number of iterations (max_iter) or scale the data as shown in:\n",
      "    https://scikit-learn.org/stable/modules/preprocessing.html\n",
      "Please also refer to the documentation for alternative solver options:\n",
      "    https://scikit-learn.org/stable/modules/linear_model.html#logistic-regression\n",
      "  extra_warning_msg=_LOGISTIC_SOLVER_CONVERGENCE_MSG)\n",
      "/home/martas/anaconda3/envs/mirko/lib/python3.7/site-packages/sklearn/linear_model/_logistic.py:940: ConvergenceWarning: lbfgs failed to converge (status=1):\n",
      "STOP: TOTAL NO. of ITERATIONS REACHED LIMIT.\n",
      "\n",
      "Increase the number of iterations (max_iter) or scale the data as shown in:\n",
      "    https://scikit-learn.org/stable/modules/preprocessing.html\n",
      "Please also refer to the documentation for alternative solver options:\n",
      "    https://scikit-learn.org/stable/modules/linear_model.html#logistic-regression\n",
      "  extra_warning_msg=_LOGISTIC_SOLVER_CONVERGENCE_MSG)\n",
      "/home/martas/anaconda3/envs/mirko/lib/python3.7/site-packages/sklearn/linear_model/_logistic.py:940: ConvergenceWarning: lbfgs failed to converge (status=1):\n",
      "STOP: TOTAL NO. of ITERATIONS REACHED LIMIT.\n",
      "\n",
      "Increase the number of iterations (max_iter) or scale the data as shown in:\n",
      "    https://scikit-learn.org/stable/modules/preprocessing.html\n",
      "Please also refer to the documentation for alternative solver options:\n",
      "    https://scikit-learn.org/stable/modules/linear_model.html#logistic-regression\n",
      "  extra_warning_msg=_LOGISTIC_SOLVER_CONVERGENCE_MSG)\n",
      "/home/martas/anaconda3/envs/mirko/lib/python3.7/site-packages/sklearn/linear_model/_logistic.py:940: ConvergenceWarning: lbfgs failed to converge (status=1):\n",
      "STOP: TOTAL NO. of ITERATIONS REACHED LIMIT.\n",
      "\n",
      "Increase the number of iterations (max_iter) or scale the data as shown in:\n",
      "    https://scikit-learn.org/stable/modules/preprocessing.html\n",
      "Please also refer to the documentation for alternative solver options:\n",
      "    https://scikit-learn.org/stable/modules/linear_model.html#logistic-regression\n",
      "  extra_warning_msg=_LOGISTIC_SOLVER_CONVERGENCE_MSG)\n"
     ]
    }
   ],
   "source": [
    "clf = LogisticRegression(random_state=0)\n",
    "test_pred,yoof,log_loss_score=model_predict(X.drop(columns=['target','training']),X['training'],X['target'], clf = clf)"
   ]
  },
  {
   "cell_type": "code",
   "execution_count": 20,
   "metadata": {
    "execution": {
     "iopub.execute_input": "2020-06-04T18:11:44.099304Z",
     "iopub.status.busy": "2020-06-04T18:11:44.098705Z",
     "iopub.status.idle": "2020-06-04T18:11:44.104770Z",
     "shell.execute_reply": "2020-06-04T18:11:44.104353Z",
     "shell.execute_reply.started": "2020-06-04T18:11:44.099225Z"
    }
   },
   "outputs": [
    {
     "data": {
      "text/plain": [
       "0.5360029002203738"
      ]
     },
     "execution_count": 20,
     "metadata": {},
     "output_type": "execute_result"
    }
   ],
   "source": [
    "log_loss_score"
   ]
  },
  {
   "cell_type": "code",
   "execution_count": 23,
   "metadata": {
    "execution": {
     "iopub.execute_input": "2020-06-04T18:15:17.741850Z",
     "iopub.status.busy": "2020-06-04T18:15:17.741245Z",
     "iopub.status.idle": "2020-06-04T18:15:18.074066Z",
     "shell.execute_reply": "2020-06-04T18:15:18.073627Z",
     "shell.execute_reply.started": "2020-06-04T18:15:17.741771Z"
    }
   },
   "outputs": [],
   "source": [
    "save_ensemble('ensemble_logistic',test_pred,clf,df_test['listing_id'])"
   ]
  },
  {
   "cell_type": "code",
   "execution_count": null,
   "metadata": {},
   "outputs": [],
   "source": [
    "test_pred,yoof,log_loss_score"
   ]
  },
  {
   "cell_type": "code",
   "execution_count": 250,
   "metadata": {
    "execution": {
     "iopub.execute_input": "2020-06-05T14:43:54.304374Z",
     "iopub.status.busy": "2020-06-05T14:43:54.303780Z",
     "iopub.status.idle": "2020-06-05T14:45:00.252460Z",
     "shell.execute_reply": "2020-06-05T14:45:00.251993Z",
     "shell.execute_reply.started": "2020-06-05T14:43:54.304299Z"
    }
   },
   "outputs": [],
   "source": [
    "X.to_csv('ensemble_predictions_v1.csv', index=True)"
   ]
  },
  {
   "cell_type": "code",
   "execution_count": null,
   "metadata": {},
   "outputs": [],
   "source": []
  }
 ],
 "metadata": {
  "kernelspec": {
   "display_name": "Python 3",
   "language": "python",
   "name": "python3"
  },
  "language_info": {
   "codemirror_mode": {
    "name": "ipython",
    "version": 3
   },
   "file_extension": ".py",
   "mimetype": "text/x-python",
   "name": "python",
   "nbconvert_exporter": "python",
   "pygments_lexer": "ipython3",
   "version": "3.7.6"
  }
 },
 "nbformat": 4,
 "nbformat_minor": 4
}
